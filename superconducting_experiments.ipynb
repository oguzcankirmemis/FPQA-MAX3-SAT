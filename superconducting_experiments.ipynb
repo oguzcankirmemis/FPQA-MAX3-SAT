{
 "cells": [
  {
   "cell_type": "code",
   "execution_count": 56,
   "id": "3d282b13-e6b4-4313-9797-cc3770261ad8",
   "metadata": {
    "scrolled": true
   },
   "outputs": [
    {
     "name": "stdout",
     "output_type": "stream",
     "text": [
      "The autoreload extension is already loaded. To reload it, use:\n",
      "  %reload_ext autoreload\n",
      "20 [[4, -18, 19], [3, 18, -5], [-5, -8, -15], [-20, 7, -16], [10, -13, -7], [-12, -9, 17], [17, 19, 5], [-16, 9, 15], [11, -5, -14], [18, -10, 13], [-3, 11, 12], [-6, -17, -8], [-18, 14, 1], [-19, -15, 10], [12, 18, -19], [-8, 4, 7], [-8, -9, 4], [7, 17, -15], [12, -7, -14], [-10, -11, 8], [2, -15, -11], [9, 6, 1], [-11, 20, -17], [9, -15, 13], [12, -7, -17], [-18, -2, 20], [20, 12, 4], [19, 11, 14], [-16, 18, -4], [-1, -17, -19], [-13, 15, 10], [-12, -14, -13], [12, -14, -7], [-7, 16, 10], [6, 10, 7], [20, 14, -16], [-19, 17, 11], [-7, 1, -20], [-5, 12, 15], [-4, -9, -13], [12, -11, -7], [-5, 19, -8], [1, 16, 17], [20, -14, -15], [13, -4, 10], [14, 7, 10], [-5, 9, 20], [10, 1, -19], [-16, -15, -1], [16, 3, -11], [-15, -10, 4], [4, -15, -3], [-10, -16, 11], [-8, 12, -5], [14, -6, 12], [1, 6, 11], [-13, -5, -1], [-7, -2, 12], [1, -20, 19], [-2, -13, -8], [15, 18, 4], [-11, 14, 9], [-6, -15, -2], [5, -12, -15], [-6, 17, 5], [-13, 5, -19], [20, -1, 14], [9, -17, 15], [-5, 19, -18], [-12, 8, -10], [-18, 14, -4], [15, -9, 13], [9, -5, -1], [10, -19, -14], [20, 9, 4], [-9, -2, 19], [-5, 13, -17], [2, -10, -18], [-18, 3, 11], [7, -9, 17], [-15, -6, -3], [-2, 3, -13], [12, 3, -2], [-2, -3, 17], [20, -15, -16], [-5, -17, -19], [-20, -18, 11], [-9, 1, -5], [-19, 9, 17], [12, -2, 17], [4, -16, -5], [], []]\n",
      "[(-3.0, 'ZIIIIIIIIIIIIIIIIIII', (0,)), (-1.0, 'ZIIIZIIIIIIIIIIIIIII', (0, 4)), (-2.0, 'ZIIIZIIIZIIIIIIIIIII', (0, 4, 8)), (1.0, 'ZIIIZIIIIIIIZIIIIIII', (0, 4, 12)), (-2.0, 'ZIIIIZIIIIIIIIIIIIII', (0, 5)), (-1.0, 'ZIIIIZIIZIIIIIIIIIII', (0, 5, 8)), (-1.0, 'ZIIIIZIIIIZIIIIIIIII', (0, 5, 10)), (1.0, 'ZIIIIIZIIIIIIIIIIIII', (0, 6)), (-1.0, 'ZIIIIIZIIIIIIIIIIIIZ', (0, 6, 19)), (1.0, 'ZIIIIIIIZIIIIIIIIIII', (0, 8)), (-1.0, 'ZIIIIIIIIZIIIIIIIIII', (0, 9)), (1.0, 'ZIIIIIIIIZIIIIIIIIZI', (0, 9, 18)), (-1.0, 'ZIIIIIIIIIZIIIIIIIII', (0, 10)), (-1.0, 'ZIIIIIIIIIIIZIIIIIII', (0, 12)), (1.0, 'ZIIIIIIIIIIIIZIIIZII', (0, 13, 17)), (1.0, 'ZIIIIIIIIIIIIZIIIIIZ', (0, 13, 19)), (-1.0, 'ZIIIIIIIIIIIIIZIIIII', (0, 14)), (1.0, 'ZIIIIIIIIIIIIIZZIIII', (0, 14, 15)), (-2.0, 'ZIIIIIIIIIIIIIIZIIII', (0, 15)), (-1.0, 'ZIIIIIIIIIIIIIIZZIII', (0, 15, 16)), (-2.0, 'ZIIIIIIIIIIIIIIIZIII', (0, 16)), (1.0, 'ZIIIIIIIIIIIIIIIZIZI', (0, 16, 18)), (1.0, 'ZIIIIIIIIIIIIIIIIZII', (0, 17)), (-1.0, 'ZIIIIIIIIIIIIIIIIIZI', (0, 18)), (1.0, 'ZIIIIIIIIIIIIIIIIIZZ', (0, 18, 19)), (3.0, 'ZIIIIIIIIIIIIIIIIIIZ', (0, 19)), (7.0, 'IZIIIIIIIIIIIIIIIIII', (1,)), (1.0, 'IZZIIIIIIIIIIIIIIIII', (1, 2)), (1.0, 'IZZIIIIIIIIZIIIIIIII', (1, 2, 11)), (-1.0, 'IZZIIIIIIIIIZIIIIIII', (1, 2, 12)), (-1.0, 'IZZIIIIIIIIIIIIIZIII', (1, 2, 16)), (-1.0, 'IZIIIZIIIIIIIIIIIIII', (1, 5)), (1.0, 'IZIIIZIIIIIIIIZIIIII', (1, 5, 14)), (-1.0, 'IZIIIIZIIIIIIIIIIIII', (1, 6)), (-1.0, 'IZIIIIZIIIIZIIIIIIII', (1, 6, 11)), (-1.0, 'IZIIIIIZIIIIIIIIIIII', (1, 7)), (1.0, 'IZIIIIIZIIIIZIIIIIII', (1, 7, 12)), (-1.0, 'IZIIIIIIZIIIIIIIIIII', (1, 8)), (-1.0, 'IZIIIIIIZIIIIIIIIIZI', (1, 8, 18)), (1.0, 'IZIIIIIIIZIIIIIIIIII', (1, 9)), (-1.0, 'IZIIIIIIIZIIIIIIIZII', (1, 9, 17)), (1.0, 'IZIIIIIIIIZIIIIIIIII', (1, 10)), (-1.0, 'IZIIIIIIIIZIIIZIIIII', (1, 10, 14)), (3.0, 'IZIIIIIIIIIZIIIIIIII', (1, 11)), (1.0, 'IZIIIIIIIIIZIIIIZIII', (1, 11, 16)), (-2.0, 'IZIIIIIIIIIIZIIIIIII', (1, 12)), (2.0, 'IZIIIIIIIIIIIIIIZIII', (1, 16)), (-1.0, 'IZIIIIIIIIIIIIIIIZIZ', (1, 17, 19)), (1.0, 'IZIIIIIIIIIIIIIIIIZI', (1, 18)), (1.0, 'IZIIIIIIIIIIIIIIIIIZ', (1, 19)), (-1.0, 'IIZIIIIIIIIIIIIIIIII', (2,)), (1.0, 'IIZZIIIIIIIIIIIIIIII', (2, 3)), (-1.0, 'IIZZIIIIIIIIIIZIIIII', (2, 3, 14)), (1.0, 'IIZIZIIIIIIIIIIIIIII', (2, 4)), (1.0, 'IIZIZIIIIIIIIIIIIZII', (2, 4, 17)), (-1.0, 'IIZIIZIIIIIIIIIIIIII', (2, 5)), (1.0, 'IIZIIZIIIIIIIIZIIIII', (2, 5, 14)), (1.0, 'IIZIIIIIIIZIIIIIIIII', (2, 10)), (1.0, 'IIZIIIIIIIZZIIIIIIII', (2, 10, 11)), (1.0, 'IIZIIIIIIIZIIIIZIIII', (2, 10, 15)), (1.0, 'IIZIIIIIIIZIIIIIIZII', (2, 10, 17)), (1.0, 'IIZIIIIIIIIIZIIIIIII', (2, 12)), (-2.0, 'IIZIIIIIIIIIIIZIIIII', (2, 14)), (-1.0, 'IIZIIIIIIIIIIIIZIIII', (2, 15)), (1.0, 'IIZIIIIIIIIIIIIIZIII', (2, 16)), (-5.0, 'IIIZIIIIIIIIIIIIIIII', (3,)), (1.0, 'IIIZZIIIIIIIIIIIIIII', (3, 4)), (-1.0, 'IIIZZIIIIIIIIIIZIIII', (3, 4, 15)), (-1.0, 'IIIZIIZIIIIIIIIIIIII', (3, 6)), (1.0, 'IIIZIIZZIIIIIIIIIIII', (3, 6, 7)), (2.0, 'IIIZIIIZIIIIIIIIIIII', (3, 7)), (-1.0, 'IIIZIIIZZIIIIIIIIIII', (3, 7, 8)), (-1.0, 'IIIZIIIIZIIIIIIIIIII', (3, 8)), (1.0, 'IIIZIIIIZIIIZIIIIIII', (3, 8, 12)), (-1.0, 'IIIZIIIIZIIIIIIIIIIZ', (3, 8, 19)), (2.0, 'IIIZIIIIIZIIIIIIIIII', (3, 9)), (1.0, 'IIIZIIIIIZIIZIIIIIII', (3, 9, 12)), (-1.0, 'IIIZIIIIIZIIIIZIIIII', (3, 9, 14)), (-1.0, 'IIIZIIIIIIIZIIIIIIII', (3, 11)), (-1.0, 'IIIZIIIIIIIZIIIIIIIZ', (3, 11, 19)), (1.0, 'IIIZIIIIIIIIIZIIIIII', (3, 13)), (-1.0, 'IIIZIIIIIIIIIZIIIZII', (3, 13, 17)), (1.0, 'IIIZIIIIIIIIIIZIIIII', (3, 14)), (-1.0, 'IIIZIIIIIIIIIIZIIZII', (3, 14, 17)), (-1.0, 'IIIZIIIIIIIIIIIZIZII', (3, 15, 17)), (1.0, 'IIIZIIIIIIIIIIIIIZZI', (3, 17, 18)), (-1.0, 'IIIZIIIIIIIIIIIIIIZI', (3, 18)), (-2.0, 'IIIZIIIIIIIIIIIIIIIZ', (3, 19)), (10.0, 'IIIIZIIIIIIIIIIIIIII', (4,)), (1.0, 'IIIIZZIIIIIIIIIIIIII', (4, 5)), (1.0, 'IIIIZZIIIIIIIIIIZIII', (4, 5, 16)), (-3.0, 'IIIIZIIZIIIIIIIIIIII', (4, 7)), (-1.0, 'IIIIZIIZIIIZIIIIIIII', (4, 7, 11)), (1.0, 'IIIIZIIZIIIIIIZIIIII', (4, 7, 14)), (-1.0, 'IIIIZIIZIIIIIIIIIIZI', (4, 7, 18)), (1.0, 'IIIIZIIIZIIIIIIIIIII', (4, 8)), (1.0, 'IIIIZIIIZIIIIIIIIIIZ', (4, 8, 19)), (1.0, 'IIIIZIIIIIZIIIIIIIII', (4, 10)), (-1.0, 'IIIIZIIIIIZIIZIIIIII', (4, 10, 13)), (3.0, 'IIIIZIIIIIIZIIIIIIII', (4, 11)), (1.0, 'IIIIZIIIIIIIZIIIIIII', (4, 12)), (-1.0, 'IIIIZIIIIIIIZIIIZIII', (4, 12, 16)), (-1.0, 'IIIIZIIIIIIIZIIIIIZI', (4, 12, 18)), (-1.0, 'IIIIZIIIIIIIIZIIIIII', (4, 13)), (1.0, 'IIIIZIIIIIIIIIZIIIII', (4, 14)), (-1.0, 'IIIIZIIIIIIIIIIZIIII', (4, 15)), (-4.0, 'IIIIZIIIIIIIIIIIZIII', (4, 16)), (-1.0, 'IIIIZIIIIIIIIIIIIZZI', (4, 17, 18)), (1.0, 'IIIIZIIIIIIIIIIIIIZI', (4, 18)), (1.0, 'IIIIZIIIIIIIIIIIIIIZ', (4, 19)), (2.0, 'IIIIIZIIIIIIIIIIIIII', (5,)), (-1.0, 'IIIIIZZIIIIIIIIIIIII', (5, 6)), (-1.0, 'IIIIIZZIIZIIIIIIIIII', (5, 6, 9)), (-1.0, 'IIIIIZIZIIIIIIIIIIII', (5, 7)), (1.0, 'IIIIIZIZIIIIIIIIZIII', (5, 7, 16)), (-1.0, 'IIIIIZIIZIIIIIIIIIII', (5, 8)), (-1.0, 'IIIIIZIIIZIIIIIIIIII', (5, 9)), (-1.0, 'IIIIIZIIIIZIIIIIIIII', (5, 10)), (1.0, 'IIIIIZIIIIIZIIIIIIII', (5, 11)), (1.0, 'IIIIIZIIIIIZIZIIIIII', (5, 11, 13)), (1.0, 'IIIIIZIIIIIIIZIIIIII', (5, 13)), (-2.0, 'IIIIIZIIIIIIIIZIIIII', (5, 14)), (2.0, 'IIIIIIZIIIIIIIIIIIII', (6,)), (1.0, 'IIIIIIZZIIIIIIIIIIII', (6, 7)), (1.0, 'IIIIIIZIZIIIIIIIIIII', (6, 8)), (1.0, 'IIIIIIZIZIIIIIIIZIII', (6, 8, 16)), (-1.0, 'IIIIIIZIIZIIZIIIIIII', (6, 9, 12)), (-1.0, 'IIIIIIZIIZIIIZIIIIII', (6, 9, 13)), (1.0, 'IIIIIIZIIZIIIIIZIIII', (6, 9, 15)), (-1.0, 'IIIIIIZIIIZIIIIIIIII', (6, 10)), (-1.0, 'IIIIIIZIIIZZIIIIIIII', (6, 10, 11)), (5.0, 'IIIIIIZIIIIZIIIIIIII', (6, 11)), (-2.0, 'IIIIIIZIIIIZIZIIIIII', (6, 11, 13)), (-1.0, 'IIIIIIZIIIIZIIIIZIII', (6, 11, 16)), (-1.0, 'IIIIIIZIIIIIZIIIIIII', (6, 12)), (-3.0, 'IIIIIIZIIIIIIZIIIIII', (6, 13)), (1.0, 'IIIIIIZIIIIIIIZIIIII', (6, 14)), (1.0, 'IIIIIIZIIIIIIIZIZIII', (6, 14, 16)), (2.0, 'IIIIIIZIIIIIIIIZIIII', (6, 15)), (-1.0, 'IIIIIIZIIIIIIIIZIIIZ', (6, 15, 19)), (-3.0, 'IIIIIIZIIIIIIIIIZIII', (6, 16)), (5.0, 'IIIIIIIZIIIIIIIIIIII', (7,)), (-1.0, 'IIIIIIIZZIIIIIIIIIII', (7, 8)), (2.0, 'IIIIIIIZIZIIIIIIIIII', (7, 9)), (-1.0, 'IIIIIIIZIZZIIIIIIIII', (7, 9, 10)), (-1.0, 'IIIIIIIZIZIZIIIIIIII', (7, 9, 11)), (1.0, 'IIIIIIIZIIZIIIIIIIII', (7, 10)), (2.0, 'IIIIIIIZIIIZIIIIIIII', (7, 11)), (-1.0, 'IIIIIIIZIIIIZIIIIIII', (7, 12)), (-1.0, 'IIIIIIIZIIIIIIZIIIII', (7, 14)), (-1.0, 'IIIIIIIZIIIIIIIIZIII', (7, 16)), (1.0, 'IIIIIIIZIIIIIIIIIIZI', (7, 18)), (-2.0, 'IIIIIIIIZIIIIIIIIIII', (8,)), (1.0, 'IIIIIIIIZIZIIIIIIIII', (8, 10)), (1.0, 'IIIIIIIIZIZIIZIIIIII', (8, 10, 13)), (-1.0, 'IIIIIIIIZIIZIIIIIIII', (8, 11)), (-1.0, 'IIIIIIIIZIIZIIIIZIII', (8, 11, 16)), (-1.0, 'IIIIIIIIZIIIZIIIIIII', (8, 12)), (2.0, 'IIIIIIIIZIIIZIZIIIII', (8, 12, 14)), (-1.0, 'IIIIIIIIZIIIIZIIIIII', (8, 13)), (1.0, 'IIIIIIIIZIIIIIZZIIII', (8, 14, 15)), (1.0, 'IIIIIIIIZIIIIIZIZIII', (8, 14, 16)), (1.0, 'IIIIIIIIZIIIIIIZIIII', (8, 15)), (2.0, 'IIIIIIIIZIIIIIIIZIII', (8, 16)), (1.0, 'IIIIIIIIZIIIIIIIZIZI', (8, 16, 18)), (2.0, 'IIIIIIIIZIIIIIIIIIZI', (8, 18)), (-2.0, 'IIIIIIIIZIIIIIIIIIIZ', (8, 19)), (-3.0, 'IIIIIIIIIZIIIIIIIIII', (9,)), (-1.0, 'IIIIIIIIIZZIIIIZIIII', (9, 10, 15)), (-1.0, 'IIIIIIIIIZIZIIIIIIII', (9, 11)), (2.0, 'IIIIIIIIIZIIZIIIIIII', (9, 12)), (1.0, 'IIIIIIIIIZIIZIZIIIII', (9, 12, 14)), (1.0, 'IIIIIIIIIZIIZIIIIZII', (9, 12, 17)), (-1.0, 'IIIIIIIIIZIIIZIIIIZI', (9, 13, 18)), (-1.0, 'IIIIIIIIIZIIIIZIIIII', (9, 14)), (-1.0, 'IIIIIIIIIZIIIIZIIIZI', (9, 14, 18)), (-2.0, 'IIIIIIIIIZIIIIIZIIII', (9, 15)), (3.0, 'IIIIIIIIIZIIIIIIIIZI', (9, 18)), (-2.0, 'IIIIIIIIIIZIIIIIIIII', (10,)), (1.0, 'IIIIIIIIIIZIIZIIIIII', (10, 13)), (-1.0, 'IIIIIIIIIIZIIZIIIIZI', (10, 13, 18)), (-1.0, 'IIIIIIIIIIZIIIZIIIII', (10, 14)), (2.0, 'IIIIIIIIIIZIIIIZIIII', (10, 15)), (-2.0, 'IIIIIIIIIIZIIIIIZIII', (10, 16)), (1.0, 'IIIIIIIIIIZIIIIIZIZI', (10, 16, 18)), (-1.0, 'IIIIIIIIIIZIIIIIZIIZ', (10, 16, 19)), (2.0, 'IIIIIIIIIIZIIIIIIZII', (10, 17)), (-1.0, 'IIIIIIIIIIZIIIIIIZIZ', (10, 17, 19)), (2.0, 'IIIIIIIIIIZIIIIIIIIZ', (10, 19)), (-9.0, 'IIIIIIIIIIIZIIIIIIII', (11,)), (-1.0, 'IIIIIIIIIIIZZIIIIIII', (11, 12)), (1.0, 'IIIIIIIIIIIZZZIIIIII', (11, 12, 13)), (-2.0, 'IIIIIIIIIIIZIIZIIIII', (11, 14)), (1.0, 'IIIIIIIIIIIZIIIIZIII', (11, 16)), (-1.0, 'IIIIIIIIIIIZIIIIIZII', (11, 17)), (1.0, 'IIIIIIIIIIIZIIIIIZZI', (11, 17, 18)), (1.0, 'IIIIIIIIIIIZIIIIIIZI', (11, 18)), (-1.0, 'IIIIIIIIIIIZIIIIIIIZ', (11, 19)), (3.0, 'IIIIIIIIIIIIZIIIIIII', (12,)), (-1.0, 'IIIIIIIIIIIIZZIIIIII', (12, 13)), (1.0, 'IIIIIIIIIIIIZIZIIIII', (12, 14)), (1.0, 'IIIIIIIIIIIIZIIIZIII', (12, 16)), (-1.0, 'IIIIIIIIIIIIZIIIIZII', (12, 17)), (-1.0, 'IIIIIIIIIIIIZIIIIIZI', (12, 18)), (-2.0, 'IIIIIIIIIIIIIZIIIIII', (13,)), (-1.0, 'IIIIIIIIIIIIIZZIIIII', (13, 14)), (-1.0, 'IIIIIIIIIIIIIZZIIIIZ', (13, 14, 19)), (1.0, 'IIIIIIIIIIIIIZIZIIII', (13, 15)), (1.0, 'IIIIIIIIIIIIIZIZIIIZ', (13, 15, 19)), (2.0, 'IIIIIIIIIIIIIZIIIZII', (13, 17)), (-2.0, 'IIIIIIIIIIIIIZIIIIZI', (13, 18)), (-1.0, 'IIIIIIIIIIIIIZIIIIIZ', (13, 19)), (7.0, 'IIIIIIIIIIIIIIZIIIII', (14,)), (-1.0, 'IIIIIIIIIIIIIIZZIIII', (14, 15)), (-1.0, 'IIIIIIIIIIIIIIZZIIIZ', (14, 15, 19)), (2.0, 'IIIIIIIIIIIIIIZIZIII', (14, 16)), (-1.0, 'IIIIIIIIIIIIIIZIIZII', (14, 17)), (-1.0, 'IIIIIIIIIIIIIIZIIIZI', (14, 18)), (2.0, 'IIIIIIIIIIIIIIZIIIIZ', (14, 19)), (5.0, 'IIIIIIIIIIIIIIIZIIII', (15,)), (-1.0, 'IIIIIIIIIIIIIIIZZIII', (15, 16)), (1.0, 'IIIIIIIIIIIIIIIZIZII', (15, 17)), (1.0, 'IIIIIIIIIIIIIIIZIIIZ', (15, 19)), (-3.0, 'IIIIIIIIIIIIIIIIZIII', (16,)), (-1.0, 'IIIIIIIIIIIIIIIIZIZI', (16, 18)), (1.0, 'IIIIIIIIIIIIIIIIZIIZ', (16, 19)), (3.0, 'IIIIIIIIIIIIIIIIIZII', (17,)), (3.0, 'IIIIIIIIIIIIIIIIIZZI', (17, 18)), (2.0, 'IIIIIIIIIIIIIIIIIIZI', (18,)), (1.0, 'IIIIIIIIIIIIIIIIIIZZ', (18, 19)), (-5.0, 'IIIIIIIIIIIIIIIIIIIZ', (19,))] 231\n"
     ]
    }
   ],
   "source": [
    "%load_ext autoreload\n",
    "%autoreload 2\n",
    "\n",
    "from utils.hamiltonians import Max3satHamiltonian\n",
    "from utils.qaoa import QAOA\n",
    "from qiskit import transpile\n",
    "from qiskit.circuit import QuantumCircuit\n",
    "from utils.circuit_utils import calculate_expected_fidelity, calculate_expected_fidelity_ideal, calculate_swap_overhead\n",
    "from qiskit_ibm_runtime import QiskitRuntimeService, SamplerV2 as Sampler, EstimatorV2 as Estimator\n",
    "import numpy as np\n",
    "import pandas as pd\n",
    "\n",
    "hamiltonian = Max3satHamiltonian(\"./instances/uf20-01.cnf\")\n",
    "\n",
    "print(hamiltonian.formula.nv, hamiltonian.formula.clauses)\n",
    "print(hamiltonian.get_pauli_list(), len(hamiltonian.get_pauli_list()))"
   ]
  },
  {
   "cell_type": "code",
   "execution_count": 2,
   "id": "8241eb8a-fed7-49ca-b945-427654cfbbc5",
   "metadata": {
    "scrolled": true
   },
   "outputs": [],
   "source": [
    "basis_gates = [\"rx\", \"rz\", \"x\", \"y\", \"z\", \"h\", \"id\", \"cz\"]\n",
    "depth = 1\n",
    "qaoa = QAOA(hamiltonian)\n",
    "qaoa_circuit, cost_params, mixer_params = qaoa.naive_qaoa_circuit(depth)\n",
    "bound_circuit = qaoa_circuit.assign_parameters({cost_params: [np.pi / 2.123 for param in cost_params], mixer_params: [np.pi / 3.123 for param in mixer_params]})\n",
    "bound_circuit.measure_all()\n",
    "transpiled_circuit = transpile(bound_circuit, basis_gates=basis_gates, optimization_level=3)"
   ]
  },
  {
   "cell_type": "code",
   "execution_count": 3,
   "id": "fa2f0aa8-011f-4f38-aa40-90e971cd6a21",
   "metadata": {},
   "outputs": [],
   "source": [
    "service = QiskitRuntimeService()"
   ]
  },
  {
   "cell_type": "code",
   "execution_count": 4,
   "id": "b37b2bbb-9b70-43b3-8d02-10e412ae3474",
   "metadata": {},
   "outputs": [],
   "source": [
    "backend = service.backend(\"ibm_sherbrooke\")"
   ]
  },
  {
   "cell_type": "code",
   "execution_count": 5,
   "id": "c7cb42b8-7e9f-4b42-a6d2-b94916e50b6c",
   "metadata": {},
   "outputs": [
    {
     "name": "stdout",
     "output_type": "stream",
     "text": [
      "2585 191\n",
      "OrderedDict([('rz', 4466), ('sx', 2911), ('ecr', 1281), ('x', 364), ('measure', 20), ('barrier', 1)]) OrderedDict([('cx', 295), ('rz', 231), ('rx', 20), ('measure', 20), ('barrier', 1)])\n"
     ]
    }
   ],
   "source": [
    "eagle_circuit = transpile(bound_circuit, backend=backend, optimization_level=3)\n",
    "\n",
    "print(eagle_circuit.depth(), bound_circuit.depth())\n",
    "print(eagle_circuit.count_ops(), bound_circuit.count_ops())"
   ]
  },
  {
   "cell_type": "code",
   "execution_count": 23,
   "id": "856f2fd6-6507-4ce6-9ae2-ea361e07dcfc",
   "metadata": {},
   "outputs": [],
   "source": [
    "ost_operator = hamiltonian.get_sparse_pauli_operator()\n",
    "observable = cost_operator.apply_layout(eagle_circuit.layout)\n",
    "estimator = Estimator(backend=backend)"
   ]
  },
  {
   "cell_type": "code",
   "execution_count": 25,
   "id": "b4d7d307-0920-4b23-a1a3-c03196d46c2a",
   "metadata": {},
   "outputs": [],
   "source": [
    "job = estimator.run([(eagle_circuit, observable)])"
   ]
  },
  {
   "cell_type": "code",
   "execution_count": 29,
   "id": "ef5b433a-c6ee-46d1-915f-033d9eb5cd29",
   "metadata": {},
   "outputs": [
    {
     "name": "stdout",
     "output_type": "stream",
     "text": [
      "Job ID: crx7kt77wv80008fkzm0\n",
      "Job Status: QUEUED\n"
     ]
    }
   ],
   "source": [
    "print(f\"Job ID: {job.job_id()}\")\n",
    "print(f\"Job Status: {job.status()}\")"
   ]
  },
  {
   "cell_type": "code",
   "execution_count": 31,
   "id": "fb551b02-4ce2-417f-8a8f-132bfdcd8477",
   "metadata": {},
   "outputs": [
    {
     "name": "stdout",
     "output_type": "stream",
     "text": [
      "<IBMBackend('ibm_osaka')>\n"
     ]
    }
   ],
   "source": [
    "least_busy_backend = service.least_busy(operational=True, simulator=False)\n",
    "\n",
    "print(least_busy_backend)"
   ]
  },
  {
   "cell_type": "code",
   "execution_count": 46,
   "id": "4801ce40-03aa-486c-8b69-8f896b2a01d0",
   "metadata": {},
   "outputs": [
    {
     "name": "stdout",
     "output_type": "stream",
     "text": [
      "2539 191\n",
      "OrderedDict([('rz', 4546), ('sx', 2892), ('ecr', 1288), ('x', 405), ('measure', 20), ('barrier', 1)]) OrderedDict([('cx', 295), ('rz', 231), ('rx', 20), ('measure', 20), ('barrier', 1)])\n"
     ]
    }
   ],
   "source": [
    "sampler = Sampler(backend=backend)\n",
    "estimator = Estimator(backend=backend)\n",
    "eagle_circuit = transpile(bound_circuit, backend=backend, optimization_level=3)\n",
    "observable = cost_operator.apply_layout(eagle_circuit.layout)\n",
    "\n",
    "print(eagle_circuit.depth(), bound_circuit.depth())\n",
    "print(eagle_circuit.count_ops(), bound_circuit.count_ops())"
   ]
  },
  {
   "cell_type": "code",
   "execution_count": 49,
   "id": "51696b3d-2105-4b11-bfd2-039bf2039014",
   "metadata": {},
   "outputs": [],
   "source": [
    "sampler_job = sampler.run([eagle_circuit], shots=256)"
   ]
  },
  {
   "cell_type": "code",
   "execution_count": 43,
   "id": "ce708606-93f7-453c-9192-039ba2badd80",
   "metadata": {},
   "outputs": [
    {
     "name": "stderr",
     "output_type": "stream",
     "text": [
      "/home/lax/Desktop/FPQA-MAX3-SAT/.venv/lib/python3.10/site-packages/qiskit_ibm_runtime/qiskit_runtime_service.py:879: UserWarning: Your current pending jobs are estimated to consume 623.1034379365619 quantum seconds, but you only have 600 quantum seconds left in your monthly quota; therefore, it is likely this job will be canceled\n",
      "  warnings.warn(warning_message)\n"
     ]
    }
   ],
   "source": [
    "job = estimator.run([(eagle_circuit, observable)])"
   ]
  },
  {
   "cell_type": "code",
   "execution_count": 7,
   "id": "b965075e-a56d-4702-8f78-2bd2c01a9f29",
   "metadata": {},
   "outputs": [
    {
     "name": "stdout",
     "output_type": "stream",
     "text": [
      "(7.195686173181647e-12, 0.0001808796796848703, 152648674309, 6073)\n",
      "328\n"
     ]
    }
   ],
   "source": [
    "print(calculate_expected_fidelity(eagle_circuit, backend))\n",
    "print(calculate_swap_overhead(transpiled_circuit, eagle_circuit))"
   ]
  },
  {
   "cell_type": "code",
   "execution_count": 68,
   "id": "38ce5538-89ad-48af-88ba-f637866e83ae",
   "metadata": {},
   "outputs": [],
   "source": [
    "def run_experiment(problem_name, backend, depth=1, iterations=10):\n",
    "    hamiltonian = Max3satHamiltonian(problem_name)\n",
    "    qaoa = QAOA(hamiltonian)\n",
    "    qaoa_circuit, cost_params, mixer_params = qaoa.naive_qaoa_circuit(depth)\n",
    "    fidelity_with_decoherence, fidelity, estimated_shots_with_decoherence, estimated_shots = 0.0, 0.0, 0, 0\n",
    "    ideal_fidelity, ideal_estimated_shots = 0.0, 0\n",
    "    num_two_qubit_gates, swap_overhead = 0, 0\n",
    "    print(f\">>> Parametrized circuit created...\")\n",
    "    for i in range(iterations):\n",
    "        print(f\">>> Compiling circuit: {problem_name}, Iteration: {i} ...\") \n",
    "        params = {\n",
    "            cost_params: np.random.uniform(low=0.0, high=2*np.pi, size=len(cost_params)),\n",
    "            mixer_params: np.random.uniform(low=0, high=np.pi, size=len(mixer_params))\n",
    "        }\n",
    "        bound_circuit = qaoa_circuit.assign_parameters(params)\n",
    "        bound_circuit.measure_all()\n",
    "        transpiled_circuit = transpile(bound_circuit, backend=backend, optimization_level=3)\n",
    "        fwd, f, eswd, es = calculate_expected_fidelity(transpiled_circuit, backend)\n",
    "        ideal_f, ideal_es = calculate_expected_fidelity_ideal(transpiled_circuit)\n",
    "        fidelity_with_decoherence += fwd\n",
    "        fidelity += f\n",
    "        estimated_shots_with_decoherence += eswd\n",
    "        estimated_shots += es\n",
    "        num_two_qubit_gates += transpiled_circuit.count_ops()[\"ecr\"]\n",
    "        swap_overhead += calculate_swap_overhead(bound_circuit, transpiled_circuit)\n",
    "        ideal_fidelity += ideal_f\n",
    "        ideal_estimated_shots += ideal_es\n",
    "    avg_results = np.array([ideal_fidelity, ideal_estimated_shots, \n",
    "                            fidelity_with_decoherence, estimated_shots_with_decoherence, \n",
    "                            fidelity, estimated_shots, \n",
    "                            swap_overhead, num_two_qubit_gates], \n",
    "                           dtype=float) / iterations\n",
    "    avg_results = avg_results.tolist()\n",
    "    avg_results[-2] = int(np.ceil(avg_results[-2]))\n",
    "    avg_results[-1] = int(np.ceil(avg_results[-1]))\n",
    "    return avg_results"
   ]
  },
  {
   "cell_type": "code",
   "execution_count": 46,
   "id": "6da238c9-f952-4d11-a592-af0f87b731a0",
   "metadata": {},
   "outputs": [],
   "source": [
    "data_schema = [\n",
    "    \"Name\", \n",
    "    \"Depth\",\n",
    "    \"Fidelity with Decoherence\", \n",
    "    \"Estimated Shots with Decoherence for 2/3 Success Rate\", \n",
    "    \"Fidelity without Decoherence\", \n",
    "    \"Estimated Shots without Decoherence for 2/3 Success Rate\", \n",
    "    \"Average Swap Overhead\", \n",
    "    \"Average Number of Two Qubit Gates\", \n",
    "    \"Iterations\"\n",
    "]\n",
    "\n",
    "data = []"
   ]
  },
  {
   "cell_type": "code",
   "execution_count": 47,
   "id": "9377fa75-4abb-453a-80ee-38996a5ae70d",
   "metadata": {
    "scrolled": true
   },
   "outputs": [
    {
     "name": "stdout",
     "output_type": "stream",
     "text": [
      ">>> Compiling circuits with depth: 1 ...\n",
      ">>> Compiling circuit: ./instances/uf20-01.cnf, Iteration: 0 ...\n",
      ">>> Compiling circuit: ./instances/uf20-01.cnf, Iteration: 1 ...\n",
      ">>> Compiling circuit: ./instances/uf20-01.cnf, Iteration: 2 ...\n",
      ">>> Compiling circuit: ./instances/uf20-01.cnf, Iteration: 3 ...\n",
      ">>> Compiling circuit: ./instances/uf20-01.cnf, Iteration: 4 ...\n",
      ">>> Compiling circuit: ./instances/uf20-01.cnf, Iteration: 5 ...\n",
      ">>> Compiling circuit: ./instances/uf20-01.cnf, Iteration: 6 ...\n",
      ">>> Compiling circuit: ./instances/uf20-01.cnf, Iteration: 7 ...\n",
      ">>> Compiling circuit: ./instances/uf20-01.cnf, Iteration: 8 ...\n",
      ">>> Compiling circuit: ./instances/uf20-01.cnf, Iteration: 9 ...\n",
      ">>> Compiling circuits with depth: 2 ...\n",
      ">>> Compiling circuit: ./instances/uf20-01.cnf, Iteration: 0 ...\n"
     ]
    },
    {
     "name": "stderr",
     "output_type": "stream",
     "text": [
      "/home/ogz/Desktop/FPQA-MAX3-SAT/utils/circuit_utils.py:35: RuntimeWarning: divide by zero encountered in scalar divide\n",
      "  estimated_shots = np.log(1 - DESIRED_SUCCESS_PROBABILITY) / np.log(1 - fidelity * decoherence_fidelity)\n"
     ]
    },
    {
     "name": "stdout",
     "output_type": "stream",
     "text": [
      ">>> Compiling circuit: ./instances/uf20-01.cnf, Iteration: 1 ...\n"
     ]
    },
    {
     "name": "stderr",
     "output_type": "stream",
     "text": [
      "/home/ogz/Desktop/FPQA-MAX3-SAT/utils/circuit_utils.py:35: RuntimeWarning: divide by zero encountered in scalar divide\n",
      "  estimated_shots = np.log(1 - DESIRED_SUCCESS_PROBABILITY) / np.log(1 - fidelity * decoherence_fidelity)\n"
     ]
    },
    {
     "name": "stdout",
     "output_type": "stream",
     "text": [
      ">>> Compiling circuit: ./instances/uf20-01.cnf, Iteration: 2 ...\n"
     ]
    },
    {
     "name": "stderr",
     "output_type": "stream",
     "text": [
      "/home/ogz/Desktop/FPQA-MAX3-SAT/utils/circuit_utils.py:35: RuntimeWarning: divide by zero encountered in scalar divide\n",
      "  estimated_shots = np.log(1 - DESIRED_SUCCESS_PROBABILITY) / np.log(1 - fidelity * decoherence_fidelity)\n"
     ]
    },
    {
     "name": "stdout",
     "output_type": "stream",
     "text": [
      ">>> Compiling circuit: ./instances/uf20-01.cnf, Iteration: 3 ...\n"
     ]
    },
    {
     "name": "stderr",
     "output_type": "stream",
     "text": [
      "/home/ogz/Desktop/FPQA-MAX3-SAT/utils/circuit_utils.py:35: RuntimeWarning: divide by zero encountered in scalar divide\n",
      "  estimated_shots = np.log(1 - DESIRED_SUCCESS_PROBABILITY) / np.log(1 - fidelity * decoherence_fidelity)\n"
     ]
    },
    {
     "name": "stdout",
     "output_type": "stream",
     "text": [
      ">>> Compiling circuit: ./instances/uf20-01.cnf, Iteration: 4 ...\n"
     ]
    },
    {
     "name": "stderr",
     "output_type": "stream",
     "text": [
      "/home/ogz/Desktop/FPQA-MAX3-SAT/utils/circuit_utils.py:35: RuntimeWarning: divide by zero encountered in scalar divide\n",
      "  estimated_shots = np.log(1 - DESIRED_SUCCESS_PROBABILITY) / np.log(1 - fidelity * decoherence_fidelity)\n"
     ]
    },
    {
     "name": "stdout",
     "output_type": "stream",
     "text": [
      ">>> Compiling circuit: ./instances/uf20-01.cnf, Iteration: 5 ...\n"
     ]
    },
    {
     "name": "stderr",
     "output_type": "stream",
     "text": [
      "/home/ogz/Desktop/FPQA-MAX3-SAT/utils/circuit_utils.py:35: RuntimeWarning: divide by zero encountered in scalar divide\n",
      "  estimated_shots = np.log(1 - DESIRED_SUCCESS_PROBABILITY) / np.log(1 - fidelity * decoherence_fidelity)\n"
     ]
    },
    {
     "name": "stdout",
     "output_type": "stream",
     "text": [
      ">>> Compiling circuit: ./instances/uf20-01.cnf, Iteration: 6 ...\n"
     ]
    },
    {
     "name": "stderr",
     "output_type": "stream",
     "text": [
      "/home/ogz/Desktop/FPQA-MAX3-SAT/utils/circuit_utils.py:35: RuntimeWarning: divide by zero encountered in scalar divide\n",
      "  estimated_shots = np.log(1 - DESIRED_SUCCESS_PROBABILITY) / np.log(1 - fidelity * decoherence_fidelity)\n"
     ]
    },
    {
     "name": "stdout",
     "output_type": "stream",
     "text": [
      ">>> Compiling circuit: ./instances/uf20-01.cnf, Iteration: 7 ...\n"
     ]
    },
    {
     "name": "stderr",
     "output_type": "stream",
     "text": [
      "/home/ogz/Desktop/FPQA-MAX3-SAT/utils/circuit_utils.py:35: RuntimeWarning: divide by zero encountered in scalar divide\n",
      "  estimated_shots = np.log(1 - DESIRED_SUCCESS_PROBABILITY) / np.log(1 - fidelity * decoherence_fidelity)\n"
     ]
    },
    {
     "name": "stdout",
     "output_type": "stream",
     "text": [
      ">>> Compiling circuit: ./instances/uf20-01.cnf, Iteration: 8 ...\n"
     ]
    },
    {
     "name": "stderr",
     "output_type": "stream",
     "text": [
      "/home/ogz/Desktop/FPQA-MAX3-SAT/utils/circuit_utils.py:35: RuntimeWarning: divide by zero encountered in scalar divide\n",
      "  estimated_shots = np.log(1 - DESIRED_SUCCESS_PROBABILITY) / np.log(1 - fidelity * decoherence_fidelity)\n"
     ]
    },
    {
     "name": "stdout",
     "output_type": "stream",
     "text": [
      ">>> Compiling circuit: ./instances/uf20-01.cnf, Iteration: 9 ...\n"
     ]
    },
    {
     "name": "stderr",
     "output_type": "stream",
     "text": [
      "/home/ogz/Desktop/FPQA-MAX3-SAT/utils/circuit_utils.py:35: RuntimeWarning: divide by zero encountered in scalar divide\n",
      "  estimated_shots = np.log(1 - DESIRED_SUCCESS_PROBABILITY) / np.log(1 - fidelity * decoherence_fidelity)\n"
     ]
    },
    {
     "name": "stdout",
     "output_type": "stream",
     "text": [
      ">>> Compiling circuits with depth: 3 ...\n",
      ">>> Compiling circuit: ./instances/uf20-01.cnf, Iteration: 0 ...\n"
     ]
    },
    {
     "name": "stderr",
     "output_type": "stream",
     "text": [
      "/home/ogz/Desktop/FPQA-MAX3-SAT/utils/circuit_utils.py:35: RuntimeWarning: divide by zero encountered in scalar divide\n",
      "  estimated_shots = np.log(1 - DESIRED_SUCCESS_PROBABILITY) / np.log(1 - fidelity * decoherence_fidelity)\n"
     ]
    },
    {
     "name": "stdout",
     "output_type": "stream",
     "text": [
      ">>> Compiling circuit: ./instances/uf20-01.cnf, Iteration: 1 ...\n"
     ]
    },
    {
     "name": "stderr",
     "output_type": "stream",
     "text": [
      "/home/ogz/Desktop/FPQA-MAX3-SAT/utils/circuit_utils.py:35: RuntimeWarning: divide by zero encountered in scalar divide\n",
      "  estimated_shots = np.log(1 - DESIRED_SUCCESS_PROBABILITY) / np.log(1 - fidelity * decoherence_fidelity)\n"
     ]
    },
    {
     "name": "stdout",
     "output_type": "stream",
     "text": [
      ">>> Compiling circuit: ./instances/uf20-01.cnf, Iteration: 2 ...\n"
     ]
    },
    {
     "name": "stderr",
     "output_type": "stream",
     "text": [
      "/home/ogz/Desktop/FPQA-MAX3-SAT/utils/circuit_utils.py:35: RuntimeWarning: divide by zero encountered in scalar divide\n",
      "  estimated_shots = np.log(1 - DESIRED_SUCCESS_PROBABILITY) / np.log(1 - fidelity * decoherence_fidelity)\n"
     ]
    },
    {
     "name": "stdout",
     "output_type": "stream",
     "text": [
      ">>> Compiling circuit: ./instances/uf20-01.cnf, Iteration: 3 ...\n"
     ]
    },
    {
     "name": "stderr",
     "output_type": "stream",
     "text": [
      "/home/ogz/Desktop/FPQA-MAX3-SAT/utils/circuit_utils.py:35: RuntimeWarning: divide by zero encountered in scalar divide\n",
      "  estimated_shots = np.log(1 - DESIRED_SUCCESS_PROBABILITY) / np.log(1 - fidelity * decoherence_fidelity)\n"
     ]
    },
    {
     "name": "stdout",
     "output_type": "stream",
     "text": [
      ">>> Compiling circuit: ./instances/uf20-01.cnf, Iteration: 4 ...\n"
     ]
    },
    {
     "name": "stderr",
     "output_type": "stream",
     "text": [
      "/home/ogz/Desktop/FPQA-MAX3-SAT/utils/circuit_utils.py:35: RuntimeWarning: divide by zero encountered in scalar divide\n",
      "  estimated_shots = np.log(1 - DESIRED_SUCCESS_PROBABILITY) / np.log(1 - fidelity * decoherence_fidelity)\n"
     ]
    },
    {
     "name": "stdout",
     "output_type": "stream",
     "text": [
      ">>> Compiling circuit: ./instances/uf20-01.cnf, Iteration: 5 ...\n"
     ]
    },
    {
     "name": "stderr",
     "output_type": "stream",
     "text": [
      "/home/ogz/Desktop/FPQA-MAX3-SAT/utils/circuit_utils.py:35: RuntimeWarning: divide by zero encountered in scalar divide\n",
      "  estimated_shots = np.log(1 - DESIRED_SUCCESS_PROBABILITY) / np.log(1 - fidelity * decoherence_fidelity)\n"
     ]
    },
    {
     "name": "stdout",
     "output_type": "stream",
     "text": [
      ">>> Compiling circuit: ./instances/uf20-01.cnf, Iteration: 6 ...\n"
     ]
    },
    {
     "name": "stderr",
     "output_type": "stream",
     "text": [
      "/home/ogz/Desktop/FPQA-MAX3-SAT/utils/circuit_utils.py:35: RuntimeWarning: divide by zero encountered in scalar divide\n",
      "  estimated_shots = np.log(1 - DESIRED_SUCCESS_PROBABILITY) / np.log(1 - fidelity * decoherence_fidelity)\n"
     ]
    },
    {
     "name": "stdout",
     "output_type": "stream",
     "text": [
      ">>> Compiling circuit: ./instances/uf20-01.cnf, Iteration: 7 ...\n"
     ]
    },
    {
     "name": "stderr",
     "output_type": "stream",
     "text": [
      "/home/ogz/Desktop/FPQA-MAX3-SAT/utils/circuit_utils.py:35: RuntimeWarning: divide by zero encountered in scalar divide\n",
      "  estimated_shots = np.log(1 - DESIRED_SUCCESS_PROBABILITY) / np.log(1 - fidelity * decoherence_fidelity)\n"
     ]
    },
    {
     "name": "stdout",
     "output_type": "stream",
     "text": [
      ">>> Compiling circuit: ./instances/uf20-01.cnf, Iteration: 8 ...\n"
     ]
    },
    {
     "name": "stderr",
     "output_type": "stream",
     "text": [
      "/home/ogz/Desktop/FPQA-MAX3-SAT/utils/circuit_utils.py:35: RuntimeWarning: divide by zero encountered in scalar divide\n",
      "  estimated_shots = np.log(1 - DESIRED_SUCCESS_PROBABILITY) / np.log(1 - fidelity * decoherence_fidelity)\n"
     ]
    },
    {
     "name": "stdout",
     "output_type": "stream",
     "text": [
      ">>> Compiling circuit: ./instances/uf20-01.cnf, Iteration: 9 ...\n"
     ]
    },
    {
     "name": "stderr",
     "output_type": "stream",
     "text": [
      "/home/ogz/Desktop/FPQA-MAX3-SAT/utils/circuit_utils.py:35: RuntimeWarning: divide by zero encountered in scalar divide\n",
      "  estimated_shots = np.log(1 - DESIRED_SUCCESS_PROBABILITY) / np.log(1 - fidelity * decoherence_fidelity)\n"
     ]
    }
   ],
   "source": [
    "max_depth = 3\n",
    "iterations = 10\n",
    "\n",
    "for p in range(1, max_depth + 1):\n",
    "    print(f\">>> Compiling circuits with depth: {p} ...\")\n",
    "    result = run_experiment(\"./instances/uf20-01.cnf\", backend, depth=p, iterations=iterations)\n",
    "    data.append([\"uf20-01.cnf\", p] + result + [10])"
   ]
  },
  {
   "cell_type": "code",
   "execution_count": 48,
   "id": "590fe795-4755-4d0c-8167-ac4e8f811cbb",
   "metadata": {},
   "outputs": [
    {
     "data": {
      "text/html": [
       "<div>\n",
       "<style scoped>\n",
       "    .dataframe tbody tr th:only-of-type {\n",
       "        vertical-align: middle;\n",
       "    }\n",
       "\n",
       "    .dataframe tbody tr th {\n",
       "        vertical-align: top;\n",
       "    }\n",
       "\n",
       "    .dataframe thead th {\n",
       "        text-align: right;\n",
       "    }\n",
       "</style>\n",
       "<table border=\"1\" class=\"dataframe\">\n",
       "  <thead>\n",
       "    <tr style=\"text-align: right;\">\n",
       "      <th></th>\n",
       "      <th>Name</th>\n",
       "      <th>Depth</th>\n",
       "      <th>Fidelity with Decoherence</th>\n",
       "      <th>Estimated Shots with Decoherence for 2/3 Success Rate</th>\n",
       "      <th>Fidelity without Decoherence</th>\n",
       "      <th>Estimated Shots without Decoherence for 2/3 Success Rate</th>\n",
       "      <th>Average Swap Overhead</th>\n",
       "      <th>Average Number of Two Qubit Gates</th>\n",
       "      <th>Iterations</th>\n",
       "    </tr>\n",
       "  </thead>\n",
       "  <tbody>\n",
       "    <tr>\n",
       "      <th>0</th>\n",
       "      <td>uf20-01.cnf</td>\n",
       "      <td>1</td>\n",
       "      <td>7.249810e-12</td>\n",
       "      <td>4.170792e+11</td>\n",
       "      <td>1.468294e-04</td>\n",
       "      <td>8.406963e+03</td>\n",
       "      <td>328</td>\n",
       "      <td>1278</td>\n",
       "      <td>10</td>\n",
       "    </tr>\n",
       "    <tr>\n",
       "      <th>1</th>\n",
       "      <td>uf20-01.cnf</td>\n",
       "      <td>2</td>\n",
       "      <td>1.767152e-24</td>\n",
       "      <td>-inf</td>\n",
       "      <td>5.288556e-09</td>\n",
       "      <td>1.031245e+09</td>\n",
       "      <td>717</td>\n",
       "      <td>2741</td>\n",
       "      <td>10</td>\n",
       "    </tr>\n",
       "    <tr>\n",
       "      <th>2</th>\n",
       "      <td>uf20-01.cnf</td>\n",
       "      <td>3</td>\n",
       "      <td>1.474778e-37</td>\n",
       "      <td>-inf</td>\n",
       "      <td>9.188999e-14</td>\n",
       "      <td>1.054780e+14</td>\n",
       "      <td>1110</td>\n",
       "      <td>4216</td>\n",
       "      <td>10</td>\n",
       "    </tr>\n",
       "  </tbody>\n",
       "</table>\n",
       "</div>"
      ],
      "text/plain": [
       "          Name  Depth  Fidelity with Decoherence  \\\n",
       "0  uf20-01.cnf      1               7.249810e-12   \n",
       "1  uf20-01.cnf      2               1.767152e-24   \n",
       "2  uf20-01.cnf      3               1.474778e-37   \n",
       "\n",
       "   Estimated Shots with Decoherence for 2/3 Success Rate  \\\n",
       "0                                       4.170792e+11       \n",
       "1                                               -inf       \n",
       "2                                               -inf       \n",
       "\n",
       "   Fidelity without Decoherence  \\\n",
       "0                  1.468294e-04   \n",
       "1                  5.288556e-09   \n",
       "2                  9.188999e-14   \n",
       "\n",
       "   Estimated Shots without Decoherence for 2/3 Success Rate  \\\n",
       "0                                       8.406963e+03          \n",
       "1                                       1.031245e+09          \n",
       "2                                       1.054780e+14          \n",
       "\n",
       "   Average Swap Overhead  Average Number of Two Qubit Gates  Iterations  \n",
       "0                    328                               1278          10  \n",
       "1                    717                               2741          10  \n",
       "2                   1110                               4216          10  "
      ]
     },
     "execution_count": 48,
     "metadata": {},
     "output_type": "execute_result"
    }
   ],
   "source": [
    "df_20 = pd.DataFrame(data, columns=data_schema)\n",
    "\n",
    "df_20https://meet.google.com/shs-qpin-sds?authuser=0"
   ]
  },
  {
   "cell_type": "code",
   "execution_count": 69,
   "id": "198b6143-f2cb-4061-aef9-cbf38493eaf3",
   "metadata": {},
   "outputs": [],
   "source": [
    "data_schema_2 = [\n",
    "    \"Name\", \n",
    "    \"Depth\",\n",
    "    \"Ideal Fidelity\",\n",
    "    \"Ideal Estimated Shots\",\n",
    "    \"Fidelity with Decoherence\", \n",
    "    \"Estimated Shots with Decoherence for 2/3 Success Rate\", \n",
    "    \"Fidelity without Decoherence\", \n",
    "    \"Estimated Shots without Decoherence for 2/3 Success Rate\", \n",
    "    \"Average Swap Overhead\", \n",
    "    \"Average Number of Two Qubit Gates\", \n",
    "    \"Iterations\"\n",
    "]\n",
    "\n",
    "data_2 = []"
   ]
  },
  {
   "cell_type": "code",
   "execution_count": 70,
   "id": "b7173c44-dc3f-4fc1-ac94-4cf657451549",
   "metadata": {},
   "outputs": [
    {
     "name": "stdout",
     "output_type": "stream",
     "text": [
      ">>> Compiling circuits with depth: 1 ...\n",
      ">>> Parametrized circuit created...\n",
      ">>> Compiling circuit: ./instances/uuf50-01.cnf, Iteration: 0 ...\n"
     ]
    },
    {
     "name": "stderr",
     "output_type": "stream",
     "text": [
      "/home/ogz/Desktop/FPQA-MAX3-SAT/utils/circuit_utils.py:34: RuntimeWarning: divide by zero encountered in scalar divide\n",
      "  estimated_shots_without_decoherence = np.log(1 - DESIRED_SUCCESS_PROBABILITY) / np.log(1 - fidelity)\n",
      "/home/ogz/Desktop/FPQA-MAX3-SAT/utils/circuit_utils.py:35: RuntimeWarning: divide by zero encountered in scalar divide\n",
      "  estimated_shots = np.log(1 - DESIRED_SUCCESS_PROBABILITY) / np.log(1 - fidelity * decoherence_fidelity)\n",
      "/home/ogz/Desktop/FPQA-MAX3-SAT/utils/circuit_utils.py:48: RuntimeWarning: divide by zero encountered in scalar divide\n"
     ]
    }
   ],
   "source": [
    "max_depth = 1\n",
    "iterations = 1\n",
    "\n",
    "for p in range(1, max_depth + 1):\n",
    "    print(f\">>> Compiling circuits with depth: {p} ...\")\n",
    "    result = run_experiment(\"./instances/uuf50-01.cnf\", backend, depth=p, iterations=iterations)\n",
    "    data_2.append([\"uuf50-01.cnf\", p] + result + [10])"
   ]
  },
  {
   "cell_type": "code",
   "execution_count": 72,
   "id": "90f84cd9-11af-4482-85b4-90f879ffa183",
   "metadata": {},
   "outputs": [
    {
     "name": "stdout",
     "output_type": "stream",
     "text": [
      ">>> Compiling circuits with depth: 1 ...\n",
      ">>> Parametrized circuit created...\n",
      ">>> Compiling circuit: ./instances/uuf75-01.cnf, Iteration: 0 ...\n"
     ]
    },
    {
     "name": "stderr",
     "output_type": "stream",
     "text": [
      "/home/ogz/Desktop/FPQA-MAX3-SAT/utils/circuit_utils.py:34: RuntimeWarning: divide by zero encountered in scalar divide\n",
      "  estimated_shots_without_decoherence = np.log(1 - DESIRED_SUCCESS_PROBABILITY) / np.log(1 - fidelity)\n",
      "/home/ogz/Desktop/FPQA-MAX3-SAT/utils/circuit_utils.py:35: RuntimeWarning: divide by zero encountered in scalar divide\n",
      "  estimated_shots = np.log(1 - DESIRED_SUCCESS_PROBABILITY) / np.log(1 - fidelity * decoherence_fidelity)\n",
      "/home/ogz/Desktop/FPQA-MAX3-SAT/utils/circuit_utils.py:48: RuntimeWarning: divide by zero encountered in scalar divide\n"
     ]
    }
   ],
   "source": [
    "max_depth = 1\n",
    "iterations = 1\n",
    "\n",
    "for p in range(1, max_depth + 1):\n",
    "    print(f\">>> Compiling circuits with depth: {p} ...\")\n",
    "    result = run_experiment(\"./instances/uuf75-01.cnf\", backend, depth=p, iterations=iterations)\n",
    "    data_2.append([\"uuf75-01.cnf\", p] + result + [10])"
   ]
  },
  {
   "cell_type": "code",
   "execution_count": 74,
   "id": "d5dfd4cf-cdf3-4e95-80fd-41116c49b92a",
   "metadata": {},
   "outputs": [
    {
     "name": "stdout",
     "output_type": "stream",
     "text": [
      ">>> Compiling circuits with depth: 1 ...\n",
      ">>> Parametrized circuit created...\n",
      ">>> Compiling circuit: ./instances/uuf100-01.cnf, Iteration: 0 ...\n"
     ]
    },
    {
     "name": "stderr",
     "output_type": "stream",
     "text": [
      "/home/ogz/Desktop/FPQA-MAX3-SAT/utils/circuit_utils.py:34: RuntimeWarning: divide by zero encountered in scalar divide\n",
      "  estimated_shots_without_decoherence = np.log(1 - DESIRED_SUCCESS_PROBABILITY) / np.log(1 - fidelity)\n",
      "/home/ogz/Desktop/FPQA-MAX3-SAT/utils/circuit_utils.py:35: RuntimeWarning: divide by zero encountered in scalar divide\n",
      "  estimated_shots = np.log(1 - DESIRED_SUCCESS_PROBABILITY) / np.log(1 - fidelity * decoherence_fidelity)\n",
      "/home/ogz/Desktop/FPQA-MAX3-SAT/utils/circuit_utils.py:48: RuntimeWarning: divide by zero encountered in scalar divide\n"
     ]
    }
   ],
   "source": [
    "max_depth = 1\n",
    "iterations = 1\n",
    "\n",
    "for p in range(1, max_depth + 1):\n",
    "    print(f\">>> Compiling circuits with depth: {p} ...\")\n",
    "    result = run_experiment(\"./instances/uuf100-01.cnf\", backend, depth=p, iterations=iterations)\n",
    "    data_2.append([\"uuf100-01.cnf\", p] + result + [10])"
   ]
  },
  {
   "cell_type": "code",
   "execution_count": 76,
   "id": "b311caf5-28c9-4eb7-b44b-65aaf4c442ae",
   "metadata": {},
   "outputs": [
    {
     "name": "stdout",
     "output_type": "stream",
     "text": [
      ">>> Compiling circuits with depth: 1 ...\n",
      ">>> Parametrized circuit created...\n",
      ">>> Compiling circuit: ./instances/uf20-01.cnf, Iteration: 0 ...\n",
      ">>> Compiling circuits with depth: 2 ...\n",
      ">>> Parametrized circuit created...\n",
      ">>> Compiling circuit: ./instances/uf20-01.cnf, Iteration: 0 ...\n"
     ]
    },
    {
     "name": "stderr",
     "output_type": "stream",
     "text": [
      "/home/ogz/Desktop/FPQA-MAX3-SAT/utils/circuit_utils.py:35: RuntimeWarning: divide by zero encountered in scalar divide\n",
      "  estimated_shots = np.log(1 - DESIRED_SUCCESS_PROBABILITY) / np.log(1 - fidelity * decoherence_fidelity)\n"
     ]
    },
    {
     "name": "stdout",
     "output_type": "stream",
     "text": [
      ">>> Compiling circuits with depth: 3 ...\n",
      ">>> Parametrized circuit created...\n",
      ">>> Compiling circuit: ./instances/uf20-01.cnf, Iteration: 0 ...\n"
     ]
    },
    {
     "name": "stderr",
     "output_type": "stream",
     "text": [
      "/home/ogz/Desktop/FPQA-MAX3-SAT/utils/circuit_utils.py:35: RuntimeWarning: divide by zero encountered in scalar divide\n",
      "  estimated_shots = np.log(1 - DESIRED_SUCCESS_PROBABILITY) / np.log(1 - fidelity * decoherence_fidelity)\n",
      "/home/ogz/Desktop/FPQA-MAX3-SAT/utils/circuit_utils.py:48: RuntimeWarning: divide by zero encountered in scalar divide\n"
     ]
    }
   ],
   "source": [
    "max_depth = 3\n",
    "iterations = 1\n",
    "\n",
    "for p in range(1, max_depth + 1):\n",
    "    print(f\">>> Compiling circuits with depth: {p} ...\")\n",
    "    result = run_experiment(\"./instances/uf20-01.cnf\", backend, depth=p, iterations=iterations)\n",
    "    data_2.append([\"uf20-01.cnf\", p] + result + [10])"
   ]
  },
  {
   "cell_type": "code",
   "execution_count": 78,
   "id": "0a80fb59-86aa-46c2-b66b-2c5eb19544dd",
   "metadata": {},
   "outputs": [
    {
     "name": "stdout",
     "output_type": "stream",
     "text": [
      ">>> Compiling circuits with depth: 1 ...\n",
      ">>> Parametrized circuit created...\n",
      ">>> Compiling circuit: ./instances/uuf125-01.cnf, Iteration: 0 ...\n"
     ]
    },
    {
     "name": "stderr",
     "output_type": "stream",
     "text": [
      "/home/ogz/Desktop/FPQA-MAX3-SAT/utils/circuit_utils.py:34: RuntimeWarning: divide by zero encountered in scalar divide\n",
      "  estimated_shots_without_decoherence = np.log(1 - DESIRED_SUCCESS_PROBABILITY) / np.log(1 - fidelity)\n",
      "/home/ogz/Desktop/FPQA-MAX3-SAT/utils/circuit_utils.py:35: RuntimeWarning: divide by zero encountered in scalar divide\n",
      "  estimated_shots = np.log(1 - DESIRED_SUCCESS_PROBABILITY) / np.log(1 - fidelity * decoherence_fidelity)\n",
      "/home/ogz/Desktop/FPQA-MAX3-SAT/utils/circuit_utils.py:48: RuntimeWarning: divide by zero encountered in scalar divide\n"
     ]
    }
   ],
   "source": [
    "max_depth = 1\n",
    "iterations = 1\n",
    "\n",
    "for p in range(1, max_depth + 1):\n",
    "    print(f\">>> Compiling circuits with depth: {p} ...\")\n",
    "    result = run_experiment(\"./instances/uuf125-01.cnf\", backend, depth=p, iterations=iterations)\n",
    "    data_2.append([\"uuf125-01.cnf\", p] + result + [10])"
   ]
  },
  {
   "cell_type": "code",
   "execution_count": 81,
   "id": "388d25a5-1873-4eef-b827-311f216981df",
   "metadata": {},
   "outputs": [
    {
     "data": {
      "text/html": [
       "<div>\n",
       "<style scoped>\n",
       "    .dataframe tbody tr th:only-of-type {\n",
       "        vertical-align: middle;\n",
       "    }\n",
       "\n",
       "    .dataframe tbody tr th {\n",
       "        vertical-align: top;\n",
       "    }\n",
       "\n",
       "    .dataframe thead th {\n",
       "        text-align: right;\n",
       "    }\n",
       "</style>\n",
       "<table border=\"1\" class=\"dataframe\">\n",
       "  <thead>\n",
       "    <tr style=\"text-align: right;\">\n",
       "      <th></th>\n",
       "      <th>Name</th>\n",
       "      <th>Depth</th>\n",
       "      <th>Ideal Fidelity</th>\n",
       "      <th>Ideal Estimated Shots</th>\n",
       "      <th>Fidelity with Decoherence</th>\n",
       "      <th>Estimated Shots with Decoherence for 2/3 Success Rate</th>\n",
       "      <th>Fidelity without Decoherence</th>\n",
       "      <th>Estimated Shots without Decoherence for 2/3 Success Rate</th>\n",
       "      <th>Average Swap Overhead</th>\n",
       "      <th>Average Number of Two Qubit Gates</th>\n",
       "      <th>Iterations</th>\n",
       "    </tr>\n",
       "  </thead>\n",
       "  <tbody>\n",
       "    <tr>\n",
       "      <th>0</th>\n",
       "      <td>uuf50-01.cnf</td>\n",
       "      <td>1</td>\n",
       "      <td>1.414054e-31</td>\n",
       "      <td>-inf</td>\n",
       "      <td>0.000000e+00</td>\n",
       "      <td>-inf</td>\n",
       "      <td>0.000000e+00</td>\n",
       "      <td>-inf</td>\n",
       "      <td>1843</td>\n",
       "      <td>6393</td>\n",
       "      <td>10</td>\n",
       "    </tr>\n",
       "    <tr>\n",
       "      <th>1</th>\n",
       "      <td>uuf75-01.cnf</td>\n",
       "      <td>1</td>\n",
       "      <td>1.187888e-61</td>\n",
       "      <td>-inf</td>\n",
       "      <td>0.000000e+00</td>\n",
       "      <td>-inf</td>\n",
       "      <td>0.000000e+00</td>\n",
       "      <td>-inf</td>\n",
       "      <td>3796</td>\n",
       "      <td>12791</td>\n",
       "      <td>10</td>\n",
       "    </tr>\n",
       "    <tr>\n",
       "      <th>2</th>\n",
       "      <td>uuf100-01.cnf</td>\n",
       "      <td>1</td>\n",
       "      <td>6.109364e-100</td>\n",
       "      <td>-inf</td>\n",
       "      <td>0.000000e+00</td>\n",
       "      <td>-inf</td>\n",
       "      <td>0.000000e+00</td>\n",
       "      <td>-inf</td>\n",
       "      <td>6314</td>\n",
       "      <td>20871</td>\n",
       "      <td>10</td>\n",
       "    </tr>\n",
       "    <tr>\n",
       "      <th>3</th>\n",
       "      <td>uf20-01.cnf</td>\n",
       "      <td>1</td>\n",
       "      <td>7.029710e-07</td>\n",
       "      <td>1.562528e+06</td>\n",
       "      <td>1.543606e-11</td>\n",
       "      <td>7.115868e+10</td>\n",
       "      <td>2.201998e-04</td>\n",
       "      <td>4.987703e+03</td>\n",
       "      <td>329</td>\n",
       "      <td>1282</td>\n",
       "      <td>10</td>\n",
       "    </tr>\n",
       "    <tr>\n",
       "      <th>4</th>\n",
       "      <td>uf20-01.cnf</td>\n",
       "      <td>2</td>\n",
       "      <td>1.367137e-13</td>\n",
       "      <td>8.037058e+12</td>\n",
       "      <td>9.059694e-26</td>\n",
       "      <td>-inf</td>\n",
       "      <td>5.868762e-10</td>\n",
       "      <td>1.871625e+09</td>\n",
       "      <td>702</td>\n",
       "      <td>2698</td>\n",
       "      <td>10</td>\n",
       "    </tr>\n",
       "    <tr>\n",
       "      <th>5</th>\n",
       "      <td>uf20-01.cnf</td>\n",
       "      <td>3</td>\n",
       "      <td>5.896884e-21</td>\n",
       "      <td>-inf</td>\n",
       "      <td>1.048150e-38</td>\n",
       "      <td>-inf</td>\n",
       "      <td>3.182814e-14</td>\n",
       "      <td>3.447254e+13</td>\n",
       "      <td>1119</td>\n",
       "      <td>4242</td>\n",
       "      <td>10</td>\n",
       "    </tr>\n",
       "    <tr>\n",
       "      <th>6</th>\n",
       "      <td>uuf125-01.cnf</td>\n",
       "      <td>1</td>\n",
       "      <td>1.358350e-144</td>\n",
       "      <td>-inf</td>\n",
       "      <td>0.000000e+00</td>\n",
       "      <td>-inf</td>\n",
       "      <td>0.000000e+00</td>\n",
       "      <td>-inf</td>\n",
       "      <td>9254</td>\n",
       "      <td>30226</td>\n",
       "      <td>10</td>\n",
       "    </tr>\n",
       "  </tbody>\n",
       "</table>\n",
       "</div>"
      ],
      "text/plain": [
       "            Name  Depth  Ideal Fidelity  Ideal Estimated Shots  \\\n",
       "0   uuf50-01.cnf      1    1.414054e-31                   -inf   \n",
       "1   uuf75-01.cnf      1    1.187888e-61                   -inf   \n",
       "2  uuf100-01.cnf      1   6.109364e-100                   -inf   \n",
       "3    uf20-01.cnf      1    7.029710e-07           1.562528e+06   \n",
       "4    uf20-01.cnf      2    1.367137e-13           8.037058e+12   \n",
       "5    uf20-01.cnf      3    5.896884e-21                   -inf   \n",
       "6  uuf125-01.cnf      1   1.358350e-144                   -inf   \n",
       "\n",
       "   Fidelity with Decoherence  \\\n",
       "0               0.000000e+00   \n",
       "1               0.000000e+00   \n",
       "2               0.000000e+00   \n",
       "3               1.543606e-11   \n",
       "4               9.059694e-26   \n",
       "5               1.048150e-38   \n",
       "6               0.000000e+00   \n",
       "\n",
       "   Estimated Shots with Decoherence for 2/3 Success Rate  \\\n",
       "0                                               -inf       \n",
       "1                                               -inf       \n",
       "2                                               -inf       \n",
       "3                                       7.115868e+10       \n",
       "4                                               -inf       \n",
       "5                                               -inf       \n",
       "6                                               -inf       \n",
       "\n",
       "   Fidelity without Decoherence  \\\n",
       "0                  0.000000e+00   \n",
       "1                  0.000000e+00   \n",
       "2                  0.000000e+00   \n",
       "3                  2.201998e-04   \n",
       "4                  5.868762e-10   \n",
       "5                  3.182814e-14   \n",
       "6                  0.000000e+00   \n",
       "\n",
       "   Estimated Shots without Decoherence for 2/3 Success Rate  \\\n",
       "0                                               -inf          \n",
       "1                                               -inf          \n",
       "2                                               -inf          \n",
       "3                                       4.987703e+03          \n",
       "4                                       1.871625e+09          \n",
       "5                                       3.447254e+13          \n",
       "6                                               -inf          \n",
       "\n",
       "   Average Swap Overhead  Average Number of Two Qubit Gates  Iterations  \n",
       "0                   1843                               6393          10  \n",
       "1                   3796                              12791          10  \n",
       "2                   6314                              20871          10  \n",
       "3                    329                               1282          10  \n",
       "4                    702                               2698          10  \n",
       "5                   1119                               4242          10  \n",
       "6                   9254                              30226          10  "
      ]
     },
     "execution_count": 81,
     "metadata": {},
     "output_type": "execute_result"
    }
   ],
   "source": [
    "df_50 = pd.DataFrame(data_2, columns=data_schema_2)\n",
    "\n",
    "df_50.to_csv(\"superconducting_results.csv\", index=False)\n",
    "\n",
    "df_50"
   ]
  },
  {
   "cell_type": "code",
   "execution_count": null,
   "id": "f3a948d5-509e-4fd0-a359-cb19947dff5d",
   "metadata": {},
   "outputs": [],
   "source": [
    "max_depth = 3\n",
    "iterations = 10\n",
    "instances = [\"uf20-01.cnf\", \"uuf50-01.cnf\", \"uuf75-01.cnf\", \"uuf100-01.cnf\", \"uuf125-01.cnf\"]\n",
    "data = []\n",
    "\n",
    "for instance in instances:\n",
    "    print(f\"Running experiments with instance: {instance}\")\n",
    "    for p in range(1, max_depth + 1):\n",
    "        print(f\">>> Compiling circuits with depth: {p}...\")\n",
    "        result = run_experiment(\"./instances/\" + instance, backend, depth=p, iterations=iterations)\n",
    "        data.append([instance, p] + result + [iterations])"
   ]
  },
  {
   "cell_type": "code",
   "execution_count": null,
   "id": "e3e946f1-65cd-40d8-b023-84f674aa2aa6",
   "metadata": {},
   "outputs": [],
   "source": []
  }
 ],
 "metadata": {
  "kernelspec": {
   "display_name": ".venv-fpqa",
   "language": "python",
   "name": ".venv-fpqa"
  },
  "language_info": {
   "codemirror_mode": {
    "name": "ipython",
    "version": 3
   },
   "file_extension": ".py",
   "mimetype": "text/x-python",
   "name": "python",
   "nbconvert_exporter": "python",
   "pygments_lexer": "ipython3",
   "version": "3.11.8"
  }
 },
 "nbformat": 4,
 "nbformat_minor": 5
}
