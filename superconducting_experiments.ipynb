{
 "cells": [
  {
   "cell_type": "markdown",
   "id": "49d36d73-f5dc-467b-90f4-a301c7b4c0ae",
   "metadata": {},
   "source": [
    "# Experiments"
   ]
  },
  {
   "cell_type": "code",
   "execution_count": 87,
   "id": "3d282b13-e6b4-4313-9797-cc3770261ad8",
   "metadata": {
    "scrolled": true
   },
   "outputs": [
    {
     "name": "stdout",
     "output_type": "stream",
     "text": [
      "20 [[4, -18, 19], [3, 18, -5], [-5, -8, -15], [-20, 7, -16], [10, -13, -7], [-12, -9, 17], [17, 19, 5], [-16, 9, 15], [11, -5, -14], [18, -10, 13], [-3, 11, 12], [-6, -17, -8], [-18, 14, 1], [-19, -15, 10], [12, 18, -19], [-8, 4, 7], [-8, -9, 4], [7, 17, -15], [12, -7, -14], [-10, -11, 8], [2, -15, -11], [9, 6, 1], [-11, 20, -17], [9, -15, 13], [12, -7, -17], [-18, -2, 20], [20, 12, 4], [19, 11, 14], [-16, 18, -4], [-1, -17, -19], [-13, 15, 10], [-12, -14, -13], [12, -14, -7], [-7, 16, 10], [6, 10, 7], [20, 14, -16], [-19, 17, 11], [-7, 1, -20], [-5, 12, 15], [-4, -9, -13], [12, -11, -7], [-5, 19, -8], [1, 16, 17], [20, -14, -15], [13, -4, 10], [14, 7, 10], [-5, 9, 20], [10, 1, -19], [-16, -15, -1], [16, 3, -11], [-15, -10, 4], [4, -15, -3], [-10, -16, 11], [-8, 12, -5], [14, -6, 12], [1, 6, 11], [-13, -5, -1], [-7, -2, 12], [1, -20, 19], [-2, -13, -8], [15, 18, 4], [-11, 14, 9], [-6, -15, -2], [5, -12, -15], [-6, 17, 5], [-13, 5, -19], [20, -1, 14], [9, -17, 15], [-5, 19, -18], [-12, 8, -10], [-18, 14, -4], [15, -9, 13], [9, -5, -1], [10, -19, -14], [20, 9, 4], [-9, -2, 19], [-5, 13, -17], [2, -10, -18], [-18, 3, 11], [7, -9, 17], [-15, -6, -3], [-2, 3, -13], [12, 3, -2], [-2, -3, 17], [20, -15, -16], [-5, -17, -19], [-20, -18, 11], [-9, 1, -5], [-19, 9, 17], [12, -2, 17], [4, -16, -5], [], []]\n",
      "[(-3.0, 'ZIIIIIIIIIIIIIIIIIII', (0,)), (-1.0, 'ZIIIZIIIIIIIIIIIIIII', (0, 4)), (-2.0, 'ZIIIZIIIZIIIIIIIIIII', (0, 4, 8)), (1.0, 'ZIIIZIIIIIIIZIIIIIII', (0, 4, 12)), (-2.0, 'ZIIIIZIIIIIIIIIIIIII', (0, 5)), (-1.0, 'ZIIIIZIIZIIIIIIIIIII', (0, 5, 8)), (-1.0, 'ZIIIIZIIIIZIIIIIIIII', (0, 5, 10)), (1.0, 'ZIIIIIZIIIIIIIIIIIII', (0, 6)), (-1.0, 'ZIIIIIZIIIIIIIIIIIIZ', (0, 6, 19)), (1.0, 'ZIIIIIIIZIIIIIIIIIII', (0, 8)), (-1.0, 'ZIIIIIIIIZIIIIIIIIII', (0, 9)), (1.0, 'ZIIIIIIIIZIIIIIIIIZI', (0, 9, 18)), (-1.0, 'ZIIIIIIIIIZIIIIIIIII', (0, 10)), (-1.0, 'ZIIIIIIIIIIIZIIIIIII', (0, 12)), (1.0, 'ZIIIIIIIIIIIIZIIIZII', (0, 13, 17)), (1.0, 'ZIIIIIIIIIIIIZIIIIIZ', (0, 13, 19)), (-1.0, 'ZIIIIIIIIIIIIIZIIIII', (0, 14)), (1.0, 'ZIIIIIIIIIIIIIZZIIII', (0, 14, 15)), (-2.0, 'ZIIIIIIIIIIIIIIZIIII', (0, 15)), (-1.0, 'ZIIIIIIIIIIIIIIZZIII', (0, 15, 16)), (-2.0, 'ZIIIIIIIIIIIIIIIZIII', (0, 16)), (1.0, 'ZIIIIIIIIIIIIIIIZIZI', (0, 16, 18)), (1.0, 'ZIIIIIIIIIIIIIIIIZII', (0, 17)), (-1.0, 'ZIIIIIIIIIIIIIIIIIZI', (0, 18)), (1.0, 'ZIIIIIIIIIIIIIIIIIZZ', (0, 18, 19)), (3.0, 'ZIIIIIIIIIIIIIIIIIIZ', (0, 19)), (7.0, 'IZIIIIIIIIIIIIIIIIII', (1,)), (1.0, 'IZZIIIIIIIIIIIIIIIII', (1, 2)), (1.0, 'IZZIIIIIIIIZIIIIIIII', (1, 2, 11)), (-1.0, 'IZZIIIIIIIIIZIIIIIII', (1, 2, 12)), (-1.0, 'IZZIIIIIIIIIIIIIZIII', (1, 2, 16)), (-1.0, 'IZIIIZIIIIIIIIIIIIII', (1, 5)), (1.0, 'IZIIIZIIIIIIIIZIIIII', (1, 5, 14)), (-1.0, 'IZIIIIZIIIIIIIIIIIII', (1, 6)), (-1.0, 'IZIIIIZIIIIZIIIIIIII', (1, 6, 11)), (-1.0, 'IZIIIIIZIIIIIIIIIIII', (1, 7)), (1.0, 'IZIIIIIZIIIIZIIIIIII', (1, 7, 12)), (-1.0, 'IZIIIIIIZIIIIIIIIIII', (1, 8)), (-1.0, 'IZIIIIIIZIIIIIIIIIZI', (1, 8, 18)), (1.0, 'IZIIIIIIIZIIIIIIIIII', (1, 9)), (-1.0, 'IZIIIIIIIZIIIIIIIZII', (1, 9, 17)), (1.0, 'IZIIIIIIIIZIIIIIIIII', (1, 10)), (-1.0, 'IZIIIIIIIIZIIIZIIIII', (1, 10, 14)), (3.0, 'IZIIIIIIIIIZIIIIIIII', (1, 11)), (1.0, 'IZIIIIIIIIIZIIIIZIII', (1, 11, 16)), (-2.0, 'IZIIIIIIIIIIZIIIIIII', (1, 12)), (2.0, 'IZIIIIIIIIIIIIIIZIII', (1, 16)), (-1.0, 'IZIIIIIIIIIIIIIIIZIZ', (1, 17, 19)), (1.0, 'IZIIIIIIIIIIIIIIIIZI', (1, 18)), (1.0, 'IZIIIIIIIIIIIIIIIIIZ', (1, 19)), (-1.0, 'IIZIIIIIIIIIIIIIIIII', (2,)), (1.0, 'IIZZIIIIIIIIIIIIIIII', (2, 3)), (-1.0, 'IIZZIIIIIIIIIIZIIIII', (2, 3, 14)), (1.0, 'IIZIZIIIIIIIIIIIIIII', (2, 4)), (1.0, 'IIZIZIIIIIIIIIIIIZII', (2, 4, 17)), (-1.0, 'IIZIIZIIIIIIIIIIIIII', (2, 5)), (1.0, 'IIZIIZIIIIIIIIZIIIII', (2, 5, 14)), (1.0, 'IIZIIIIIIIZIIIIIIIII', (2, 10)), (1.0, 'IIZIIIIIIIZZIIIIIIII', (2, 10, 11)), (1.0, 'IIZIIIIIIIZIIIIZIIII', (2, 10, 15)), (1.0, 'IIZIIIIIIIZIIIIIIZII', (2, 10, 17)), (1.0, 'IIZIIIIIIIIIZIIIIIII', (2, 12)), (-2.0, 'IIZIIIIIIIIIIIZIIIII', (2, 14)), (-1.0, 'IIZIIIIIIIIIIIIZIIII', (2, 15)), (1.0, 'IIZIIIIIIIIIIIIIZIII', (2, 16)), (-5.0, 'IIIZIIIIIIIIIIIIIIII', (3,)), (1.0, 'IIIZZIIIIIIIIIIIIIII', (3, 4)), (-1.0, 'IIIZZIIIIIIIIIIZIIII', (3, 4, 15)), (-1.0, 'IIIZIIZIIIIIIIIIIIII', (3, 6)), (1.0, 'IIIZIIZZIIIIIIIIIIII', (3, 6, 7)), (2.0, 'IIIZIIIZIIIIIIIIIIII', (3, 7)), (-1.0, 'IIIZIIIZZIIIIIIIIIII', (3, 7, 8)), (-1.0, 'IIIZIIIIZIIIIIIIIIII', (3, 8)), (1.0, 'IIIZIIIIZIIIZIIIIIII', (3, 8, 12)), (-1.0, 'IIIZIIIIZIIIIIIIIIIZ', (3, 8, 19)), (2.0, 'IIIZIIIIIZIIIIIIIIII', (3, 9)), (1.0, 'IIIZIIIIIZIIZIIIIIII', (3, 9, 12)), (-1.0, 'IIIZIIIIIZIIIIZIIIII', (3, 9, 14)), (-1.0, 'IIIZIIIIIIIZIIIIIIII', (3, 11)), (-1.0, 'IIIZIIIIIIIZIIIIIIIZ', (3, 11, 19)), (1.0, 'IIIZIIIIIIIIIZIIIIII', (3, 13)), (-1.0, 'IIIZIIIIIIIIIZIIIZII', (3, 13, 17)), (1.0, 'IIIZIIIIIIIIIIZIIIII', (3, 14)), (-1.0, 'IIIZIIIIIIIIIIZIIZII', (3, 14, 17)), (-1.0, 'IIIZIIIIIIIIIIIZIZII', (3, 15, 17)), (1.0, 'IIIZIIIIIIIIIIIIIZZI', (3, 17, 18)), (-1.0, 'IIIZIIIIIIIIIIIIIIZI', (3, 18)), (-2.0, 'IIIZIIIIIIIIIIIIIIIZ', (3, 19)), (10.0, 'IIIIZIIIIIIIIIIIIIII', (4,)), (1.0, 'IIIIZZIIIIIIIIIIIIII', (4, 5)), (1.0, 'IIIIZZIIIIIIIIIIZIII', (4, 5, 16)), (-3.0, 'IIIIZIIZIIIIIIIIIIII', (4, 7)), (-1.0, 'IIIIZIIZIIIZIIIIIIII', (4, 7, 11)), (1.0, 'IIIIZIIZIIIIIIZIIIII', (4, 7, 14)), (-1.0, 'IIIIZIIZIIIIIIIIIIZI', (4, 7, 18)), (1.0, 'IIIIZIIIZIIIIIIIIIII', (4, 8)), (1.0, 'IIIIZIIIZIIIIIIIIIIZ', (4, 8, 19)), (1.0, 'IIIIZIIIIIZIIIIIIIII', (4, 10)), (-1.0, 'IIIIZIIIIIZIIZIIIIII', (4, 10, 13)), (3.0, 'IIIIZIIIIIIZIIIIIIII', (4, 11)), (1.0, 'IIIIZIIIIIIIZIIIIIII', (4, 12)), (-1.0, 'IIIIZIIIIIIIZIIIZIII', (4, 12, 16)), (-1.0, 'IIIIZIIIIIIIZIIIIIZI', (4, 12, 18)), (-1.0, 'IIIIZIIIIIIIIZIIIIII', (4, 13)), (1.0, 'IIIIZIIIIIIIIIZIIIII', (4, 14)), (-1.0, 'IIIIZIIIIIIIIIIZIIII', (4, 15)), (-4.0, 'IIIIZIIIIIIIIIIIZIII', (4, 16)), (-1.0, 'IIIIZIIIIIIIIIIIIZZI', (4, 17, 18)), (1.0, 'IIIIZIIIIIIIIIIIIIZI', (4, 18)), (1.0, 'IIIIZIIIIIIIIIIIIIIZ', (4, 19)), (2.0, 'IIIIIZIIIIIIIIIIIIII', (5,)), (-1.0, 'IIIIIZZIIIIIIIIIIIII', (5, 6)), (-1.0, 'IIIIIZZIIZIIIIIIIIII', (5, 6, 9)), (-1.0, 'IIIIIZIZIIIIIIIIIIII', (5, 7)), (1.0, 'IIIIIZIZIIIIIIIIZIII', (5, 7, 16)), (-1.0, 'IIIIIZIIZIIIIIIIIIII', (5, 8)), (-1.0, 'IIIIIZIIIZIIIIIIIIII', (5, 9)), (-1.0, 'IIIIIZIIIIZIIIIIIIII', (5, 10)), (1.0, 'IIIIIZIIIIIZIIIIIIII', (5, 11)), (1.0, 'IIIIIZIIIIIZIZIIIIII', (5, 11, 13)), (1.0, 'IIIIIZIIIIIIIZIIIIII', (5, 13)), (-2.0, 'IIIIIZIIIIIIIIZIIIII', (5, 14)), (2.0, 'IIIIIIZIIIIIIIIIIIII', (6,)), (1.0, 'IIIIIIZZIIIIIIIIIIII', (6, 7)), (1.0, 'IIIIIIZIZIIIIIIIIIII', (6, 8)), (1.0, 'IIIIIIZIZIIIIIIIZIII', (6, 8, 16)), (-1.0, 'IIIIIIZIIZIIZIIIIIII', (6, 9, 12)), (-1.0, 'IIIIIIZIIZIIIZIIIIII', (6, 9, 13)), (1.0, 'IIIIIIZIIZIIIIIZIIII', (6, 9, 15)), (-1.0, 'IIIIIIZIIIZIIIIIIIII', (6, 10)), (-1.0, 'IIIIIIZIIIZZIIIIIIII', (6, 10, 11)), (5.0, 'IIIIIIZIIIIZIIIIIIII', (6, 11)), (-2.0, 'IIIIIIZIIIIZIZIIIIII', (6, 11, 13)), (-1.0, 'IIIIIIZIIIIZIIIIZIII', (6, 11, 16)), (-1.0, 'IIIIIIZIIIIIZIIIIIII', (6, 12)), (-3.0, 'IIIIIIZIIIIIIZIIIIII', (6, 13)), (1.0, 'IIIIIIZIIIIIIIZIIIII', (6, 14)), (1.0, 'IIIIIIZIIIIIIIZIZIII', (6, 14, 16)), (2.0, 'IIIIIIZIIIIIIIIZIIII', (6, 15)), (-1.0, 'IIIIIIZIIIIIIIIZIIIZ', (6, 15, 19)), (-3.0, 'IIIIIIZIIIIIIIIIZIII', (6, 16)), (5.0, 'IIIIIIIZIIIIIIIIIIII', (7,)), (-1.0, 'IIIIIIIZZIIIIIIIIIII', (7, 8)), (2.0, 'IIIIIIIZIZIIIIIIIIII', (7, 9)), (-1.0, 'IIIIIIIZIZZIIIIIIIII', (7, 9, 10)), (-1.0, 'IIIIIIIZIZIZIIIIIIII', (7, 9, 11)), (1.0, 'IIIIIIIZIIZIIIIIIIII', (7, 10)), (2.0, 'IIIIIIIZIIIZIIIIIIII', (7, 11)), (-1.0, 'IIIIIIIZIIIIZIIIIIII', (7, 12)), (-1.0, 'IIIIIIIZIIIIIIZIIIII', (7, 14)), (-1.0, 'IIIIIIIZIIIIIIIIZIII', (7, 16)), (1.0, 'IIIIIIIZIIIIIIIIIIZI', (7, 18)), (-2.0, 'IIIIIIIIZIIIIIIIIIII', (8,)), (1.0, 'IIIIIIIIZIZIIIIIIIII', (8, 10)), (1.0, 'IIIIIIIIZIZIIZIIIIII', (8, 10, 13)), (-1.0, 'IIIIIIIIZIIZIIIIIIII', (8, 11)), (-1.0, 'IIIIIIIIZIIZIIIIZIII', (8, 11, 16)), (-1.0, 'IIIIIIIIZIIIZIIIIIII', (8, 12)), (2.0, 'IIIIIIIIZIIIZIZIIIII', (8, 12, 14)), (-1.0, 'IIIIIIIIZIIIIZIIIIII', (8, 13)), (1.0, 'IIIIIIIIZIIIIIZZIIII', (8, 14, 15)), (1.0, 'IIIIIIIIZIIIIIZIZIII', (8, 14, 16)), (1.0, 'IIIIIIIIZIIIIIIZIIII', (8, 15)), (2.0, 'IIIIIIIIZIIIIIIIZIII', (8, 16)), (1.0, 'IIIIIIIIZIIIIIIIZIZI', (8, 16, 18)), (2.0, 'IIIIIIIIZIIIIIIIIIZI', (8, 18)), (-2.0, 'IIIIIIIIZIIIIIIIIIIZ', (8, 19)), (-3.0, 'IIIIIIIIIZIIIIIIIIII', (9,)), (-1.0, 'IIIIIIIIIZZIIIIZIIII', (9, 10, 15)), (-1.0, 'IIIIIIIIIZIZIIIIIIII', (9, 11)), (2.0, 'IIIIIIIIIZIIZIIIIIII', (9, 12)), (1.0, 'IIIIIIIIIZIIZIZIIIII', (9, 12, 14)), (1.0, 'IIIIIIIIIZIIZIIIIZII', (9, 12, 17)), (-1.0, 'IIIIIIIIIZIIIZIIIIZI', (9, 13, 18)), (-1.0, 'IIIIIIIIIZIIIIZIIIII', (9, 14)), (-1.0, 'IIIIIIIIIZIIIIZIIIZI', (9, 14, 18)), (-2.0, 'IIIIIIIIIZIIIIIZIIII', (9, 15)), (3.0, 'IIIIIIIIIZIIIIIIIIZI', (9, 18)), (-2.0, 'IIIIIIIIIIZIIIIIIIII', (10,)), (1.0, 'IIIIIIIIIIZIIZIIIIII', (10, 13)), (-1.0, 'IIIIIIIIIIZIIZIIIIZI', (10, 13, 18)), (-1.0, 'IIIIIIIIIIZIIIZIIIII', (10, 14)), (2.0, 'IIIIIIIIIIZIIIIZIIII', (10, 15)), (-2.0, 'IIIIIIIIIIZIIIIIZIII', (10, 16)), (1.0, 'IIIIIIIIIIZIIIIIZIZI', (10, 16, 18)), (-1.0, 'IIIIIIIIIIZIIIIIZIIZ', (10, 16, 19)), (2.0, 'IIIIIIIIIIZIIIIIIZII', (10, 17)), (-1.0, 'IIIIIIIIIIZIIIIIIZIZ', (10, 17, 19)), (2.0, 'IIIIIIIIIIZIIIIIIIIZ', (10, 19)), (-9.0, 'IIIIIIIIIIIZIIIIIIII', (11,)), (-1.0, 'IIIIIIIIIIIZZIIIIIII', (11, 12)), (1.0, 'IIIIIIIIIIIZZZIIIIII', (11, 12, 13)), (-2.0, 'IIIIIIIIIIIZIIZIIIII', (11, 14)), (1.0, 'IIIIIIIIIIIZIIIIZIII', (11, 16)), (-1.0, 'IIIIIIIIIIIZIIIIIZII', (11, 17)), (1.0, 'IIIIIIIIIIIZIIIIIZZI', (11, 17, 18)), (1.0, 'IIIIIIIIIIIZIIIIIIZI', (11, 18)), (-1.0, 'IIIIIIIIIIIZIIIIIIIZ', (11, 19)), (3.0, 'IIIIIIIIIIIIZIIIIIII', (12,)), (-1.0, 'IIIIIIIIIIIIZZIIIIII', (12, 13)), (1.0, 'IIIIIIIIIIIIZIZIIIII', (12, 14)), (1.0, 'IIIIIIIIIIIIZIIIZIII', (12, 16)), (-1.0, 'IIIIIIIIIIIIZIIIIZII', (12, 17)), (-1.0, 'IIIIIIIIIIIIZIIIIIZI', (12, 18)), (-2.0, 'IIIIIIIIIIIIIZIIIIII', (13,)), (-1.0, 'IIIIIIIIIIIIIZZIIIII', (13, 14)), (-1.0, 'IIIIIIIIIIIIIZZIIIIZ', (13, 14, 19)), (1.0, 'IIIIIIIIIIIIIZIZIIII', (13, 15)), (1.0, 'IIIIIIIIIIIIIZIZIIIZ', (13, 15, 19)), (2.0, 'IIIIIIIIIIIIIZIIIZII', (13, 17)), (-2.0, 'IIIIIIIIIIIIIZIIIIZI', (13, 18)), (-1.0, 'IIIIIIIIIIIIIZIIIIIZ', (13, 19)), (7.0, 'IIIIIIIIIIIIIIZIIIII', (14,)), (-1.0, 'IIIIIIIIIIIIIIZZIIII', (14, 15)), (-1.0, 'IIIIIIIIIIIIIIZZIIIZ', (14, 15, 19)), (2.0, 'IIIIIIIIIIIIIIZIZIII', (14, 16)), (-1.0, 'IIIIIIIIIIIIIIZIIZII', (14, 17)), (-1.0, 'IIIIIIIIIIIIIIZIIIZI', (14, 18)), (2.0, 'IIIIIIIIIIIIIIZIIIIZ', (14, 19)), (5.0, 'IIIIIIIIIIIIIIIZIIII', (15,)), (-1.0, 'IIIIIIIIIIIIIIIZZIII', (15, 16)), (1.0, 'IIIIIIIIIIIIIIIZIZII', (15, 17)), (1.0, 'IIIIIIIIIIIIIIIZIIIZ', (15, 19)), (-3.0, 'IIIIIIIIIIIIIIIIZIII', (16,)), (-1.0, 'IIIIIIIIIIIIIIIIZIZI', (16, 18)), (1.0, 'IIIIIIIIIIIIIIIIZIIZ', (16, 19)), (3.0, 'IIIIIIIIIIIIIIIIIZII', (17,)), (3.0, 'IIIIIIIIIIIIIIIIIZZI', (17, 18)), (2.0, 'IIIIIIIIIIIIIIIIIIZI', (18,)), (1.0, 'IIIIIIIIIIIIIIIIIIZZ', (18, 19)), (-5.0, 'IIIIIIIIIIIIIIIIIIIZ', (19,))] 231\n"
     ]
    }
   ],
   "source": [
    "%load_ext autoreload\n",
    "%autoreload 2\n",
    "\n",
    "from utils.hamiltonians import Max3satHamiltonian\n",
    "from utils.qaoa import QAOA\n",
    "from qiskit import transpile\n",
    "from qiskit.circuit import QuantumCircuit\n",
    "from utils.circuit_utils import calculate_expected_fidelity, calculate_expected_fidelity_ideal, calculate_swap_overhead\n",
    "from utils.experiments import SuperconductingExperiment\n",
    "from qiskit_ibm_runtime import QiskitRuntimeService, SamplerV2 as Sampler, EstimatorV2 as Estimator\n",
    "from utils.fake_backend import create_fake_heavy_hex_backend\n",
    "import numpy as np\n",
    "import pandas as pd\n",
    "\n",
    "hamiltonian = Max3satHamiltonian(\"./instances/uf20-01.cnf\")\n",
    "\n",
    "print(hamiltonian.formula.nv, hamiltonian.formula.clauses)\n",
    "print(hamiltonian.get_pauli_list(), len(hamiltonian.get_pauli_list()))"
   ]
  },
  {
   "cell_type": "code",
   "execution_count": 88,
   "id": "8241eb8a-fed7-49ca-b945-427654cfbbc5",
   "metadata": {
    "scrolled": true
   },
   "outputs": [],
   "source": [
    "basis_gates = [\"rx\", \"rz\", \"x\", \"y\", \"z\", \"h\", \"id\", \"cz\"]\n",
    "depth = 1\n",
    "qaoa = QAOA(hamiltonian)\n",
    "qaoa_circuit, cost_params, mixer_params = qaoa.naive_qaoa_circuit(depth)\n",
    "bound_circuit = qaoa_circuit.assign_parameters({cost_params: [np.pi / 2.123 for param in cost_params], mixer_params: [np.pi / 3.123 for param in mixer_params]})\n",
    "bound_circuit.measure_all()\n",
    "transpiled_circuit = transpile(bound_circuit, basis_gates=basis_gates, optimization_level=3)"
   ]
  },
  {
   "cell_type": "code",
   "execution_count": 89,
   "id": "fa2f0aa8-011f-4f38-aa40-90e971cd6a21",
   "metadata": {},
   "outputs": [],
   "source": [
    "service = QiskitRuntimeService()"
   ]
  },
  {
   "cell_type": "code",
   "execution_count": 90,
   "id": "b37b2bbb-9b70-43b3-8d02-10e412ae3474",
   "metadata": {},
   "outputs": [],
   "source": [
    "backend = service.backend(\"ibm_sherbrooke\")"
   ]
  },
  {
   "cell_type": "code",
   "execution_count": 5,
   "id": "276ecf43-68a6-4145-a818-8ff9f3c0f59d",
   "metadata": {},
   "outputs": [
    {
     "name": "stdout",
     "output_type": "stream",
     "text": [
      "['ecr', 'id', 'rz', 'sx', 'x']\n"
     ]
    }
   ],
   "source": [
    "print(backend.basis_gates)"
   ]
  },
  {
   "cell_type": "code",
   "execution_count": 5,
   "id": "c7cb42b8-7e9f-4b42-a6d2-b94916e50b6c",
   "metadata": {},
   "outputs": [
    {
     "name": "stdout",
     "output_type": "stream",
     "text": [
      "2585 191\n",
      "OrderedDict([('rz', 4466), ('sx', 2911), ('ecr', 1281), ('x', 364), ('measure', 20), ('barrier', 1)]) OrderedDict([('cx', 295), ('rz', 231), ('rx', 20), ('measure', 20), ('barrier', 1)])\n"
     ]
    }
   ],
   "source": [
    "eagle_circuit = transpile(bound_circuit, backend=backend, optimization_level=3)\n",
    "\n",
    "print(eagle_circuit.depth(), bound_circuit.depth())\n",
    "print(eagle_circuit.count_ops(), bound_circuit.count_ops())"
   ]
  },
  {
   "cell_type": "code",
   "execution_count": 23,
   "id": "856f2fd6-6507-4ce6-9ae2-ea361e07dcfc",
   "metadata": {},
   "outputs": [],
   "source": [
    "ost_operator = hamiltonian.get_sparse_pauli_operator()\n",
    "observable = cost_operator.apply_layout(eagle_circuit.layout)\n",
    "estimator = Estimator(backend=backend)"
   ]
  },
  {
   "cell_type": "code",
   "execution_count": 25,
   "id": "b4d7d307-0920-4b23-a1a3-c03196d46c2a",
   "metadata": {},
   "outputs": [],
   "source": [
    "job = estimator.run([(eagle_circuit, observable)])"
   ]
  },
  {
   "cell_type": "code",
   "execution_count": 29,
   "id": "ef5b433a-c6ee-46d1-915f-033d9eb5cd29",
   "metadata": {},
   "outputs": [
    {
     "name": "stdout",
     "output_type": "stream",
     "text": [
      "Job ID: crx7kt77wv80008fkzm0\n",
      "Job Status: QUEUED\n"
     ]
    }
   ],
   "source": [
    "print(f\"Job ID: {job.job_id()}\")\n",
    "print(f\"Job Status: {job.status()}\")"
   ]
  },
  {
   "cell_type": "code",
   "execution_count": 31,
   "id": "fb551b02-4ce2-417f-8a8f-132bfdcd8477",
   "metadata": {},
   "outputs": [
    {
     "name": "stdout",
     "output_type": "stream",
     "text": [
      "<IBMBackend('ibm_osaka')>\n"
     ]
    }
   ],
   "source": [
    "least_busy_backend = service.least_busy(operational=True, simulator=False)\n",
    "\n",
    "print(least_busy_backend)"
   ]
  },
  {
   "cell_type": "code",
   "execution_count": 46,
   "id": "4801ce40-03aa-486c-8b69-8f896b2a01d0",
   "metadata": {},
   "outputs": [
    {
     "name": "stdout",
     "output_type": "stream",
     "text": [
      "2539 191\n",
      "OrderedDict([('rz', 4546), ('sx', 2892), ('ecr', 1288), ('x', 405), ('measure', 20), ('barrier', 1)]) OrderedDict([('cx', 295), ('rz', 231), ('rx', 20), ('measure', 20), ('barrier', 1)])\n"
     ]
    }
   ],
   "source": [
    "sampler = Sampler(backend=backend)\n",
    "estimator = Estimator(backend=backend)\n",
    "eagle_circuit = transpile(bound_circuit, backend=backend, optimization_level=3)\n",
    "observable = cost_operator.apply_layout(eagle_circuit.layout)\n",
    "\n",
    "print(eagle_circuit.depth(), bound_circuit.depth())\n",
    "print(eagle_circuit.count_ops(), bound_circuit.count_ops())"
   ]
  },
  {
   "cell_type": "code",
   "execution_count": 49,
   "id": "51696b3d-2105-4b11-bfd2-039bf2039014",
   "metadata": {},
   "outputs": [],
   "source": [
    "sampler_job = sampler.run([eagle_circuit], shots=256)"
   ]
  },
  {
   "cell_type": "code",
   "execution_count": 43,
   "id": "ce708606-93f7-453c-9192-039ba2badd80",
   "metadata": {},
   "outputs": [
    {
     "name": "stderr",
     "output_type": "stream",
     "text": [
      "/home/lax/Desktop/FPQA-MAX3-SAT/.venv/lib/python3.10/site-packages/qiskit_ibm_runtime/qiskit_runtime_service.py:879: UserWarning: Your current pending jobs are estimated to consume 623.1034379365619 quantum seconds, but you only have 600 quantum seconds left in your monthly quota; therefore, it is likely this job will be canceled\n",
      "  warnings.warn(warning_message)\n"
     ]
    }
   ],
   "source": [
    "job = estimator.run([(eagle_circuit, observable)])"
   ]
  },
  {
   "cell_type": "code",
   "execution_count": 7,
   "id": "b965075e-a56d-4702-8f78-2bd2c01a9f29",
   "metadata": {},
   "outputs": [
    {
     "name": "stdout",
     "output_type": "stream",
     "text": [
      "(7.195686173181647e-12, 0.0001808796796848703, 152648674309, 6073)\n",
      "328\n"
     ]
    }
   ],
   "source": [
    "print(calculate_expected_fidelity(eagle_circuit, backend))\n",
    "print(calculate_swap_overhead(transpiled_circuit, eagle_circuit))"
   ]
  },
  {
   "cell_type": "code",
   "execution_count": 6,
   "id": "7f3cc752-757f-434f-92fe-398f4b6165a5",
   "metadata": {
    "scrolled": true
   },
   "outputs": [
    {
     "name": "stdout",
     "output_type": "stream",
     "text": [
      ">>> Starting experiments with Problem: uf20-01.cnf ...\n",
      ">>> Parametrized circuit created, Depth: 1 ...\n",
      ">>> Transpiling parametrized circuit, Iteration: 0 ...\n",
      ">>> Transpiling parametrized circuit, Iteration: 1 ...\n",
      ">>> Transpiling parametrized circuit, Iteration: 2 ...\n",
      ">>> Transpiling parametrized circuit, Iteration: 3 ...\n",
      ">>> Transpiling parametrized circuit, Iteration: 4 ...\n",
      ">>> Transpiling parametrized circuit, Iteration: 5 ...\n",
      ">>> Transpiling parametrized circuit, Iteration: 6 ...\n",
      ">>> Transpiling parametrized circuit, Iteration: 7 ...\n",
      ">>> Transpiling parametrized circuit, Iteration: 8 ...\n",
      ">>> Transpiling parametrized circuit, Iteration: 9 ...\n",
      ">>> Starting experiments with Problem: uuf50-01.cnf ...\n",
      ">>> Parametrized circuit created, Depth: 1 ...\n",
      ">>> Transpiling parametrized circuit, Iteration: 0 ...\n"
     ]
    },
    {
     "name": "stderr",
     "output_type": "stream",
     "text": [
      "/home/ogz/Desktop/FPQA-MAX3-SAT/utils/circuit_utils.py:34: RuntimeWarning: divide by zero encountered in scalar divide\n",
      "  estimated_shots_without_decoherence = np.log(1 - DESIRED_SUCCESS_PROBABILITY) / np.log(1 - fidelity)\n",
      "/home/ogz/Desktop/FPQA-MAX3-SAT/utils/circuit_utils.py:35: RuntimeWarning: divide by zero encountered in scalar divide\n",
      "  estimated_shots = np.log(1 - DESIRED_SUCCESS_PROBABILITY) / np.log(1 - fidelity * decoherence_fidelity)\n",
      "/home/ogz/Desktop/FPQA-MAX3-SAT/utils/circuit_utils.py:48: RuntimeWarning: divide by zero encountered in scalar divide\n",
      "  estimated_shots = np.log(1 - DESIRED_SUCCESS_PROBABILITY) / np.log(1 - fidelity)\n"
     ]
    },
    {
     "name": "stdout",
     "output_type": "stream",
     "text": [
      ">>> Transpiling parametrized circuit, Iteration: 1 ...\n"
     ]
    },
    {
     "name": "stderr",
     "output_type": "stream",
     "text": [
      "/home/ogz/Desktop/FPQA-MAX3-SAT/utils/circuit_utils.py:34: RuntimeWarning: divide by zero encountered in scalar divide\n",
      "  estimated_shots_without_decoherence = np.log(1 - DESIRED_SUCCESS_PROBABILITY) / np.log(1 - fidelity)\n",
      "/home/ogz/Desktop/FPQA-MAX3-SAT/utils/circuit_utils.py:35: RuntimeWarning: divide by zero encountered in scalar divide\n",
      "  estimated_shots = np.log(1 - DESIRED_SUCCESS_PROBABILITY) / np.log(1 - fidelity * decoherence_fidelity)\n",
      "/home/ogz/Desktop/FPQA-MAX3-SAT/utils/circuit_utils.py:48: RuntimeWarning: divide by zero encountered in scalar divide\n",
      "  estimated_shots = np.log(1 - DESIRED_SUCCESS_PROBABILITY) / np.log(1 - fidelity)\n"
     ]
    },
    {
     "name": "stdout",
     "output_type": "stream",
     "text": [
      ">>> Transpiling parametrized circuit, Iteration: 2 ...\n"
     ]
    },
    {
     "name": "stderr",
     "output_type": "stream",
     "text": [
      "/home/ogz/Desktop/FPQA-MAX3-SAT/utils/circuit_utils.py:34: RuntimeWarning: divide by zero encountered in scalar divide\n",
      "  estimated_shots_without_decoherence = np.log(1 - DESIRED_SUCCESS_PROBABILITY) / np.log(1 - fidelity)\n",
      "/home/ogz/Desktop/FPQA-MAX3-SAT/utils/circuit_utils.py:35: RuntimeWarning: divide by zero encountered in scalar divide\n",
      "  estimated_shots = np.log(1 - DESIRED_SUCCESS_PROBABILITY) / np.log(1 - fidelity * decoherence_fidelity)\n",
      "/home/ogz/Desktop/FPQA-MAX3-SAT/utils/circuit_utils.py:48: RuntimeWarning: divide by zero encountered in scalar divide\n",
      "  estimated_shots = np.log(1 - DESIRED_SUCCESS_PROBABILITY) / np.log(1 - fidelity)\n"
     ]
    },
    {
     "name": "stdout",
     "output_type": "stream",
     "text": [
      ">>> Transpiling parametrized circuit, Iteration: 3 ...\n"
     ]
    },
    {
     "name": "stderr",
     "output_type": "stream",
     "text": [
      "/home/ogz/Desktop/FPQA-MAX3-SAT/utils/circuit_utils.py:34: RuntimeWarning: divide by zero encountered in scalar divide\n",
      "  estimated_shots_without_decoherence = np.log(1 - DESIRED_SUCCESS_PROBABILITY) / np.log(1 - fidelity)\n",
      "/home/ogz/Desktop/FPQA-MAX3-SAT/utils/circuit_utils.py:35: RuntimeWarning: divide by zero encountered in scalar divide\n",
      "  estimated_shots = np.log(1 - DESIRED_SUCCESS_PROBABILITY) / np.log(1 - fidelity * decoherence_fidelity)\n",
      "/home/ogz/Desktop/FPQA-MAX3-SAT/utils/circuit_utils.py:48: RuntimeWarning: divide by zero encountered in scalar divide\n",
      "  estimated_shots = np.log(1 - DESIRED_SUCCESS_PROBABILITY) / np.log(1 - fidelity)\n"
     ]
    },
    {
     "name": "stdout",
     "output_type": "stream",
     "text": [
      ">>> Transpiling parametrized circuit, Iteration: 4 ...\n"
     ]
    },
    {
     "name": "stderr",
     "output_type": "stream",
     "text": [
      "/home/ogz/Desktop/FPQA-MAX3-SAT/utils/circuit_utils.py:34: RuntimeWarning: divide by zero encountered in scalar divide\n",
      "  estimated_shots_without_decoherence = np.log(1 - DESIRED_SUCCESS_PROBABILITY) / np.log(1 - fidelity)\n",
      "/home/ogz/Desktop/FPQA-MAX3-SAT/utils/circuit_utils.py:35: RuntimeWarning: divide by zero encountered in scalar divide\n",
      "  estimated_shots = np.log(1 - DESIRED_SUCCESS_PROBABILITY) / np.log(1 - fidelity * decoherence_fidelity)\n",
      "/home/ogz/Desktop/FPQA-MAX3-SAT/utils/circuit_utils.py:48: RuntimeWarning: divide by zero encountered in scalar divide\n",
      "  estimated_shots = np.log(1 - DESIRED_SUCCESS_PROBABILITY) / np.log(1 - fidelity)\n"
     ]
    },
    {
     "name": "stdout",
     "output_type": "stream",
     "text": [
      ">>> Transpiling parametrized circuit, Iteration: 5 ...\n"
     ]
    },
    {
     "name": "stderr",
     "output_type": "stream",
     "text": [
      "/home/ogz/Desktop/FPQA-MAX3-SAT/utils/circuit_utils.py:34: RuntimeWarning: divide by zero encountered in scalar divide\n",
      "  estimated_shots_without_decoherence = np.log(1 - DESIRED_SUCCESS_PROBABILITY) / np.log(1 - fidelity)\n",
      "/home/ogz/Desktop/FPQA-MAX3-SAT/utils/circuit_utils.py:35: RuntimeWarning: divide by zero encountered in scalar divide\n",
      "  estimated_shots = np.log(1 - DESIRED_SUCCESS_PROBABILITY) / np.log(1 - fidelity * decoherence_fidelity)\n",
      "/home/ogz/Desktop/FPQA-MAX3-SAT/utils/circuit_utils.py:48: RuntimeWarning: divide by zero encountered in scalar divide\n",
      "  estimated_shots = np.log(1 - DESIRED_SUCCESS_PROBABILITY) / np.log(1 - fidelity)\n"
     ]
    },
    {
     "name": "stdout",
     "output_type": "stream",
     "text": [
      ">>> Transpiling parametrized circuit, Iteration: 6 ...\n"
     ]
    },
    {
     "name": "stderr",
     "output_type": "stream",
     "text": [
      "/home/ogz/Desktop/FPQA-MAX3-SAT/utils/circuit_utils.py:34: RuntimeWarning: divide by zero encountered in scalar divide\n",
      "  estimated_shots_without_decoherence = np.log(1 - DESIRED_SUCCESS_PROBABILITY) / np.log(1 - fidelity)\n",
      "/home/ogz/Desktop/FPQA-MAX3-SAT/utils/circuit_utils.py:35: RuntimeWarning: divide by zero encountered in scalar divide\n",
      "  estimated_shots = np.log(1 - DESIRED_SUCCESS_PROBABILITY) / np.log(1 - fidelity * decoherence_fidelity)\n",
      "/home/ogz/Desktop/FPQA-MAX3-SAT/utils/circuit_utils.py:48: RuntimeWarning: divide by zero encountered in scalar divide\n",
      "  estimated_shots = np.log(1 - DESIRED_SUCCESS_PROBABILITY) / np.log(1 - fidelity)\n"
     ]
    },
    {
     "name": "stdout",
     "output_type": "stream",
     "text": [
      ">>> Transpiling parametrized circuit, Iteration: 7 ...\n"
     ]
    },
    {
     "name": "stderr",
     "output_type": "stream",
     "text": [
      "/home/ogz/Desktop/FPQA-MAX3-SAT/utils/circuit_utils.py:34: RuntimeWarning: divide by zero encountered in scalar divide\n",
      "  estimated_shots_without_decoherence = np.log(1 - DESIRED_SUCCESS_PROBABILITY) / np.log(1 - fidelity)\n",
      "/home/ogz/Desktop/FPQA-MAX3-SAT/utils/circuit_utils.py:35: RuntimeWarning: divide by zero encountered in scalar divide\n",
      "  estimated_shots = np.log(1 - DESIRED_SUCCESS_PROBABILITY) / np.log(1 - fidelity * decoherence_fidelity)\n",
      "/home/ogz/Desktop/FPQA-MAX3-SAT/utils/circuit_utils.py:48: RuntimeWarning: divide by zero encountered in scalar divide\n",
      "  estimated_shots = np.log(1 - DESIRED_SUCCESS_PROBABILITY) / np.log(1 - fidelity)\n"
     ]
    },
    {
     "name": "stdout",
     "output_type": "stream",
     "text": [
      ">>> Transpiling parametrized circuit, Iteration: 8 ...\n"
     ]
    },
    {
     "name": "stderr",
     "output_type": "stream",
     "text": [
      "/home/ogz/Desktop/FPQA-MAX3-SAT/utils/circuit_utils.py:34: RuntimeWarning: divide by zero encountered in scalar divide\n",
      "  estimated_shots_without_decoherence = np.log(1 - DESIRED_SUCCESS_PROBABILITY) / np.log(1 - fidelity)\n",
      "/home/ogz/Desktop/FPQA-MAX3-SAT/utils/circuit_utils.py:35: RuntimeWarning: divide by zero encountered in scalar divide\n",
      "  estimated_shots = np.log(1 - DESIRED_SUCCESS_PROBABILITY) / np.log(1 - fidelity * decoherence_fidelity)\n",
      "/home/ogz/Desktop/FPQA-MAX3-SAT/utils/circuit_utils.py:48: RuntimeWarning: divide by zero encountered in scalar divide\n",
      "  estimated_shots = np.log(1 - DESIRED_SUCCESS_PROBABILITY) / np.log(1 - fidelity)\n"
     ]
    },
    {
     "name": "stdout",
     "output_type": "stream",
     "text": [
      ">>> Transpiling parametrized circuit, Iteration: 9 ...\n"
     ]
    },
    {
     "name": "stderr",
     "output_type": "stream",
     "text": [
      "/home/ogz/Desktop/FPQA-MAX3-SAT/utils/circuit_utils.py:34: RuntimeWarning: divide by zero encountered in scalar divide\n",
      "  estimated_shots_without_decoherence = np.log(1 - DESIRED_SUCCESS_PROBABILITY) / np.log(1 - fidelity)\n",
      "/home/ogz/Desktop/FPQA-MAX3-SAT/utils/circuit_utils.py:35: RuntimeWarning: divide by zero encountered in scalar divide\n",
      "  estimated_shots = np.log(1 - DESIRED_SUCCESS_PROBABILITY) / np.log(1 - fidelity * decoherence_fidelity)\n",
      "/home/ogz/Desktop/FPQA-MAX3-SAT/utils/circuit_utils.py:48: RuntimeWarning: divide by zero encountered in scalar divide\n",
      "  estimated_shots = np.log(1 - DESIRED_SUCCESS_PROBABILITY) / np.log(1 - fidelity)\n"
     ]
    },
    {
     "name": "stdout",
     "output_type": "stream",
     "text": [
      ">>> Starting experiments with Problem: uuf75-01.cnf ...\n",
      ">>> Parametrized circuit created, Depth: 1 ...\n",
      ">>> Transpiling parametrized circuit, Iteration: 0 ...\n"
     ]
    },
    {
     "name": "stderr",
     "output_type": "stream",
     "text": [
      "/home/ogz/Desktop/FPQA-MAX3-SAT/utils/circuit_utils.py:34: RuntimeWarning: divide by zero encountered in scalar divide\n",
      "  estimated_shots_without_decoherence = np.log(1 - DESIRED_SUCCESS_PROBABILITY) / np.log(1 - fidelity)\n",
      "/home/ogz/Desktop/FPQA-MAX3-SAT/utils/circuit_utils.py:35: RuntimeWarning: divide by zero encountered in scalar divide\n",
      "  estimated_shots = np.log(1 - DESIRED_SUCCESS_PROBABILITY) / np.log(1 - fidelity * decoherence_fidelity)\n",
      "/home/ogz/Desktop/FPQA-MAX3-SAT/utils/circuit_utils.py:48: RuntimeWarning: divide by zero encountered in scalar divide\n",
      "  estimated_shots = np.log(1 - DESIRED_SUCCESS_PROBABILITY) / np.log(1 - fidelity)\n"
     ]
    },
    {
     "name": "stdout",
     "output_type": "stream",
     "text": [
      ">>> Transpiling parametrized circuit, Iteration: 1 ...\n"
     ]
    },
    {
     "name": "stderr",
     "output_type": "stream",
     "text": [
      "/home/ogz/Desktop/FPQA-MAX3-SAT/utils/circuit_utils.py:34: RuntimeWarning: divide by zero encountered in scalar divide\n",
      "  estimated_shots_without_decoherence = np.log(1 - DESIRED_SUCCESS_PROBABILITY) / np.log(1 - fidelity)\n",
      "/home/ogz/Desktop/FPQA-MAX3-SAT/utils/circuit_utils.py:35: RuntimeWarning: divide by zero encountered in scalar divide\n",
      "  estimated_shots = np.log(1 - DESIRED_SUCCESS_PROBABILITY) / np.log(1 - fidelity * decoherence_fidelity)\n",
      "/home/ogz/Desktop/FPQA-MAX3-SAT/utils/circuit_utils.py:48: RuntimeWarning: divide by zero encountered in scalar divide\n",
      "  estimated_shots = np.log(1 - DESIRED_SUCCESS_PROBABILITY) / np.log(1 - fidelity)\n"
     ]
    },
    {
     "name": "stdout",
     "output_type": "stream",
     "text": [
      ">>> Transpiling parametrized circuit, Iteration: 2 ...\n"
     ]
    },
    {
     "name": "stderr",
     "output_type": "stream",
     "text": [
      "/home/ogz/Desktop/FPQA-MAX3-SAT/utils/circuit_utils.py:34: RuntimeWarning: divide by zero encountered in scalar divide\n",
      "  estimated_shots_without_decoherence = np.log(1 - DESIRED_SUCCESS_PROBABILITY) / np.log(1 - fidelity)\n",
      "/home/ogz/Desktop/FPQA-MAX3-SAT/utils/circuit_utils.py:35: RuntimeWarning: divide by zero encountered in scalar divide\n",
      "  estimated_shots = np.log(1 - DESIRED_SUCCESS_PROBABILITY) / np.log(1 - fidelity * decoherence_fidelity)\n",
      "/home/ogz/Desktop/FPQA-MAX3-SAT/utils/circuit_utils.py:48: RuntimeWarning: divide by zero encountered in scalar divide\n",
      "  estimated_shots = np.log(1 - DESIRED_SUCCESS_PROBABILITY) / np.log(1 - fidelity)\n"
     ]
    },
    {
     "name": "stdout",
     "output_type": "stream",
     "text": [
      ">>> Transpiling parametrized circuit, Iteration: 3 ...\n"
     ]
    },
    {
     "name": "stderr",
     "output_type": "stream",
     "text": [
      "/home/ogz/Desktop/FPQA-MAX3-SAT/utils/circuit_utils.py:34: RuntimeWarning: divide by zero encountered in scalar divide\n",
      "  estimated_shots_without_decoherence = np.log(1 - DESIRED_SUCCESS_PROBABILITY) / np.log(1 - fidelity)\n",
      "/home/ogz/Desktop/FPQA-MAX3-SAT/utils/circuit_utils.py:35: RuntimeWarning: divide by zero encountered in scalar divide\n",
      "  estimated_shots = np.log(1 - DESIRED_SUCCESS_PROBABILITY) / np.log(1 - fidelity * decoherence_fidelity)\n",
      "/home/ogz/Desktop/FPQA-MAX3-SAT/utils/circuit_utils.py:48: RuntimeWarning: divide by zero encountered in scalar divide\n",
      "  estimated_shots = np.log(1 - DESIRED_SUCCESS_PROBABILITY) / np.log(1 - fidelity)\n"
     ]
    },
    {
     "name": "stdout",
     "output_type": "stream",
     "text": [
      ">>> Transpiling parametrized circuit, Iteration: 4 ...\n"
     ]
    },
    {
     "name": "stderr",
     "output_type": "stream",
     "text": [
      "/home/ogz/Desktop/FPQA-MAX3-SAT/utils/circuit_utils.py:34: RuntimeWarning: divide by zero encountered in scalar divide\n",
      "  estimated_shots_without_decoherence = np.log(1 - DESIRED_SUCCESS_PROBABILITY) / np.log(1 - fidelity)\n",
      "/home/ogz/Desktop/FPQA-MAX3-SAT/utils/circuit_utils.py:35: RuntimeWarning: divide by zero encountered in scalar divide\n",
      "  estimated_shots = np.log(1 - DESIRED_SUCCESS_PROBABILITY) / np.log(1 - fidelity * decoherence_fidelity)\n",
      "/home/ogz/Desktop/FPQA-MAX3-SAT/utils/circuit_utils.py:48: RuntimeWarning: divide by zero encountered in scalar divide\n",
      "  estimated_shots = np.log(1 - DESIRED_SUCCESS_PROBABILITY) / np.log(1 - fidelity)\n"
     ]
    },
    {
     "name": "stdout",
     "output_type": "stream",
     "text": [
      ">>> Transpiling parametrized circuit, Iteration: 5 ...\n"
     ]
    },
    {
     "name": "stderr",
     "output_type": "stream",
     "text": [
      "/home/ogz/Desktop/FPQA-MAX3-SAT/utils/circuit_utils.py:34: RuntimeWarning: divide by zero encountered in scalar divide\n",
      "  estimated_shots_without_decoherence = np.log(1 - DESIRED_SUCCESS_PROBABILITY) / np.log(1 - fidelity)\n",
      "/home/ogz/Desktop/FPQA-MAX3-SAT/utils/circuit_utils.py:35: RuntimeWarning: divide by zero encountered in scalar divide\n",
      "  estimated_shots = np.log(1 - DESIRED_SUCCESS_PROBABILITY) / np.log(1 - fidelity * decoherence_fidelity)\n",
      "/home/ogz/Desktop/FPQA-MAX3-SAT/utils/circuit_utils.py:48: RuntimeWarning: divide by zero encountered in scalar divide\n",
      "  estimated_shots = np.log(1 - DESIRED_SUCCESS_PROBABILITY) / np.log(1 - fidelity)\n"
     ]
    },
    {
     "name": "stdout",
     "output_type": "stream",
     "text": [
      ">>> Transpiling parametrized circuit, Iteration: 6 ...\n"
     ]
    },
    {
     "name": "stderr",
     "output_type": "stream",
     "text": [
      "/home/ogz/Desktop/FPQA-MAX3-SAT/utils/circuit_utils.py:34: RuntimeWarning: divide by zero encountered in scalar divide\n",
      "  estimated_shots_without_decoherence = np.log(1 - DESIRED_SUCCESS_PROBABILITY) / np.log(1 - fidelity)\n",
      "/home/ogz/Desktop/FPQA-MAX3-SAT/utils/circuit_utils.py:35: RuntimeWarning: divide by zero encountered in scalar divide\n",
      "  estimated_shots = np.log(1 - DESIRED_SUCCESS_PROBABILITY) / np.log(1 - fidelity * decoherence_fidelity)\n",
      "/home/ogz/Desktop/FPQA-MAX3-SAT/utils/circuit_utils.py:48: RuntimeWarning: divide by zero encountered in scalar divide\n",
      "  estimated_shots = np.log(1 - DESIRED_SUCCESS_PROBABILITY) / np.log(1 - fidelity)\n"
     ]
    },
    {
     "name": "stdout",
     "output_type": "stream",
     "text": [
      ">>> Transpiling parametrized circuit, Iteration: 7 ...\n"
     ]
    },
    {
     "name": "stderr",
     "output_type": "stream",
     "text": [
      "/home/ogz/Desktop/FPQA-MAX3-SAT/utils/circuit_utils.py:34: RuntimeWarning: divide by zero encountered in scalar divide\n",
      "  estimated_shots_without_decoherence = np.log(1 - DESIRED_SUCCESS_PROBABILITY) / np.log(1 - fidelity)\n",
      "/home/ogz/Desktop/FPQA-MAX3-SAT/utils/circuit_utils.py:35: RuntimeWarning: divide by zero encountered in scalar divide\n",
      "  estimated_shots = np.log(1 - DESIRED_SUCCESS_PROBABILITY) / np.log(1 - fidelity * decoherence_fidelity)\n",
      "/home/ogz/Desktop/FPQA-MAX3-SAT/utils/circuit_utils.py:48: RuntimeWarning: divide by zero encountered in scalar divide\n",
      "  estimated_shots = np.log(1 - DESIRED_SUCCESS_PROBABILITY) / np.log(1 - fidelity)\n"
     ]
    },
    {
     "name": "stdout",
     "output_type": "stream",
     "text": [
      ">>> Transpiling parametrized circuit, Iteration: 8 ...\n"
     ]
    },
    {
     "name": "stderr",
     "output_type": "stream",
     "text": [
      "/home/ogz/Desktop/FPQA-MAX3-SAT/utils/circuit_utils.py:34: RuntimeWarning: divide by zero encountered in scalar divide\n",
      "  estimated_shots_without_decoherence = np.log(1 - DESIRED_SUCCESS_PROBABILITY) / np.log(1 - fidelity)\n",
      "/home/ogz/Desktop/FPQA-MAX3-SAT/utils/circuit_utils.py:35: RuntimeWarning: divide by zero encountered in scalar divide\n",
      "  estimated_shots = np.log(1 - DESIRED_SUCCESS_PROBABILITY) / np.log(1 - fidelity * decoherence_fidelity)\n",
      "/home/ogz/Desktop/FPQA-MAX3-SAT/utils/circuit_utils.py:48: RuntimeWarning: divide by zero encountered in scalar divide\n",
      "  estimated_shots = np.log(1 - DESIRED_SUCCESS_PROBABILITY) / np.log(1 - fidelity)\n"
     ]
    },
    {
     "name": "stdout",
     "output_type": "stream",
     "text": [
      ">>> Transpiling parametrized circuit, Iteration: 9 ...\n"
     ]
    },
    {
     "name": "stderr",
     "output_type": "stream",
     "text": [
      "/home/ogz/Desktop/FPQA-MAX3-SAT/utils/circuit_utils.py:34: RuntimeWarning: divide by zero encountered in scalar divide\n",
      "  estimated_shots_without_decoherence = np.log(1 - DESIRED_SUCCESS_PROBABILITY) / np.log(1 - fidelity)\n",
      "/home/ogz/Desktop/FPQA-MAX3-SAT/utils/circuit_utils.py:35: RuntimeWarning: divide by zero encountered in scalar divide\n",
      "  estimated_shots = np.log(1 - DESIRED_SUCCESS_PROBABILITY) / np.log(1 - fidelity * decoherence_fidelity)\n",
      "/home/ogz/Desktop/FPQA-MAX3-SAT/utils/circuit_utils.py:48: RuntimeWarning: divide by zero encountered in scalar divide\n",
      "  estimated_shots = np.log(1 - DESIRED_SUCCESS_PROBABILITY) / np.log(1 - fidelity)\n"
     ]
    },
    {
     "name": "stdout",
     "output_type": "stream",
     "text": [
      ">>> Starting experiments with Problem: uuf100-01.cnf ...\n",
      ">>> Parametrized circuit created, Depth: 1 ...\n",
      ">>> Transpiling parametrized circuit, Iteration: 0 ...\n"
     ]
    },
    {
     "name": "stderr",
     "output_type": "stream",
     "text": [
      "/home/ogz/Desktop/FPQA-MAX3-SAT/utils/circuit_utils.py:34: RuntimeWarning: divide by zero encountered in scalar divide\n",
      "  estimated_shots_without_decoherence = np.log(1 - DESIRED_SUCCESS_PROBABILITY) / np.log(1 - fidelity)\n",
      "/home/ogz/Desktop/FPQA-MAX3-SAT/utils/circuit_utils.py:35: RuntimeWarning: divide by zero encountered in scalar divide\n",
      "  estimated_shots = np.log(1 - DESIRED_SUCCESS_PROBABILITY) / np.log(1 - fidelity * decoherence_fidelity)\n",
      "/home/ogz/Desktop/FPQA-MAX3-SAT/utils/circuit_utils.py:48: RuntimeWarning: divide by zero encountered in scalar divide\n",
      "  estimated_shots = np.log(1 - DESIRED_SUCCESS_PROBABILITY) / np.log(1 - fidelity)\n"
     ]
    },
    {
     "name": "stdout",
     "output_type": "stream",
     "text": [
      ">>> Transpiling parametrized circuit, Iteration: 1 ...\n"
     ]
    },
    {
     "name": "stderr",
     "output_type": "stream",
     "text": [
      "/home/ogz/Desktop/FPQA-MAX3-SAT/utils/circuit_utils.py:34: RuntimeWarning: divide by zero encountered in scalar divide\n",
      "  estimated_shots_without_decoherence = np.log(1 - DESIRED_SUCCESS_PROBABILITY) / np.log(1 - fidelity)\n",
      "/home/ogz/Desktop/FPQA-MAX3-SAT/utils/circuit_utils.py:35: RuntimeWarning: divide by zero encountered in scalar divide\n",
      "  estimated_shots = np.log(1 - DESIRED_SUCCESS_PROBABILITY) / np.log(1 - fidelity * decoherence_fidelity)\n",
      "/home/ogz/Desktop/FPQA-MAX3-SAT/utils/circuit_utils.py:48: RuntimeWarning: divide by zero encountered in scalar divide\n",
      "  estimated_shots = np.log(1 - DESIRED_SUCCESS_PROBABILITY) / np.log(1 - fidelity)\n"
     ]
    },
    {
     "name": "stdout",
     "output_type": "stream",
     "text": [
      ">>> Transpiling parametrized circuit, Iteration: 2 ...\n"
     ]
    },
    {
     "name": "stderr",
     "output_type": "stream",
     "text": [
      "/home/ogz/Desktop/FPQA-MAX3-SAT/utils/circuit_utils.py:34: RuntimeWarning: divide by zero encountered in scalar divide\n",
      "  estimated_shots_without_decoherence = np.log(1 - DESIRED_SUCCESS_PROBABILITY) / np.log(1 - fidelity)\n",
      "/home/ogz/Desktop/FPQA-MAX3-SAT/utils/circuit_utils.py:35: RuntimeWarning: divide by zero encountered in scalar divide\n",
      "  estimated_shots = np.log(1 - DESIRED_SUCCESS_PROBABILITY) / np.log(1 - fidelity * decoherence_fidelity)\n",
      "/home/ogz/Desktop/FPQA-MAX3-SAT/utils/circuit_utils.py:48: RuntimeWarning: divide by zero encountered in scalar divide\n",
      "  estimated_shots = np.log(1 - DESIRED_SUCCESS_PROBABILITY) / np.log(1 - fidelity)\n"
     ]
    },
    {
     "name": "stdout",
     "output_type": "stream",
     "text": [
      ">>> Transpiling parametrized circuit, Iteration: 3 ...\n"
     ]
    },
    {
     "name": "stderr",
     "output_type": "stream",
     "text": [
      "/home/ogz/Desktop/FPQA-MAX3-SAT/utils/circuit_utils.py:34: RuntimeWarning: divide by zero encountered in scalar divide\n",
      "  estimated_shots_without_decoherence = np.log(1 - DESIRED_SUCCESS_PROBABILITY) / np.log(1 - fidelity)\n",
      "/home/ogz/Desktop/FPQA-MAX3-SAT/utils/circuit_utils.py:35: RuntimeWarning: divide by zero encountered in scalar divide\n",
      "  estimated_shots = np.log(1 - DESIRED_SUCCESS_PROBABILITY) / np.log(1 - fidelity * decoherence_fidelity)\n",
      "/home/ogz/Desktop/FPQA-MAX3-SAT/utils/circuit_utils.py:48: RuntimeWarning: divide by zero encountered in scalar divide\n",
      "  estimated_shots = np.log(1 - DESIRED_SUCCESS_PROBABILITY) / np.log(1 - fidelity)\n"
     ]
    },
    {
     "name": "stdout",
     "output_type": "stream",
     "text": [
      ">>> Transpiling parametrized circuit, Iteration: 4 ...\n"
     ]
    },
    {
     "name": "stderr",
     "output_type": "stream",
     "text": [
      "/home/ogz/Desktop/FPQA-MAX3-SAT/utils/circuit_utils.py:34: RuntimeWarning: divide by zero encountered in scalar divide\n",
      "  estimated_shots_without_decoherence = np.log(1 - DESIRED_SUCCESS_PROBABILITY) / np.log(1 - fidelity)\n",
      "/home/ogz/Desktop/FPQA-MAX3-SAT/utils/circuit_utils.py:35: RuntimeWarning: divide by zero encountered in scalar divide\n",
      "  estimated_shots = np.log(1 - DESIRED_SUCCESS_PROBABILITY) / np.log(1 - fidelity * decoherence_fidelity)\n",
      "/home/ogz/Desktop/FPQA-MAX3-SAT/utils/circuit_utils.py:48: RuntimeWarning: divide by zero encountered in scalar divide\n",
      "  estimated_shots = np.log(1 - DESIRED_SUCCESS_PROBABILITY) / np.log(1 - fidelity)\n"
     ]
    },
    {
     "name": "stdout",
     "output_type": "stream",
     "text": [
      ">>> Transpiling parametrized circuit, Iteration: 5 ...\n"
     ]
    },
    {
     "name": "stderr",
     "output_type": "stream",
     "text": [
      "/home/ogz/Desktop/FPQA-MAX3-SAT/utils/circuit_utils.py:34: RuntimeWarning: divide by zero encountered in scalar divide\n",
      "  estimated_shots_without_decoherence = np.log(1 - DESIRED_SUCCESS_PROBABILITY) / np.log(1 - fidelity)\n",
      "/home/ogz/Desktop/FPQA-MAX3-SAT/utils/circuit_utils.py:35: RuntimeWarning: divide by zero encountered in scalar divide\n",
      "  estimated_shots = np.log(1 - DESIRED_SUCCESS_PROBABILITY) / np.log(1 - fidelity * decoherence_fidelity)\n",
      "/home/ogz/Desktop/FPQA-MAX3-SAT/utils/circuit_utils.py:48: RuntimeWarning: divide by zero encountered in scalar divide\n",
      "  estimated_shots = np.log(1 - DESIRED_SUCCESS_PROBABILITY) / np.log(1 - fidelity)\n"
     ]
    },
    {
     "name": "stdout",
     "output_type": "stream",
     "text": [
      ">>> Transpiling parametrized circuit, Iteration: 6 ...\n"
     ]
    },
    {
     "name": "stderr",
     "output_type": "stream",
     "text": [
      "/home/ogz/Desktop/FPQA-MAX3-SAT/utils/circuit_utils.py:34: RuntimeWarning: divide by zero encountered in scalar divide\n",
      "  estimated_shots_without_decoherence = np.log(1 - DESIRED_SUCCESS_PROBABILITY) / np.log(1 - fidelity)\n",
      "/home/ogz/Desktop/FPQA-MAX3-SAT/utils/circuit_utils.py:35: RuntimeWarning: divide by zero encountered in scalar divide\n",
      "  estimated_shots = np.log(1 - DESIRED_SUCCESS_PROBABILITY) / np.log(1 - fidelity * decoherence_fidelity)\n",
      "/home/ogz/Desktop/FPQA-MAX3-SAT/utils/circuit_utils.py:48: RuntimeWarning: divide by zero encountered in scalar divide\n",
      "  estimated_shots = np.log(1 - DESIRED_SUCCESS_PROBABILITY) / np.log(1 - fidelity)\n"
     ]
    },
    {
     "name": "stdout",
     "output_type": "stream",
     "text": [
      ">>> Transpiling parametrized circuit, Iteration: 7 ...\n"
     ]
    },
    {
     "name": "stderr",
     "output_type": "stream",
     "text": [
      "/home/ogz/Desktop/FPQA-MAX3-SAT/utils/circuit_utils.py:34: RuntimeWarning: divide by zero encountered in scalar divide\n",
      "  estimated_shots_without_decoherence = np.log(1 - DESIRED_SUCCESS_PROBABILITY) / np.log(1 - fidelity)\n",
      "/home/ogz/Desktop/FPQA-MAX3-SAT/utils/circuit_utils.py:35: RuntimeWarning: divide by zero encountered in scalar divide\n",
      "  estimated_shots = np.log(1 - DESIRED_SUCCESS_PROBABILITY) / np.log(1 - fidelity * decoherence_fidelity)\n",
      "/home/ogz/Desktop/FPQA-MAX3-SAT/utils/circuit_utils.py:48: RuntimeWarning: divide by zero encountered in scalar divide\n",
      "  estimated_shots = np.log(1 - DESIRED_SUCCESS_PROBABILITY) / np.log(1 - fidelity)\n"
     ]
    },
    {
     "name": "stdout",
     "output_type": "stream",
     "text": [
      ">>> Transpiling parametrized circuit, Iteration: 8 ...\n"
     ]
    },
    {
     "name": "stderr",
     "output_type": "stream",
     "text": [
      "/home/ogz/Desktop/FPQA-MAX3-SAT/utils/circuit_utils.py:34: RuntimeWarning: divide by zero encountered in scalar divide\n",
      "  estimated_shots_without_decoherence = np.log(1 - DESIRED_SUCCESS_PROBABILITY) / np.log(1 - fidelity)\n",
      "/home/ogz/Desktop/FPQA-MAX3-SAT/utils/circuit_utils.py:35: RuntimeWarning: divide by zero encountered in scalar divide\n",
      "  estimated_shots = np.log(1 - DESIRED_SUCCESS_PROBABILITY) / np.log(1 - fidelity * decoherence_fidelity)\n",
      "/home/ogz/Desktop/FPQA-MAX3-SAT/utils/circuit_utils.py:48: RuntimeWarning: divide by zero encountered in scalar divide\n",
      "  estimated_shots = np.log(1 - DESIRED_SUCCESS_PROBABILITY) / np.log(1 - fidelity)\n"
     ]
    },
    {
     "name": "stdout",
     "output_type": "stream",
     "text": [
      ">>> Transpiling parametrized circuit, Iteration: 9 ...\n"
     ]
    },
    {
     "name": "stderr",
     "output_type": "stream",
     "text": [
      "/home/ogz/Desktop/FPQA-MAX3-SAT/utils/circuit_utils.py:34: RuntimeWarning: divide by zero encountered in scalar divide\n",
      "  estimated_shots_without_decoherence = np.log(1 - DESIRED_SUCCESS_PROBABILITY) / np.log(1 - fidelity)\n",
      "/home/ogz/Desktop/FPQA-MAX3-SAT/utils/circuit_utils.py:35: RuntimeWarning: divide by zero encountered in scalar divide\n",
      "  estimated_shots = np.log(1 - DESIRED_SUCCESS_PROBABILITY) / np.log(1 - fidelity * decoherence_fidelity)\n",
      "/home/ogz/Desktop/FPQA-MAX3-SAT/utils/circuit_utils.py:48: RuntimeWarning: divide by zero encountered in scalar divide\n",
      "  estimated_shots = np.log(1 - DESIRED_SUCCESS_PROBABILITY) / np.log(1 - fidelity)\n"
     ]
    },
    {
     "name": "stdout",
     "output_type": "stream",
     "text": [
      ">>> Starting experiments with Problem: uuf125-01.cnf ...\n",
      ">>> Parametrized circuit created, Depth: 1 ...\n",
      ">>> Transpiling parametrized circuit, Iteration: 0 ...\n"
     ]
    },
    {
     "name": "stderr",
     "output_type": "stream",
     "text": [
      "/home/ogz/Desktop/FPQA-MAX3-SAT/utils/circuit_utils.py:34: RuntimeWarning: divide by zero encountered in scalar divide\n",
      "  estimated_shots_without_decoherence = np.log(1 - DESIRED_SUCCESS_PROBABILITY) / np.log(1 - fidelity)\n",
      "/home/ogz/Desktop/FPQA-MAX3-SAT/utils/circuit_utils.py:35: RuntimeWarning: divide by zero encountered in scalar divide\n",
      "  estimated_shots = np.log(1 - DESIRED_SUCCESS_PROBABILITY) / np.log(1 - fidelity * decoherence_fidelity)\n",
      "/home/ogz/Desktop/FPQA-MAX3-SAT/utils/circuit_utils.py:48: RuntimeWarning: divide by zero encountered in scalar divide\n",
      "  estimated_shots = np.log(1 - DESIRED_SUCCESS_PROBABILITY) / np.log(1 - fidelity)\n"
     ]
    },
    {
     "name": "stdout",
     "output_type": "stream",
     "text": [
      ">>> Transpiling parametrized circuit, Iteration: 1 ...\n"
     ]
    },
    {
     "name": "stderr",
     "output_type": "stream",
     "text": [
      "/home/ogz/Desktop/FPQA-MAX3-SAT/utils/circuit_utils.py:34: RuntimeWarning: divide by zero encountered in scalar divide\n",
      "  estimated_shots_without_decoherence = np.log(1 - DESIRED_SUCCESS_PROBABILITY) / np.log(1 - fidelity)\n",
      "/home/ogz/Desktop/FPQA-MAX3-SAT/utils/circuit_utils.py:35: RuntimeWarning: divide by zero encountered in scalar divide\n",
      "  estimated_shots = np.log(1 - DESIRED_SUCCESS_PROBABILITY) / np.log(1 - fidelity * decoherence_fidelity)\n",
      "/home/ogz/Desktop/FPQA-MAX3-SAT/utils/circuit_utils.py:48: RuntimeWarning: divide by zero encountered in scalar divide\n",
      "  estimated_shots = np.log(1 - DESIRED_SUCCESS_PROBABILITY) / np.log(1 - fidelity)\n"
     ]
    },
    {
     "name": "stdout",
     "output_type": "stream",
     "text": [
      ">>> Transpiling parametrized circuit, Iteration: 2 ...\n"
     ]
    },
    {
     "name": "stderr",
     "output_type": "stream",
     "text": [
      "/home/ogz/Desktop/FPQA-MAX3-SAT/utils/circuit_utils.py:34: RuntimeWarning: divide by zero encountered in scalar divide\n",
      "  estimated_shots_without_decoherence = np.log(1 - DESIRED_SUCCESS_PROBABILITY) / np.log(1 - fidelity)\n",
      "/home/ogz/Desktop/FPQA-MAX3-SAT/utils/circuit_utils.py:35: RuntimeWarning: divide by zero encountered in scalar divide\n",
      "  estimated_shots = np.log(1 - DESIRED_SUCCESS_PROBABILITY) / np.log(1 - fidelity * decoherence_fidelity)\n",
      "/home/ogz/Desktop/FPQA-MAX3-SAT/utils/circuit_utils.py:48: RuntimeWarning: divide by zero encountered in scalar divide\n",
      "  estimated_shots = np.log(1 - DESIRED_SUCCESS_PROBABILITY) / np.log(1 - fidelity)\n"
     ]
    },
    {
     "name": "stdout",
     "output_type": "stream",
     "text": [
      ">>> Transpiling parametrized circuit, Iteration: 3 ...\n"
     ]
    },
    {
     "name": "stderr",
     "output_type": "stream",
     "text": [
      "/home/ogz/Desktop/FPQA-MAX3-SAT/utils/circuit_utils.py:34: RuntimeWarning: divide by zero encountered in scalar divide\n",
      "  estimated_shots_without_decoherence = np.log(1 - DESIRED_SUCCESS_PROBABILITY) / np.log(1 - fidelity)\n",
      "/home/ogz/Desktop/FPQA-MAX3-SAT/utils/circuit_utils.py:35: RuntimeWarning: divide by zero encountered in scalar divide\n",
      "  estimated_shots = np.log(1 - DESIRED_SUCCESS_PROBABILITY) / np.log(1 - fidelity * decoherence_fidelity)\n",
      "/home/ogz/Desktop/FPQA-MAX3-SAT/utils/circuit_utils.py:48: RuntimeWarning: divide by zero encountered in scalar divide\n",
      "  estimated_shots = np.log(1 - DESIRED_SUCCESS_PROBABILITY) / np.log(1 - fidelity)\n"
     ]
    },
    {
     "name": "stdout",
     "output_type": "stream",
     "text": [
      ">>> Transpiling parametrized circuit, Iteration: 4 ...\n"
     ]
    },
    {
     "name": "stderr",
     "output_type": "stream",
     "text": [
      "/home/ogz/Desktop/FPQA-MAX3-SAT/utils/circuit_utils.py:34: RuntimeWarning: divide by zero encountered in scalar divide\n",
      "  estimated_shots_without_decoherence = np.log(1 - DESIRED_SUCCESS_PROBABILITY) / np.log(1 - fidelity)\n",
      "/home/ogz/Desktop/FPQA-MAX3-SAT/utils/circuit_utils.py:35: RuntimeWarning: divide by zero encountered in scalar divide\n",
      "  estimated_shots = np.log(1 - DESIRED_SUCCESS_PROBABILITY) / np.log(1 - fidelity * decoherence_fidelity)\n",
      "/home/ogz/Desktop/FPQA-MAX3-SAT/utils/circuit_utils.py:48: RuntimeWarning: divide by zero encountered in scalar divide\n",
      "  estimated_shots = np.log(1 - DESIRED_SUCCESS_PROBABILITY) / np.log(1 - fidelity)\n"
     ]
    },
    {
     "name": "stdout",
     "output_type": "stream",
     "text": [
      ">>> Transpiling parametrized circuit, Iteration: 5 ...\n"
     ]
    },
    {
     "name": "stderr",
     "output_type": "stream",
     "text": [
      "/home/ogz/Desktop/FPQA-MAX3-SAT/utils/circuit_utils.py:34: RuntimeWarning: divide by zero encountered in scalar divide\n",
      "  estimated_shots_without_decoherence = np.log(1 - DESIRED_SUCCESS_PROBABILITY) / np.log(1 - fidelity)\n",
      "/home/ogz/Desktop/FPQA-MAX3-SAT/utils/circuit_utils.py:35: RuntimeWarning: divide by zero encountered in scalar divide\n",
      "  estimated_shots = np.log(1 - DESIRED_SUCCESS_PROBABILITY) / np.log(1 - fidelity * decoherence_fidelity)\n",
      "/home/ogz/Desktop/FPQA-MAX3-SAT/utils/circuit_utils.py:48: RuntimeWarning: divide by zero encountered in scalar divide\n",
      "  estimated_shots = np.log(1 - DESIRED_SUCCESS_PROBABILITY) / np.log(1 - fidelity)\n"
     ]
    },
    {
     "name": "stdout",
     "output_type": "stream",
     "text": [
      ">>> Transpiling parametrized circuit, Iteration: 6 ...\n"
     ]
    },
    {
     "name": "stderr",
     "output_type": "stream",
     "text": [
      "/home/ogz/Desktop/FPQA-MAX3-SAT/utils/circuit_utils.py:34: RuntimeWarning: divide by zero encountered in scalar divide\n",
      "  estimated_shots_without_decoherence = np.log(1 - DESIRED_SUCCESS_PROBABILITY) / np.log(1 - fidelity)\n",
      "/home/ogz/Desktop/FPQA-MAX3-SAT/utils/circuit_utils.py:35: RuntimeWarning: divide by zero encountered in scalar divide\n",
      "  estimated_shots = np.log(1 - DESIRED_SUCCESS_PROBABILITY) / np.log(1 - fidelity * decoherence_fidelity)\n",
      "/home/ogz/Desktop/FPQA-MAX3-SAT/utils/circuit_utils.py:48: RuntimeWarning: divide by zero encountered in scalar divide\n",
      "  estimated_shots = np.log(1 - DESIRED_SUCCESS_PROBABILITY) / np.log(1 - fidelity)\n"
     ]
    },
    {
     "name": "stdout",
     "output_type": "stream",
     "text": [
      ">>> Transpiling parametrized circuit, Iteration: 7 ...\n"
     ]
    },
    {
     "name": "stderr",
     "output_type": "stream",
     "text": [
      "/home/ogz/Desktop/FPQA-MAX3-SAT/utils/circuit_utils.py:34: RuntimeWarning: divide by zero encountered in scalar divide\n",
      "  estimated_shots_without_decoherence = np.log(1 - DESIRED_SUCCESS_PROBABILITY) / np.log(1 - fidelity)\n",
      "/home/ogz/Desktop/FPQA-MAX3-SAT/utils/circuit_utils.py:35: RuntimeWarning: divide by zero encountered in scalar divide\n",
      "  estimated_shots = np.log(1 - DESIRED_SUCCESS_PROBABILITY) / np.log(1 - fidelity * decoherence_fidelity)\n",
      "/home/ogz/Desktop/FPQA-MAX3-SAT/utils/circuit_utils.py:48: RuntimeWarning: divide by zero encountered in scalar divide\n",
      "  estimated_shots = np.log(1 - DESIRED_SUCCESS_PROBABILITY) / np.log(1 - fidelity)\n"
     ]
    },
    {
     "name": "stdout",
     "output_type": "stream",
     "text": [
      ">>> Transpiling parametrized circuit, Iteration: 8 ...\n"
     ]
    },
    {
     "name": "stderr",
     "output_type": "stream",
     "text": [
      "/home/ogz/Desktop/FPQA-MAX3-SAT/utils/circuit_utils.py:34: RuntimeWarning: divide by zero encountered in scalar divide\n",
      "  estimated_shots_without_decoherence = np.log(1 - DESIRED_SUCCESS_PROBABILITY) / np.log(1 - fidelity)\n",
      "/home/ogz/Desktop/FPQA-MAX3-SAT/utils/circuit_utils.py:35: RuntimeWarning: divide by zero encountered in scalar divide\n",
      "  estimated_shots = np.log(1 - DESIRED_SUCCESS_PROBABILITY) / np.log(1 - fidelity * decoherence_fidelity)\n",
      "/home/ogz/Desktop/FPQA-MAX3-SAT/utils/circuit_utils.py:48: RuntimeWarning: divide by zero encountered in scalar divide\n",
      "  estimated_shots = np.log(1 - DESIRED_SUCCESS_PROBABILITY) / np.log(1 - fidelity)\n"
     ]
    },
    {
     "name": "stdout",
     "output_type": "stream",
     "text": [
      ">>> Transpiling parametrized circuit, Iteration: 9 ...\n"
     ]
    },
    {
     "name": "stderr",
     "output_type": "stream",
     "text": [
      "/home/ogz/Desktop/FPQA-MAX3-SAT/utils/circuit_utils.py:34: RuntimeWarning: divide by zero encountered in scalar divide\n",
      "  estimated_shots_without_decoherence = np.log(1 - DESIRED_SUCCESS_PROBABILITY) / np.log(1 - fidelity)\n",
      "/home/ogz/Desktop/FPQA-MAX3-SAT/utils/circuit_utils.py:35: RuntimeWarning: divide by zero encountered in scalar divide\n",
      "  estimated_shots = np.log(1 - DESIRED_SUCCESS_PROBABILITY) / np.log(1 - fidelity * decoherence_fidelity)\n",
      "/home/ogz/Desktop/FPQA-MAX3-SAT/utils/circuit_utils.py:48: RuntimeWarning: divide by zero encountered in scalar divide\n",
      "  estimated_shots = np.log(1 - DESIRED_SUCCESS_PROBABILITY) / np.log(1 - fidelity)\n"
     ]
    },
    {
     "data": {
      "text/html": [
       "<div>\n",
       "<style scoped>\n",
       "    .dataframe tbody tr th:only-of-type {\n",
       "        vertical-align: middle;\n",
       "    }\n",
       "\n",
       "    .dataframe tbody tr th {\n",
       "        vertical-align: top;\n",
       "    }\n",
       "\n",
       "    .dataframe thead th {\n",
       "        text-align: right;\n",
       "    }\n",
       "</style>\n",
       "<table border=\"1\" class=\"dataframe\">\n",
       "  <thead>\n",
       "    <tr style=\"text-align: right;\">\n",
       "      <th></th>\n",
       "      <th>Name</th>\n",
       "      <th>Hardware</th>\n",
       "      <th>QAOA Depth</th>\n",
       "      <th>Average Circuit Depth</th>\n",
       "      <th>Ideal Fidelity</th>\n",
       "      <th>Ideal Estimated Shots</th>\n",
       "      <th>Fidelity with Decoherence</th>\n",
       "      <th>Estimated Shots with Decoherence for 2/3 Success Rate</th>\n",
       "      <th>Fidelity without Decoherence</th>\n",
       "      <th>Estimated Shots without Decoherence for 2/3 Success Rate</th>\n",
       "      <th>Average Swap Overhead</th>\n",
       "      <th>Average Number of Two Qubit Gates</th>\n",
       "      <th>Iterations</th>\n",
       "    </tr>\n",
       "  </thead>\n",
       "  <tbody>\n",
       "    <tr>\n",
       "      <th>0</th>\n",
       "      <td>uf20-01.cnf</td>\n",
       "      <td>ibm_sherbrooke</td>\n",
       "      <td>1</td>\n",
       "      <td>2511.6</td>\n",
       "      <td>7.831619e-07</td>\n",
       "      <td>1.494248e+06</td>\n",
       "      <td>5.805747e-11</td>\n",
       "      <td>1.561356e+11</td>\n",
       "      <td>4.142063e-04</td>\n",
       "      <td>3372.240684</td>\n",
       "      <td>327</td>\n",
       "      <td>1277</td>\n",
       "      <td>10</td>\n",
       "    </tr>\n",
       "    <tr>\n",
       "      <th>1</th>\n",
       "      <td>uuf50-01.cnf</td>\n",
       "      <td>ibm_sherbrooke</td>\n",
       "      <td>1</td>\n",
       "      <td>8449.7</td>\n",
       "      <td>5.061086e-31</td>\n",
       "      <td>-inf</td>\n",
       "      <td>3.895765e-69</td>\n",
       "      <td>-inf</td>\n",
       "      <td>1.686629e-26</td>\n",
       "      <td>-inf</td>\n",
       "      <td>1841</td>\n",
       "      <td>6386</td>\n",
       "      <td>10</td>\n",
       "    </tr>\n",
       "    <tr>\n",
       "      <th>2</th>\n",
       "      <td>uuf75-01.cnf</td>\n",
       "      <td>ibm_sherbrooke</td>\n",
       "      <td>1</td>\n",
       "      <td>14325.6</td>\n",
       "      <td>3.985309e-61</td>\n",
       "      <td>-inf</td>\n",
       "      <td>0.000000e+00</td>\n",
       "      <td>-inf</td>\n",
       "      <td>0.000000e+00</td>\n",
       "      <td>-inf</td>\n",
       "      <td>3793</td>\n",
       "      <td>12778</td>\n",
       "      <td>10</td>\n",
       "    </tr>\n",
       "    <tr>\n",
       "      <th>3</th>\n",
       "      <td>uuf100-01.cnf</td>\n",
       "      <td>ibm_sherbrooke</td>\n",
       "      <td>1</td>\n",
       "      <td>20762.0</td>\n",
       "      <td>5.615926e-98</td>\n",
       "      <td>-inf</td>\n",
       "      <td>0.000000e+00</td>\n",
       "      <td>-inf</td>\n",
       "      <td>0.000000e+00</td>\n",
       "      <td>-inf</td>\n",
       "      <td>6278</td>\n",
       "      <td>20762</td>\n",
       "      <td>10</td>\n",
       "    </tr>\n",
       "    <tr>\n",
       "      <th>4</th>\n",
       "      <td>uuf125-01.cnf</td>\n",
       "      <td>ibm_sherbrooke</td>\n",
       "      <td>1</td>\n",
       "      <td>26560.6</td>\n",
       "      <td>6.266132e-141</td>\n",
       "      <td>-inf</td>\n",
       "      <td>0.000000e+00</td>\n",
       "      <td>-inf</td>\n",
       "      <td>0.000000e+00</td>\n",
       "      <td>-inf</td>\n",
       "      <td>9221</td>\n",
       "      <td>30127</td>\n",
       "      <td>10</td>\n",
       "    </tr>\n",
       "  </tbody>\n",
       "</table>\n",
       "</div>"
      ],
      "text/plain": [
       "            Name        Hardware  QAOA Depth  Average Circuit Depth  \\\n",
       "0    uf20-01.cnf  ibm_sherbrooke           1                 2511.6   \n",
       "1   uuf50-01.cnf  ibm_sherbrooke           1                 8449.7   \n",
       "2   uuf75-01.cnf  ibm_sherbrooke           1                14325.6   \n",
       "3  uuf100-01.cnf  ibm_sherbrooke           1                20762.0   \n",
       "4  uuf125-01.cnf  ibm_sherbrooke           1                26560.6   \n",
       "\n",
       "   Ideal Fidelity  Ideal Estimated Shots  Fidelity with Decoherence  \\\n",
       "0    7.831619e-07           1.494248e+06               5.805747e-11   \n",
       "1    5.061086e-31                   -inf               3.895765e-69   \n",
       "2    3.985309e-61                   -inf               0.000000e+00   \n",
       "3    5.615926e-98                   -inf               0.000000e+00   \n",
       "4   6.266132e-141                   -inf               0.000000e+00   \n",
       "\n",
       "   Estimated Shots with Decoherence for 2/3 Success Rate  \\\n",
       "0                                       1.561356e+11       \n",
       "1                                               -inf       \n",
       "2                                               -inf       \n",
       "3                                               -inf       \n",
       "4                                               -inf       \n",
       "\n",
       "   Fidelity without Decoherence  \\\n",
       "0                  4.142063e-04   \n",
       "1                  1.686629e-26   \n",
       "2                  0.000000e+00   \n",
       "3                  0.000000e+00   \n",
       "4                  0.000000e+00   \n",
       "\n",
       "   Estimated Shots without Decoherence for 2/3 Success Rate  \\\n",
       "0                                        3372.240684          \n",
       "1                                               -inf          \n",
       "2                                               -inf          \n",
       "3                                               -inf          \n",
       "4                                               -inf          \n",
       "\n",
       "   Average Swap Overhead  Average Number of Two Qubit Gates  Iterations  \n",
       "0                    327                               1277          10  \n",
       "1                   1841                               6386          10  \n",
       "2                   3793                              12778          10  \n",
       "3                   6278                              20762          10  \n",
       "4                   9221                              30127          10  "
      ]
     },
     "execution_count": 6,
     "metadata": {},
     "output_type": "execute_result"
    }
   ],
   "source": [
    "experiment = SuperconductingExperiment(\"superconducting_1\", [\"uf20-01.cnf\", \"uuf50-01.cnf\", \"uuf75-01.cnf\", \"uuf100-01.cnf\", \"uuf125-01.cnf\"], backend)\n",
    "\n",
    "experiment.run(max_depth=1, max_iterations=10)"
   ]
  },
  {
   "cell_type": "code",
   "execution_count": 10,
   "id": "e3e946f1-65cd-40d8-b023-84f674aa2aa6",
   "metadata": {},
   "outputs": [
    {
     "name": "stdout",
     "output_type": "stream",
     "text": [
      "generic_backend_261q\n",
      "261\n",
      "[[0, 1], [0, 25], [25, 32], [1, 2], [2, 3], [3, 4], [4, 5], [4, 26], [26, 36], [5, 6], [6, 7], [7, 8], [8, 9], [8, 27], [27, 40], [9, 10], [10, 11], [11, 12], [12, 13], [12, 28], [28, 44], [13, 14], [14, 15], [15, 16], [16, 17], [16, 29], [29, 48], [17, 18], [18, 19], [19, 20], [20, 21], [20, 30], [30, 52], [21, 22], [22, 23], [23, 24], [24, 31], [31, 56], [32, 33], [33, 34], [34, 35], [34, 59], [59, 68], [35, 36], [36, 37], [37, 38], [38, 39], [38, 60], [60, 72], [39, 40], [40, 41], [41, 42], [42, 43], [42, 61], [61, 76], [43, 44], [44, 45], [45, 46], [46, 47], [46, 62], [62, 80], [47, 48], [48, 49], [49, 50], [50, 51], [50, 63], [63, 84], [51, 52], [52, 53], [53, 54], [54, 55], [54, 64], [64, 88], [55, 56], [56, 57], [57, 58], [58, 65], [65, 92], [66, 67], [66, 93], [93, 100], [67, 68], [68, 69], [69, 70], [70, 71], [70, 94], [94, 104], [71, 72], [72, 73], [73, 74], [74, 75], [74, 95], [95, 108], [75, 76], [76, 77], [77, 78], [78, 79], [78, 96], [96, 112], [79, 80], [80, 81], [81, 82], [82, 83], [82, 97], [97, 116], [83, 84], [84, 85], [85, 86], [86, 87], [86, 98], [98, 120], [87, 88], [88, 89], [89, 90], [90, 91], [90, 99], [99, 124], [91, 92], [100, 101], [101, 102], [102, 103], [102, 127], [127, 136], [103, 104], [104, 105], [105, 106], [106, 107], [106, 128], [128, 140], [107, 108], [108, 109], [109, 110], [110, 111], [110, 129], [129, 144], [111, 112], [112, 113], [113, 114], [114, 115], [114, 130], [130, 148], [115, 116], [116, 117], [117, 118], [118, 119], [118, 131], [131, 152], [119, 120], [120, 121], [121, 122], [122, 123], [122, 132], [132, 156], [123, 124], [124, 125], [125, 126], [126, 133], [133, 160], [134, 135], [134, 161], [161, 168], [135, 136], [136, 137], [137, 138], [138, 139], [138, 162], [162, 172], [139, 140], [140, 141], [141, 142], [142, 143], [142, 163], [163, 176], [143, 144], [144, 145], [145, 146], [146, 147], [146, 164], [164, 180], [147, 148], [148, 149], [149, 150], [150, 151], [150, 165], [165, 184], [151, 152], [152, 153], [153, 154], [154, 155], [154, 166], [166, 188], [155, 156], [156, 157], [157, 158], [158, 159], [158, 167], [167, 192], [159, 160], [168, 169], [169, 170], [170, 171], [170, 195], [195, 204], [171, 172], [172, 173], [173, 174], [174, 175], [174, 196], [196, 208], [175, 176], [176, 177], [177, 178], [178, 179], [178, 197], [197, 212], [179, 180], [180, 181], [181, 182], [182, 183], [182, 198], [198, 216], [183, 184], [184, 185], [185, 186], [186, 187], [186, 199], [199, 220], [187, 188], [188, 189], [189, 190], [190, 191], [190, 200], [200, 224], [191, 192], [192, 193], [193, 194], [194, 201], [201, 228], [202, 203], [202, 229], [229, 234], [203, 204], [204, 205], [205, 206], [206, 207], [206, 230], [230, 238], [207, 208], [208, 209], [209, 210], [210, 211], [210, 231], [231, 242], [211, 212], [212, 213], [213, 214], [214, 215], [214, 232], [232, 246], [215, 216], [216, 217], [217, 218], [218, 219], [218, 233], [233, 250], [219, 220], [220, 221], [221, 222], [222, 223], [222, 234], [234, 254], [223, 224], [224, 225], [225, 226], [226, 227], [226, 235], [235, 258], [227, 228], [236, 237], [237, 238], [238, 239], [239, 240], [240, 241], [241, 242], [242, 243], [243, 244], [244, 245], [245, 246], [246, 247], [247, 248], [248, 249], [249, 250], [250, 251], [251, 252], [252, 253], [253, 254], [254, 255], [255, 256], [256, 257], [257, 258], [258, 259], [259, 260]]\n",
      "InstructionProperties(duration=2e-10, error=0.005, calibration=None)\n",
      "['id', 'rz', 'sx', 'x', 'ecr', 'reset', 'delay', 'measure']\n"
     ]
    }
   ],
   "source": [
    "fake_backend = create_fake_heavy_hex_backend(7, 6)\n",
    "\n",
    "print(fake_backend.name)\n",
    "print(fake_backend.num_qubits)\n",
    "print(fake_backend.coupling_map)\n",
    "print(fake_backend.target[\"ecr\"][(0,1)])\n",
    "print(fake_backend.basis_gates)"
   ]
  },
  {
   "cell_type": "code",
   "execution_count": 93,
   "id": "48111876-eedd-4835-8879-b0f2cce2994b",
   "metadata": {
    "scrolled": true
   },
   "outputs": [
    {
     "name": "stdout",
     "output_type": "stream",
     "text": [
      ">>> Starting experiments with Problem: uuf20-01-generated.cnf ...\n",
      ">>> Parametrized circuit created, Depth: 1 ...\n",
      ">>> Transpiling parametrized circuit, Iteration: 0 ...\n",
      ">>> Transpiling parametrized circuit, Iteration: 1 ...\n",
      ">>> Transpiling parametrized circuit, Iteration: 2 ...\n",
      ">>> Transpiling parametrized circuit, Iteration: 3 ...\n",
      ">>> Transpiling parametrized circuit, Iteration: 4 ...\n",
      ">>> Starting experiments with Problem: uuf21-01-generated.cnf ...\n",
      ">>> Parametrized circuit created, Depth: 1 ...\n",
      ">>> Transpiling parametrized circuit, Iteration: 0 ...\n",
      ">>> Transpiling parametrized circuit, Iteration: 1 ...\n",
      ">>> Transpiling parametrized circuit, Iteration: 2 ...\n",
      ">>> Transpiling parametrized circuit, Iteration: 3 ...\n",
      ">>> Transpiling parametrized circuit, Iteration: 4 ...\n",
      ">>> Starting experiments with Problem: uuf22-01-generated.cnf ...\n",
      ">>> Parametrized circuit created, Depth: 1 ...\n",
      ">>> Transpiling parametrized circuit, Iteration: 0 ...\n",
      ">>> Transpiling parametrized circuit, Iteration: 1 ...\n",
      ">>> Transpiling parametrized circuit, Iteration: 2 ...\n",
      ">>> Transpiling parametrized circuit, Iteration: 3 ...\n",
      ">>> Transpiling parametrized circuit, Iteration: 4 ...\n",
      ">>> Starting experiments with Problem: uuf23-01-generated.cnf ...\n",
      ">>> Parametrized circuit created, Depth: 1 ...\n",
      ">>> Transpiling parametrized circuit, Iteration: 0 ...\n",
      ">>> Transpiling parametrized circuit, Iteration: 1 ...\n",
      ">>> Transpiling parametrized circuit, Iteration: 2 ...\n",
      ">>> Transpiling parametrized circuit, Iteration: 3 ...\n",
      ">>> Transpiling parametrized circuit, Iteration: 4 ...\n",
      ">>> Starting experiments with Problem: uuf24-01-generated.cnf ...\n",
      ">>> Parametrized circuit created, Depth: 1 ...\n",
      ">>> Transpiling parametrized circuit, Iteration: 0 ...\n",
      ">>> Transpiling parametrized circuit, Iteration: 1 ...\n",
      ">>> Transpiling parametrized circuit, Iteration: 2 ...\n",
      ">>> Transpiling parametrized circuit, Iteration: 3 ...\n",
      ">>> Transpiling parametrized circuit, Iteration: 4 ...\n",
      ">>> Starting experiments with Problem: uuf25-01-generated.cnf ...\n",
      ">>> Parametrized circuit created, Depth: 1 ...\n",
      ">>> Transpiling parametrized circuit, Iteration: 0 ...\n",
      ">>> Transpiling parametrized circuit, Iteration: 1 ...\n",
      ">>> Transpiling parametrized circuit, Iteration: 2 ...\n",
      ">>> Transpiling parametrized circuit, Iteration: 3 ...\n",
      ">>> Transpiling parametrized circuit, Iteration: 4 ...\n",
      ">>> Starting experiments with Problem: uuf26-01-generated.cnf ...\n",
      ">>> Parametrized circuit created, Depth: 1 ...\n",
      ">>> Transpiling parametrized circuit, Iteration: 0 ...\n",
      ">>> Transpiling parametrized circuit, Iteration: 1 ...\n",
      ">>> Transpiling parametrized circuit, Iteration: 2 ...\n",
      ">>> Transpiling parametrized circuit, Iteration: 3 ...\n",
      ">>> Transpiling parametrized circuit, Iteration: 4 ...\n",
      ">>> Starting experiments with Problem: uuf27-01-generated.cnf ...\n",
      ">>> Parametrized circuit created, Depth: 1 ...\n",
      ">>> Transpiling parametrized circuit, Iteration: 0 ...\n",
      ">>> Transpiling parametrized circuit, Iteration: 1 ...\n",
      ">>> Transpiling parametrized circuit, Iteration: 2 ...\n",
      ">>> Transpiling parametrized circuit, Iteration: 3 ...\n",
      ">>> Transpiling parametrized circuit, Iteration: 4 ...\n",
      ">>> Starting experiments with Problem: uuf28-01-generated.cnf ...\n",
      ">>> Parametrized circuit created, Depth: 1 ...\n",
      ">>> Transpiling parametrized circuit, Iteration: 0 ...\n",
      ">>> Transpiling parametrized circuit, Iteration: 1 ...\n",
      ">>> Transpiling parametrized circuit, Iteration: 2 ...\n",
      ">>> Transpiling parametrized circuit, Iteration: 3 ...\n",
      ">>> Transpiling parametrized circuit, Iteration: 4 ...\n",
      ">>> Starting experiments with Problem: uuf29-01-generated.cnf ...\n",
      ">>> Parametrized circuit created, Depth: 1 ...\n",
      ">>> Transpiling parametrized circuit, Iteration: 0 ...\n",
      ">>> Transpiling parametrized circuit, Iteration: 1 ...\n",
      ">>> Transpiling parametrized circuit, Iteration: 2 ...\n",
      ">>> Transpiling parametrized circuit, Iteration: 3 ...\n",
      ">>> Transpiling parametrized circuit, Iteration: 4 ...\n",
      ">>> Starting experiments with Problem: uuf30-01-generated.cnf ...\n",
      ">>> Parametrized circuit created, Depth: 1 ...\n",
      ">>> Transpiling parametrized circuit, Iteration: 0 ...\n",
      ">>> Transpiling parametrized circuit, Iteration: 1 ...\n",
      ">>> Transpiling parametrized circuit, Iteration: 2 ...\n",
      ">>> Transpiling parametrized circuit, Iteration: 3 ...\n",
      ">>> Transpiling parametrized circuit, Iteration: 4 ...\n",
      ">>> Starting experiments with Problem: uuf31-01-generated.cnf ...\n",
      ">>> Parametrized circuit created, Depth: 1 ...\n",
      ">>> Transpiling parametrized circuit, Iteration: 0 ...\n"
     ]
    },
    {
     "name": "stderr",
     "output_type": "stream",
     "text": [
      "/home/ogz/Desktop/FPQA-MAX3-SAT/utils/circuit_utils.py:35: RuntimeWarning: divide by zero encountered in scalar divide\n",
      "  estimated_shots = np.log(1 - DESIRED_SUCCESS_PROBABILITY) / np.log(1 - fidelity * decoherence_fidelity)\n"
     ]
    },
    {
     "name": "stdout",
     "output_type": "stream",
     "text": [
      ">>> Transpiling parametrized circuit, Iteration: 1 ...\n"
     ]
    },
    {
     "name": "stderr",
     "output_type": "stream",
     "text": [
      "/home/ogz/Desktop/FPQA-MAX3-SAT/utils/circuit_utils.py:35: RuntimeWarning: divide by zero encountered in scalar divide\n",
      "  estimated_shots = np.log(1 - DESIRED_SUCCESS_PROBABILITY) / np.log(1 - fidelity * decoherence_fidelity)\n"
     ]
    },
    {
     "name": "stdout",
     "output_type": "stream",
     "text": [
      ">>> Transpiling parametrized circuit, Iteration: 2 ...\n"
     ]
    },
    {
     "name": "stderr",
     "output_type": "stream",
     "text": [
      "/home/ogz/Desktop/FPQA-MAX3-SAT/utils/circuit_utils.py:35: RuntimeWarning: divide by zero encountered in scalar divide\n",
      "  estimated_shots = np.log(1 - DESIRED_SUCCESS_PROBABILITY) / np.log(1 - fidelity * decoherence_fidelity)\n"
     ]
    },
    {
     "name": "stdout",
     "output_type": "stream",
     "text": [
      ">>> Transpiling parametrized circuit, Iteration: 3 ...\n"
     ]
    },
    {
     "name": "stderr",
     "output_type": "stream",
     "text": [
      "/home/ogz/Desktop/FPQA-MAX3-SAT/utils/circuit_utils.py:35: RuntimeWarning: divide by zero encountered in scalar divide\n",
      "  estimated_shots = np.log(1 - DESIRED_SUCCESS_PROBABILITY) / np.log(1 - fidelity * decoherence_fidelity)\n"
     ]
    },
    {
     "name": "stdout",
     "output_type": "stream",
     "text": [
      ">>> Transpiling parametrized circuit, Iteration: 4 ...\n"
     ]
    },
    {
     "name": "stderr",
     "output_type": "stream",
     "text": [
      "/home/ogz/Desktop/FPQA-MAX3-SAT/utils/circuit_utils.py:35: RuntimeWarning: divide by zero encountered in scalar divide\n",
      "  estimated_shots = np.log(1 - DESIRED_SUCCESS_PROBABILITY) / np.log(1 - fidelity * decoherence_fidelity)\n"
     ]
    },
    {
     "name": "stdout",
     "output_type": "stream",
     "text": [
      ">>> Starting experiments with Problem: uuf32-01-generated.cnf ...\n",
      ">>> Parametrized circuit created, Depth: 1 ...\n",
      ">>> Transpiling parametrized circuit, Iteration: 0 ...\n"
     ]
    },
    {
     "name": "stderr",
     "output_type": "stream",
     "text": [
      "/home/ogz/Desktop/FPQA-MAX3-SAT/utils/circuit_utils.py:35: RuntimeWarning: divide by zero encountered in scalar divide\n",
      "  estimated_shots = np.log(1 - DESIRED_SUCCESS_PROBABILITY) / np.log(1 - fidelity * decoherence_fidelity)\n"
     ]
    },
    {
     "name": "stdout",
     "output_type": "stream",
     "text": [
      ">>> Transpiling parametrized circuit, Iteration: 1 ...\n"
     ]
    },
    {
     "name": "stderr",
     "output_type": "stream",
     "text": [
      "/home/ogz/Desktop/FPQA-MAX3-SAT/utils/circuit_utils.py:35: RuntimeWarning: divide by zero encountered in scalar divide\n",
      "  estimated_shots = np.log(1 - DESIRED_SUCCESS_PROBABILITY) / np.log(1 - fidelity * decoherence_fidelity)\n"
     ]
    },
    {
     "name": "stdout",
     "output_type": "stream",
     "text": [
      ">>> Transpiling parametrized circuit, Iteration: 2 ...\n"
     ]
    },
    {
     "name": "stderr",
     "output_type": "stream",
     "text": [
      "/home/ogz/Desktop/FPQA-MAX3-SAT/utils/circuit_utils.py:35: RuntimeWarning: divide by zero encountered in scalar divide\n",
      "  estimated_shots = np.log(1 - DESIRED_SUCCESS_PROBABILITY) / np.log(1 - fidelity * decoherence_fidelity)\n"
     ]
    },
    {
     "name": "stdout",
     "output_type": "stream",
     "text": [
      ">>> Transpiling parametrized circuit, Iteration: 3 ...\n"
     ]
    },
    {
     "name": "stderr",
     "output_type": "stream",
     "text": [
      "/home/ogz/Desktop/FPQA-MAX3-SAT/utils/circuit_utils.py:35: RuntimeWarning: divide by zero encountered in scalar divide\n",
      "  estimated_shots = np.log(1 - DESIRED_SUCCESS_PROBABILITY) / np.log(1 - fidelity * decoherence_fidelity)\n"
     ]
    },
    {
     "name": "stdout",
     "output_type": "stream",
     "text": [
      ">>> Transpiling parametrized circuit, Iteration: 4 ...\n"
     ]
    },
    {
     "name": "stderr",
     "output_type": "stream",
     "text": [
      "/home/ogz/Desktop/FPQA-MAX3-SAT/utils/circuit_utils.py:35: RuntimeWarning: divide by zero encountered in scalar divide\n",
      "  estimated_shots = np.log(1 - DESIRED_SUCCESS_PROBABILITY) / np.log(1 - fidelity * decoherence_fidelity)\n"
     ]
    },
    {
     "name": "stdout",
     "output_type": "stream",
     "text": [
      ">>> Starting experiments with Problem: uuf33-01-generated.cnf ...\n",
      ">>> Parametrized circuit created, Depth: 1 ...\n",
      ">>> Transpiling parametrized circuit, Iteration: 0 ...\n"
     ]
    },
    {
     "name": "stderr",
     "output_type": "stream",
     "text": [
      "/home/ogz/Desktop/FPQA-MAX3-SAT/utils/circuit_utils.py:35: RuntimeWarning: divide by zero encountered in scalar divide\n",
      "  estimated_shots = np.log(1 - DESIRED_SUCCESS_PROBABILITY) / np.log(1 - fidelity * decoherence_fidelity)\n"
     ]
    },
    {
     "name": "stdout",
     "output_type": "stream",
     "text": [
      ">>> Transpiling parametrized circuit, Iteration: 1 ...\n"
     ]
    },
    {
     "name": "stderr",
     "output_type": "stream",
     "text": [
      "/home/ogz/Desktop/FPQA-MAX3-SAT/utils/circuit_utils.py:35: RuntimeWarning: divide by zero encountered in scalar divide\n",
      "  estimated_shots = np.log(1 - DESIRED_SUCCESS_PROBABILITY) / np.log(1 - fidelity * decoherence_fidelity)\n"
     ]
    },
    {
     "name": "stdout",
     "output_type": "stream",
     "text": [
      ">>> Transpiling parametrized circuit, Iteration: 2 ...\n"
     ]
    },
    {
     "name": "stderr",
     "output_type": "stream",
     "text": [
      "/home/ogz/Desktop/FPQA-MAX3-SAT/utils/circuit_utils.py:35: RuntimeWarning: divide by zero encountered in scalar divide\n",
      "  estimated_shots = np.log(1 - DESIRED_SUCCESS_PROBABILITY) / np.log(1 - fidelity * decoherence_fidelity)\n"
     ]
    },
    {
     "name": "stdout",
     "output_type": "stream",
     "text": [
      ">>> Transpiling parametrized circuit, Iteration: 3 ...\n"
     ]
    },
    {
     "name": "stderr",
     "output_type": "stream",
     "text": [
      "/home/ogz/Desktop/FPQA-MAX3-SAT/utils/circuit_utils.py:35: RuntimeWarning: divide by zero encountered in scalar divide\n",
      "  estimated_shots = np.log(1 - DESIRED_SUCCESS_PROBABILITY) / np.log(1 - fidelity * decoherence_fidelity)\n"
     ]
    },
    {
     "name": "stdout",
     "output_type": "stream",
     "text": [
      ">>> Transpiling parametrized circuit, Iteration: 4 ...\n"
     ]
    },
    {
     "name": "stderr",
     "output_type": "stream",
     "text": [
      "/home/ogz/Desktop/FPQA-MAX3-SAT/utils/circuit_utils.py:35: RuntimeWarning: divide by zero encountered in scalar divide\n",
      "  estimated_shots = np.log(1 - DESIRED_SUCCESS_PROBABILITY) / np.log(1 - fidelity * decoherence_fidelity)\n"
     ]
    },
    {
     "name": "stdout",
     "output_type": "stream",
     "text": [
      ">>> Starting experiments with Problem: uuf34-01-generated.cnf ...\n",
      ">>> Parametrized circuit created, Depth: 1 ...\n",
      ">>> Transpiling parametrized circuit, Iteration: 0 ...\n"
     ]
    },
    {
     "name": "stderr",
     "output_type": "stream",
     "text": [
      "/home/ogz/Desktop/FPQA-MAX3-SAT/utils/circuit_utils.py:35: RuntimeWarning: divide by zero encountered in scalar divide\n",
      "  estimated_shots = np.log(1 - DESIRED_SUCCESS_PROBABILITY) / np.log(1 - fidelity * decoherence_fidelity)\n"
     ]
    },
    {
     "name": "stdout",
     "output_type": "stream",
     "text": [
      ">>> Transpiling parametrized circuit, Iteration: 1 ...\n"
     ]
    },
    {
     "name": "stderr",
     "output_type": "stream",
     "text": [
      "/home/ogz/Desktop/FPQA-MAX3-SAT/utils/circuit_utils.py:35: RuntimeWarning: divide by zero encountered in scalar divide\n",
      "  estimated_shots = np.log(1 - DESIRED_SUCCESS_PROBABILITY) / np.log(1 - fidelity * decoherence_fidelity)\n"
     ]
    },
    {
     "name": "stdout",
     "output_type": "stream",
     "text": [
      ">>> Transpiling parametrized circuit, Iteration: 2 ...\n"
     ]
    },
    {
     "name": "stderr",
     "output_type": "stream",
     "text": [
      "/home/ogz/Desktop/FPQA-MAX3-SAT/utils/circuit_utils.py:35: RuntimeWarning: divide by zero encountered in scalar divide\n",
      "  estimated_shots = np.log(1 - DESIRED_SUCCESS_PROBABILITY) / np.log(1 - fidelity * decoherence_fidelity)\n"
     ]
    },
    {
     "name": "stdout",
     "output_type": "stream",
     "text": [
      ">>> Transpiling parametrized circuit, Iteration: 3 ...\n"
     ]
    },
    {
     "name": "stderr",
     "output_type": "stream",
     "text": [
      "/home/ogz/Desktop/FPQA-MAX3-SAT/utils/circuit_utils.py:35: RuntimeWarning: divide by zero encountered in scalar divide\n",
      "  estimated_shots = np.log(1 - DESIRED_SUCCESS_PROBABILITY) / np.log(1 - fidelity * decoherence_fidelity)\n"
     ]
    },
    {
     "name": "stdout",
     "output_type": "stream",
     "text": [
      ">>> Transpiling parametrized circuit, Iteration: 4 ...\n"
     ]
    },
    {
     "name": "stderr",
     "output_type": "stream",
     "text": [
      "/home/ogz/Desktop/FPQA-MAX3-SAT/utils/circuit_utils.py:35: RuntimeWarning: divide by zero encountered in scalar divide\n",
      "  estimated_shots = np.log(1 - DESIRED_SUCCESS_PROBABILITY) / np.log(1 - fidelity * decoherence_fidelity)\n"
     ]
    },
    {
     "name": "stdout",
     "output_type": "stream",
     "text": [
      ">>> Starting experiments with Problem: uuf35-01-generated.cnf ...\n",
      ">>> Parametrized circuit created, Depth: 1 ...\n",
      ">>> Transpiling parametrized circuit, Iteration: 0 ...\n"
     ]
    },
    {
     "name": "stderr",
     "output_type": "stream",
     "text": [
      "/home/ogz/Desktop/FPQA-MAX3-SAT/utils/circuit_utils.py:35: RuntimeWarning: divide by zero encountered in scalar divide\n",
      "  estimated_shots = np.log(1 - DESIRED_SUCCESS_PROBABILITY) / np.log(1 - fidelity * decoherence_fidelity)\n"
     ]
    },
    {
     "name": "stdout",
     "output_type": "stream",
     "text": [
      ">>> Transpiling parametrized circuit, Iteration: 1 ...\n"
     ]
    },
    {
     "name": "stderr",
     "output_type": "stream",
     "text": [
      "/home/ogz/Desktop/FPQA-MAX3-SAT/utils/circuit_utils.py:35: RuntimeWarning: divide by zero encountered in scalar divide\n",
      "  estimated_shots = np.log(1 - DESIRED_SUCCESS_PROBABILITY) / np.log(1 - fidelity * decoherence_fidelity)\n"
     ]
    },
    {
     "name": "stdout",
     "output_type": "stream",
     "text": [
      ">>> Transpiling parametrized circuit, Iteration: 2 ...\n"
     ]
    },
    {
     "name": "stderr",
     "output_type": "stream",
     "text": [
      "/home/ogz/Desktop/FPQA-MAX3-SAT/utils/circuit_utils.py:35: RuntimeWarning: divide by zero encountered in scalar divide\n",
      "  estimated_shots = np.log(1 - DESIRED_SUCCESS_PROBABILITY) / np.log(1 - fidelity * decoherence_fidelity)\n"
     ]
    },
    {
     "name": "stdout",
     "output_type": "stream",
     "text": [
      ">>> Transpiling parametrized circuit, Iteration: 3 ...\n"
     ]
    },
    {
     "name": "stderr",
     "output_type": "stream",
     "text": [
      "/home/ogz/Desktop/FPQA-MAX3-SAT/utils/circuit_utils.py:35: RuntimeWarning: divide by zero encountered in scalar divide\n",
      "  estimated_shots = np.log(1 - DESIRED_SUCCESS_PROBABILITY) / np.log(1 - fidelity * decoherence_fidelity)\n"
     ]
    },
    {
     "name": "stdout",
     "output_type": "stream",
     "text": [
      ">>> Transpiling parametrized circuit, Iteration: 4 ...\n"
     ]
    },
    {
     "name": "stderr",
     "output_type": "stream",
     "text": [
      "/home/ogz/Desktop/FPQA-MAX3-SAT/utils/circuit_utils.py:35: RuntimeWarning: divide by zero encountered in scalar divide\n",
      "  estimated_shots = np.log(1 - DESIRED_SUCCESS_PROBABILITY) / np.log(1 - fidelity * decoherence_fidelity)\n"
     ]
    },
    {
     "data": {
      "text/html": [
       "<div>\n",
       "<style scoped>\n",
       "    .dataframe tbody tr th:only-of-type {\n",
       "        vertical-align: middle;\n",
       "    }\n",
       "\n",
       "    .dataframe tbody tr th {\n",
       "        vertical-align: top;\n",
       "    }\n",
       "\n",
       "    .dataframe thead th {\n",
       "        text-align: right;\n",
       "    }\n",
       "</style>\n",
       "<table border=\"1\" class=\"dataframe\">\n",
       "  <thead>\n",
       "    <tr style=\"text-align: right;\">\n",
       "      <th></th>\n",
       "      <th>Name</th>\n",
       "      <th>Hardware</th>\n",
       "      <th>QAOA Depth</th>\n",
       "      <th>Average Circuit Depth</th>\n",
       "      <th>Ideal Fidelity</th>\n",
       "      <th>Ideal Estimated Shots</th>\n",
       "      <th>Fidelity with Decoherence</th>\n",
       "      <th>Estimated Shots with Decoherence for 2/3 Success Rate</th>\n",
       "      <th>Fidelity without Decoherence</th>\n",
       "      <th>Estimated Shots without Decoherence for 2/3 Success Rate</th>\n",
       "      <th>Average Swap Overhead</th>\n",
       "      <th>Average Number of Two Qubit Gates</th>\n",
       "      <th>Iterations</th>\n",
       "    </tr>\n",
       "  </thead>\n",
       "  <tbody>\n",
       "    <tr>\n",
       "      <th>0</th>\n",
       "      <td>uuf20-01-generated.cnf</td>\n",
       "      <td>ibm_sherbrooke</td>\n",
       "      <td>1</td>\n",
       "      <td>645.6</td>\n",
       "      <td>1.657821e-02</td>\n",
       "      <td>6.817322e+01</td>\n",
       "      <td>2.129862e-04</td>\n",
       "      <td>7.463400e+03</td>\n",
       "      <td>8.492506e-02</td>\n",
       "      <td>1.291917e+01</td>\n",
       "      <td>95</td>\n",
       "      <td>369</td>\n",
       "      <td>5</td>\n",
       "    </tr>\n",
       "    <tr>\n",
       "      <th>1</th>\n",
       "      <td>uuf21-01-generated.cnf</td>\n",
       "      <td>ibm_sherbrooke</td>\n",
       "      <td>1</td>\n",
       "      <td>829.6</td>\n",
       "      <td>6.400723e-03</td>\n",
       "      <td>1.713776e+02</td>\n",
       "      <td>3.053161e-05</td>\n",
       "      <td>5.604463e+04</td>\n",
       "      <td>4.861684e-02</td>\n",
       "      <td>2.232394e+01</td>\n",
       "      <td>120</td>\n",
       "      <td>453</td>\n",
       "      <td>5</td>\n",
       "    </tr>\n",
       "    <tr>\n",
       "      <th>2</th>\n",
       "      <td>uuf22-01-generated.cnf</td>\n",
       "      <td>ibm_sherbrooke</td>\n",
       "      <td>1</td>\n",
       "      <td>912.0</td>\n",
       "      <td>3.847371e-03</td>\n",
       "      <td>2.917420e+02</td>\n",
       "      <td>9.612609e-06</td>\n",
       "      <td>1.498476e+05</td>\n",
       "      <td>3.532018e-02</td>\n",
       "      <td>3.253271e+01</td>\n",
       "      <td>132</td>\n",
       "      <td>497</td>\n",
       "      <td>5</td>\n",
       "    </tr>\n",
       "    <tr>\n",
       "      <th>3</th>\n",
       "      <td>uuf23-01-generated.cnf</td>\n",
       "      <td>ibm_sherbrooke</td>\n",
       "      <td>1</td>\n",
       "      <td>1025.4</td>\n",
       "      <td>1.439478e-03</td>\n",
       "      <td>8.751762e+02</td>\n",
       "      <td>1.875050e-06</td>\n",
       "      <td>9.967270e+05</td>\n",
       "      <td>1.938582e-02</td>\n",
       "      <td>5.741047e+01</td>\n",
       "      <td>159</td>\n",
       "      <td>596</td>\n",
       "      <td>5</td>\n",
       "    </tr>\n",
       "    <tr>\n",
       "      <th>4</th>\n",
       "      <td>uuf24-01-generated.cnf</td>\n",
       "      <td>ibm_sherbrooke</td>\n",
       "      <td>1</td>\n",
       "      <td>1200.6</td>\n",
       "      <td>4.878039e-04</td>\n",
       "      <td>2.383695e+03</td>\n",
       "      <td>2.207124e-07</td>\n",
       "      <td>6.915468e+06</td>\n",
       "      <td>1.015532e-02</td>\n",
       "      <td>1.108709e+02</td>\n",
       "      <td>183</td>\n",
       "      <td>689</td>\n",
       "      <td>5</td>\n",
       "    </tr>\n",
       "    <tr>\n",
       "      <th>5</th>\n",
       "      <td>uuf25-01-generated.cnf</td>\n",
       "      <td>ibm_sherbrooke</td>\n",
       "      <td>1</td>\n",
       "      <td>1251.0</td>\n",
       "      <td>2.975808e-04</td>\n",
       "      <td>3.746854e+03</td>\n",
       "      <td>8.836275e-08</td>\n",
       "      <td>1.279974e+07</td>\n",
       "      <td>7.503197e-03</td>\n",
       "      <td>1.490481e+02</td>\n",
       "      <td>198</td>\n",
       "      <td>737</td>\n",
       "      <td>5</td>\n",
       "    </tr>\n",
       "    <tr>\n",
       "      <th>6</th>\n",
       "      <td>uuf26-01-generated.cnf</td>\n",
       "      <td>ibm_sherbrooke</td>\n",
       "      <td>1</td>\n",
       "      <td>1479.2</td>\n",
       "      <td>6.838923e-05</td>\n",
       "      <td>1.664733e+04</td>\n",
       "      <td>2.601849e-09</td>\n",
       "      <td>1.178353e+09</td>\n",
       "      <td>2.529174e-03</td>\n",
       "      <td>4.818335e+02</td>\n",
       "      <td>234</td>\n",
       "      <td>867</td>\n",
       "      <td>5</td>\n",
       "    </tr>\n",
       "    <tr>\n",
       "      <th>7</th>\n",
       "      <td>uuf27-01-generated.cnf</td>\n",
       "      <td>ibm_sherbrooke</td>\n",
       "      <td>1</td>\n",
       "      <td>1584.2</td>\n",
       "      <td>1.668127e-05</td>\n",
       "      <td>6.824953e+04</td>\n",
       "      <td>1.399822e-10</td>\n",
       "      <td>1.170216e+10</td>\n",
       "      <td>1.191205e-03</td>\n",
       "      <td>9.322623e+02</td>\n",
       "      <td>270</td>\n",
       "      <td>993</td>\n",
       "      <td>5</td>\n",
       "    </tr>\n",
       "    <tr>\n",
       "      <th>8</th>\n",
       "      <td>uuf28-01-generated.cnf</td>\n",
       "      <td>ibm_sherbrooke</td>\n",
       "      <td>1</td>\n",
       "      <td>1836.8</td>\n",
       "      <td>1.802780e-06</td>\n",
       "      <td>6.124544e+05</td>\n",
       "      <td>2.414879e-12</td>\n",
       "      <td>7.186667e+11</td>\n",
       "      <td>3.191151e-04</td>\n",
       "      <td>3.458908e+03</td>\n",
       "      <td>329</td>\n",
       "      <td>1200</td>\n",
       "      <td>5</td>\n",
       "    </tr>\n",
       "    <tr>\n",
       "      <th>9</th>\n",
       "      <td>uuf29-01-generated.cnf</td>\n",
       "      <td>ibm_sherbrooke</td>\n",
       "      <td>1</td>\n",
       "      <td>1978.6</td>\n",
       "      <td>3.257500e-07</td>\n",
       "      <td>3.503453e+06</td>\n",
       "      <td>7.436671e-14</td>\n",
       "      <td>3.055381e+13</td>\n",
       "      <td>8.148651e-05</td>\n",
       "      <td>1.402039e+04</td>\n",
       "      <td>378</td>\n",
       "      <td>1367</td>\n",
       "      <td>5</td>\n",
       "    </tr>\n",
       "    <tr>\n",
       "      <th>10</th>\n",
       "      <td>uuf30-01-generated.cnf</td>\n",
       "      <td>ibm_sherbrooke</td>\n",
       "      <td>1</td>\n",
       "      <td>2123.2</td>\n",
       "      <td>9.364506e-08</td>\n",
       "      <td>1.258743e+07</td>\n",
       "      <td>6.175116e-15</td>\n",
       "      <td>2.844035e+14</td>\n",
       "      <td>3.826786e-05</td>\n",
       "      <td>3.325012e+04</td>\n",
       "      <td>411</td>\n",
       "      <td>1486</td>\n",
       "      <td>5</td>\n",
       "    </tr>\n",
       "    <tr>\n",
       "      <th>11</th>\n",
       "      <td>uuf31-01-generated.cnf</td>\n",
       "      <td>ibm_sherbrooke</td>\n",
       "      <td>1</td>\n",
       "      <td>2266.0</td>\n",
       "      <td>1.911673e-08</td>\n",
       "      <td>6.118902e+07</td>\n",
       "      <td>1.811447e-17</td>\n",
       "      <td>-inf</td>\n",
       "      <td>7.054614e-06</td>\n",
       "      <td>4.909969e+05</td>\n",
       "      <td>449</td>\n",
       "      <td>1616</td>\n",
       "      <td>5</td>\n",
       "    </tr>\n",
       "    <tr>\n",
       "      <th>12</th>\n",
       "      <td>uuf32-01-generated.cnf</td>\n",
       "      <td>ibm_sherbrooke</td>\n",
       "      <td>1</td>\n",
       "      <td>2504.6</td>\n",
       "      <td>4.020500e-09</td>\n",
       "      <td>2.982316e+08</td>\n",
       "      <td>1.106872e-18</td>\n",
       "      <td>-inf</td>\n",
       "      <td>2.784536e-06</td>\n",
       "      <td>1.287481e+06</td>\n",
       "      <td>489</td>\n",
       "      <td>1766</td>\n",
       "      <td>5</td>\n",
       "    </tr>\n",
       "    <tr>\n",
       "      <th>13</th>\n",
       "      <td>uuf33-01-generated.cnf</td>\n",
       "      <td>ibm_sherbrooke</td>\n",
       "      <td>1</td>\n",
       "      <td>2581.8</td>\n",
       "      <td>7.612923e-10</td>\n",
       "      <td>1.503947e+09</td>\n",
       "      <td>1.317709e-19</td>\n",
       "      <td>-inf</td>\n",
       "      <td>9.751186e-07</td>\n",
       "      <td>1.260082e+06</td>\n",
       "      <td>536</td>\n",
       "      <td>1925</td>\n",
       "      <td>5</td>\n",
       "    </tr>\n",
       "    <tr>\n",
       "      <th>14</th>\n",
       "      <td>uuf34-01-generated.cnf</td>\n",
       "      <td>ibm_sherbrooke</td>\n",
       "      <td>1</td>\n",
       "      <td>2616.2</td>\n",
       "      <td>1.717451e-10</td>\n",
       "      <td>6.656829e+09</td>\n",
       "      <td>4.992218e-22</td>\n",
       "      <td>-inf</td>\n",
       "      <td>1.323120e-07</td>\n",
       "      <td>3.010292e+07</td>\n",
       "      <td>575</td>\n",
       "      <td>2059</td>\n",
       "      <td>5</td>\n",
       "    </tr>\n",
       "    <tr>\n",
       "      <th>15</th>\n",
       "      <td>uuf35-01-generated.cnf</td>\n",
       "      <td>ibm_sherbrooke</td>\n",
       "      <td>1</td>\n",
       "      <td>2901.8</td>\n",
       "      <td>5.102207e-11</td>\n",
       "      <td>2.202392e+10</td>\n",
       "      <td>1.186387e-22</td>\n",
       "      <td>-inf</td>\n",
       "      <td>7.461435e-08</td>\n",
       "      <td>7.774873e+07</td>\n",
       "      <td>608</td>\n",
       "      <td>2173</td>\n",
       "      <td>5</td>\n",
       "    </tr>\n",
       "  </tbody>\n",
       "</table>\n",
       "</div>"
      ],
      "text/plain": [
       "                      Name        Hardware  QAOA Depth  Average Circuit Depth  \\\n",
       "0   uuf20-01-generated.cnf  ibm_sherbrooke           1                  645.6   \n",
       "1   uuf21-01-generated.cnf  ibm_sherbrooke           1                  829.6   \n",
       "2   uuf22-01-generated.cnf  ibm_sherbrooke           1                  912.0   \n",
       "3   uuf23-01-generated.cnf  ibm_sherbrooke           1                 1025.4   \n",
       "4   uuf24-01-generated.cnf  ibm_sherbrooke           1                 1200.6   \n",
       "5   uuf25-01-generated.cnf  ibm_sherbrooke           1                 1251.0   \n",
       "6   uuf26-01-generated.cnf  ibm_sherbrooke           1                 1479.2   \n",
       "7   uuf27-01-generated.cnf  ibm_sherbrooke           1                 1584.2   \n",
       "8   uuf28-01-generated.cnf  ibm_sherbrooke           1                 1836.8   \n",
       "9   uuf29-01-generated.cnf  ibm_sherbrooke           1                 1978.6   \n",
       "10  uuf30-01-generated.cnf  ibm_sherbrooke           1                 2123.2   \n",
       "11  uuf31-01-generated.cnf  ibm_sherbrooke           1                 2266.0   \n",
       "12  uuf32-01-generated.cnf  ibm_sherbrooke           1                 2504.6   \n",
       "13  uuf33-01-generated.cnf  ibm_sherbrooke           1                 2581.8   \n",
       "14  uuf34-01-generated.cnf  ibm_sherbrooke           1                 2616.2   \n",
       "15  uuf35-01-generated.cnf  ibm_sherbrooke           1                 2901.8   \n",
       "\n",
       "    Ideal Fidelity  Ideal Estimated Shots  Fidelity with Decoherence  \\\n",
       "0     1.657821e-02           6.817322e+01               2.129862e-04   \n",
       "1     6.400723e-03           1.713776e+02               3.053161e-05   \n",
       "2     3.847371e-03           2.917420e+02               9.612609e-06   \n",
       "3     1.439478e-03           8.751762e+02               1.875050e-06   \n",
       "4     4.878039e-04           2.383695e+03               2.207124e-07   \n",
       "5     2.975808e-04           3.746854e+03               8.836275e-08   \n",
       "6     6.838923e-05           1.664733e+04               2.601849e-09   \n",
       "7     1.668127e-05           6.824953e+04               1.399822e-10   \n",
       "8     1.802780e-06           6.124544e+05               2.414879e-12   \n",
       "9     3.257500e-07           3.503453e+06               7.436671e-14   \n",
       "10    9.364506e-08           1.258743e+07               6.175116e-15   \n",
       "11    1.911673e-08           6.118902e+07               1.811447e-17   \n",
       "12    4.020500e-09           2.982316e+08               1.106872e-18   \n",
       "13    7.612923e-10           1.503947e+09               1.317709e-19   \n",
       "14    1.717451e-10           6.656829e+09               4.992218e-22   \n",
       "15    5.102207e-11           2.202392e+10               1.186387e-22   \n",
       "\n",
       "    Estimated Shots with Decoherence for 2/3 Success Rate  \\\n",
       "0                                        7.463400e+03       \n",
       "1                                        5.604463e+04       \n",
       "2                                        1.498476e+05       \n",
       "3                                        9.967270e+05       \n",
       "4                                        6.915468e+06       \n",
       "5                                        1.279974e+07       \n",
       "6                                        1.178353e+09       \n",
       "7                                        1.170216e+10       \n",
       "8                                        7.186667e+11       \n",
       "9                                        3.055381e+13       \n",
       "10                                       2.844035e+14       \n",
       "11                                               -inf       \n",
       "12                                               -inf       \n",
       "13                                               -inf       \n",
       "14                                               -inf       \n",
       "15                                               -inf       \n",
       "\n",
       "    Fidelity without Decoherence  \\\n",
       "0                   8.492506e-02   \n",
       "1                   4.861684e-02   \n",
       "2                   3.532018e-02   \n",
       "3                   1.938582e-02   \n",
       "4                   1.015532e-02   \n",
       "5                   7.503197e-03   \n",
       "6                   2.529174e-03   \n",
       "7                   1.191205e-03   \n",
       "8                   3.191151e-04   \n",
       "9                   8.148651e-05   \n",
       "10                  3.826786e-05   \n",
       "11                  7.054614e-06   \n",
       "12                  2.784536e-06   \n",
       "13                  9.751186e-07   \n",
       "14                  1.323120e-07   \n",
       "15                  7.461435e-08   \n",
       "\n",
       "    Estimated Shots without Decoherence for 2/3 Success Rate  \\\n",
       "0                                        1.291917e+01          \n",
       "1                                        2.232394e+01          \n",
       "2                                        3.253271e+01          \n",
       "3                                        5.741047e+01          \n",
       "4                                        1.108709e+02          \n",
       "5                                        1.490481e+02          \n",
       "6                                        4.818335e+02          \n",
       "7                                        9.322623e+02          \n",
       "8                                        3.458908e+03          \n",
       "9                                        1.402039e+04          \n",
       "10                                       3.325012e+04          \n",
       "11                                       4.909969e+05          \n",
       "12                                       1.287481e+06          \n",
       "13                                       1.260082e+06          \n",
       "14                                       3.010292e+07          \n",
       "15                                       7.774873e+07          \n",
       "\n",
       "    Average Swap Overhead  Average Number of Two Qubit Gates  Iterations  \n",
       "0                      95                                369           5  \n",
       "1                     120                                453           5  \n",
       "2                     132                                497           5  \n",
       "3                     159                                596           5  \n",
       "4                     183                                689           5  \n",
       "5                     198                                737           5  \n",
       "6                     234                                867           5  \n",
       "7                     270                                993           5  \n",
       "8                     329                               1200           5  \n",
       "9                     378                               1367           5  \n",
       "10                    411                               1486           5  \n",
       "11                    449                               1616           5  \n",
       "12                    489                               1766           5  \n",
       "13                    536                               1925           5  \n",
       "14                    575                               2059           5  \n",
       "15                    608                               2173           5  "
      ]
     },
     "execution_count": 93,
     "metadata": {},
     "output_type": "execute_result"
    }
   ],
   "source": [
    "instance_names=[\"uuf\" + str(i) + \"-01-generated.cnf\" for i in range(20, 36)]\n",
    "\n",
    "experiment = SuperconductingExperiment(\"superconducting_2\", instance_names, backend)\n",
    "\n",
    "experiment.run(max_depth=1, max_iterations=5)"
   ]
  },
  {
   "cell_type": "markdown",
   "id": "97178893-ec4a-4b82-8dbe-c2f9b1febd7a",
   "metadata": {},
   "source": [
    "# Plotting"
   ]
  },
  {
   "cell_type": "code",
   "execution_count": 16,
   "id": "de99c5c2-cc14-4300-8da7-3c1b5ef0818b",
   "metadata": {},
   "outputs": [],
   "source": [
    "import pandas as pd\n",
    "import matplotlib.pyplot as plt\n",
    "import seaborn as sns"
   ]
  },
  {
   "cell_type": "code",
   "execution_count": 76,
   "id": "1fd72ca7-14f0-49d6-b146-0012ae86ef71",
   "metadata": {},
   "outputs": [
    {
     "data": {
      "image/png": "[encoded data removed]",
      "text/plain": [
       "<Figure size 640x480 with 1 Axes>"
      ]
     },
     "metadata": {},
     "output_type": "display_data"
    }
   ],
   "source": [
    "df = pd.read_csv(\"./results/superconducting_1.csv\")\n",
    "df[\"Average Swap Overhead\"] = df[\"Average Swap Overhead\"] * 3\n",
    "df[\"#Variables, #Clauses\"] = df.apply(lambda row: str((row[\"Number of Variables\"], row[\"Number of Clauses\"])), axis=1)\n",
    "df_melted = df.melt(id_vars=\"#Variables, #Clauses\", value_vars=[\"Average Number of Two Qubit Gates\", \"Average Swap Overhead\"], var_name=\"Portion\", value_name=\"Number of Gates\")\n",
    "sns.set_theme(style=\"whitegrid\")\n",
    "ax = sns.barplot(x=\"#Variables, #Clauses\", y=\"Number of Gates\", hue=\"Portion\", data=df_melted, palette=\"viridis\")\n",
    "ax.legend(title=None)\n",
    "for i in range(0, len(df)):\n",
    "    main_height = df.iloc[i]['Average Number of Two Qubit Gates']\n",
    "    highlight_height = df.iloc[i]['Average Swap Overhead']\n",
    "    percentage = (highlight_height / main_height) * 100\n",
    "    ax.text(i + 0.275, highlight_height, '~{:.1f}%'.format(percentage), \n",
    "            ha='center', va='bottom', fontsize=10, color='black')\n",
    "plt.savefig(\"./plots/superconducting_gate_counts.pdf\", bbox_inches=\"tight\")\n",
    "plt.show()"
   ]
  },
  {
   "cell_type": "code",
   "execution_count": 77,
   "id": "b56c0b19-bfc7-4746-ab15-baab4c4a3460",
   "metadata": {},
   "outputs": [
    {
     "data": {
      "image/png": "[encoded data removed]",
      "text/plain": [
       "<Figure size 640x480 with 1 Axes>"
      ]
     },
     "metadata": {},
     "output_type": "display_data"
    }
   ],
   "source": [
    "df = pd.read_csv(\"./results/superconducting_1.csv\")\n",
    "df[\"#Variables, #Clauses\"] = df.apply(lambda row: str((row[\"Number of Variables\"], row[\"Number of Clauses\"])), axis=1)\n",
    "sns.set_theme(style=\"whitegrid\")\n",
    "ax = sns.barplot(x=\"#Variables, #Clauses\", y=\"Average Circuit Depth\", data=df)\n",
    "plt.savefig(\"./plots/superconducting_circuit_depth.pdf\", bbox_inches=\"tight\")\n",
    "plt.show()"
   ]
  },
  {
   "cell_type": "code",
   "execution_count": 86,
   "id": "9156a13e-3111-4d4d-9410-e1f5e450c8fe",
   "metadata": {},
   "outputs": [],
   "source": [
    "from pysat.formula import CNF\n",
    "\n",
    "original_cnf = CNF(from_file=\"./instances/uuf50-01.cnf\")\n",
    "\n",
    "for i in range(21, 52):\n",
    "    new_cnf = CNF()    \n",
    "    for clause in cnf.clauses:\n",
    "        new_clause = [literal for literal in clause if abs(literal) in range(i)]\n",
    "        if new_clause:\n",
    "            new_cnf.append(new_clause)\n",
    "    new_cnf.to_file(\"./instances/uuf\" + str(i - 1) + \"-01-generated.cnf\")"
   ]
  },
  {
   "cell_type": "code",
   "execution_count": 109,
   "id": "e70416ca-c544-402a-9199-92af2540c506",
   "metadata": {},
   "outputs": [
    {
     "data": {
      "image/png": "[encoded data removed]",
      "text/plain": [
       "<Figure size 640x480 with 1 Axes>"
      ]
     },
     "metadata": {},
     "output_type": "display_data"
    }
   ],
   "source": [
    "df = pd.read_csv(\"./results/superconducting_2.csv\")\n",
    "sns.set_theme(style=\"whitegrid\")\n",
    "sns.lineplot(x=df[\"Number of Variables\"], y=df[\"Ideal Fidelity\"], marker=\"s\", label=\"Estimated NAC Fidelity\")\n",
    "sns.lineplot(x=df[\"Number of Variables\"], y=df[\"Fidelity without Decoherence\"], marker=\"o\", label=\"Superconducting Fidelity without Decoherence\")\n",
    "sns.lineplot(x=df[\"Number of Variables\"], y=df[\"Fidelity with Decoherence\"], marker=\"o\", label=\"Superconducting Fidelity with Decoherence\")\n",
    "plt.legend()\n",
    "plt.xlabel(\"Number of Variables\")\n",
    "plt.ylabel(\"Fidelity\")\n",
    "plt.savefig(\"./plots/superconducting_fidelity.pdf\", bbox_inches=\"tight\")\n",
    "plt.show()"
   ]
  },
  {
   "cell_type": "code",
   "execution_count": 173,
   "id": "fb38da0a-7342-439a-8fe4-3f32819ae0c3",
   "metadata": {},
   "outputs": [
    {
     "data": {
      "image/png": "[encoded data removed]",
      "text/plain": [
       "<Figure size 640x480 with 1 Axes>"
      ]
     },
     "metadata": {},
     "output_type": "display_data"
    }
   ],
   "source": [
    "df = pd.read_csv(\"./results/superconducting_2.csv\")\n",
    "df = df[df[\"Estimated Shots with Decoherence for 2/3 Success Rate\"] != -np.inf][:-5]\n",
    "sns.set_theme(style=\"whitegrid\")\n",
    "ax = sns.barplot(x=\"Number of Variables\", y=\"Ideal Estimated Shots\", data=df)\n",
    "plt.xlabel(\"Number of Variables\")\n",
    "plt.ylabel(\"Estimated #Shots for NAC\")\n",
    "plt.savefig(\"./plots/superconducting_shots_ideal.pdf\", bbox_inches=\"tight\")\n",
    "plt.show()"
   ]
  },
  {
   "cell_type": "code",
   "execution_count": 174,
   "id": "f281c07f-509d-4856-b10a-bc5c5365296c",
   "metadata": {},
   "outputs": [
    {
     "data": {
      "image/png": "[encoded data removed]",
      "text/plain": [
       "<Figure size 640x480 with 1 Axes>"
      ]
     },
     "metadata": {},
     "output_type": "display_data"
    }
   ],
   "source": [
    "df = pd.read_csv(\"./results/superconducting_2.csv\")\n",
    "df = df[df[\"Estimated Shots with Decoherence for 2/3 Success Rate\"] != -np.inf][:-5]\n",
    "sns.set_theme(style=\"whitegrid\")\n",
    "ax = sns.barplot(x=\"Number of Variables\", y=\"Estimated Shots without Decoherence for 2/3 Success Rate\", data=df)\n",
    "plt.xlabel(\"Number of Variables\")\n",
    "plt.ylabel(\"#Shots without Decoherence\")\n",
    "plt.savefig(\"./plots/superconducting_shots_without_decoherence.pdf\", bbox_inches=\"tight\")\n",
    "plt.show()"
   ]
  },
  {
   "cell_type": "code",
   "execution_count": 175,
   "id": "66944ba3-4ae4-4b44-a524-9c1d64008f1f",
   "metadata": {},
   "outputs": [
    {
     "data": {
      "image/png": "[encoded data removed]",
      "text/plain": [
       "<Figure size 640x480 with 1 Axes>"
      ]
     },
     "metadata": {},
     "output_type": "display_data"
    }
   ],
   "source": [
    "df = pd.read_csv(\"./results/superconducting_2.csv\")\n",
    "df = df[df[\"Estimated Shots with Decoherence for 2/3 Success Rate\"] != -np.inf][:-5]\n",
    "sns.set_theme(style=\"whitegrid\")\n",
    "ax = sns.barplot(x=\"Number of Variables\", y=\"Estimated Shots with Decoherence for 2/3 Success Rate\", data=df)\n",
    "plt.xlabel(\"Number of Variables\")\n",
    "plt.ylabel(\"#Shots with Decoherence\")\n",
    "plt.savefig(\"./plots/superconducting_shots_with_decoherence.pdf\", bbox_inches=\"tight\")\n",
    "plt.show()"
   ]
  },
  {
   "cell_type": "code",
   "execution_count": null,
   "id": "b81dc016-2087-41bc-b29b-bf2bd05629bb",
   "metadata": {},
   "outputs": [],
   "source": []
  }
 ],
 "metadata": {
  "kernelspec": {
   "display_name": ".venv-fpqa",
   "language": "python",
   "name": ".venv-fpqa"
  },
  "language_info": {
   "codemirror_mode": {
    "name": "ipython",
    "version": 3
   },
   "file_extension": ".py",
   "mimetype": "text/x-python",
   "name": "python",
   "nbconvert_exporter": "python",
   "pygments_lexer": "ipython3",
   "version": "3.10.13"
  }
 },
 "nbformat": 4,
 "nbformat_minor": 5
}
