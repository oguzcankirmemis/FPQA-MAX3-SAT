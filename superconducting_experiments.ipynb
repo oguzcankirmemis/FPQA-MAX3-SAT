{
 "cells": [
  {
   "cell_type": "code",
   "execution_count": 17,
   "id": "3d282b13-e6b4-4313-9797-cc3770261ad8",
   "metadata": {
    "scrolled": true
   },
   "outputs": [
    {
     "name": "stdout",
     "output_type": "stream",
     "text": [
      "The autoreload extension is already loaded. To reload it, use:\n",
      "  %reload_ext autoreload\n",
      "20 [[4, -18, 19], [3, 18, -5], [-5, -8, -15], [-20, 7, -16], [10, -13, -7], [-12, -9, 17], [17, 19, 5], [-16, 9, 15], [11, -5, -14], [18, -10, 13], [-3, 11, 12], [-6, -17, -8], [-18, 14, 1], [-19, -15, 10], [12, 18, -19], [-8, 4, 7], [-8, -9, 4], [7, 17, -15], [12, -7, -14], [-10, -11, 8], [2, -15, -11], [9, 6, 1], [-11, 20, -17], [9, -15, 13], [12, -7, -17], [-18, -2, 20], [20, 12, 4], [19, 11, 14], [-16, 18, -4], [-1, -17, -19], [-13, 15, 10], [-12, -14, -13], [12, -14, -7], [-7, 16, 10], [6, 10, 7], [20, 14, -16], [-19, 17, 11], [-7, 1, -20], [-5, 12, 15], [-4, -9, -13], [12, -11, -7], [-5, 19, -8], [1, 16, 17], [20, -14, -15], [13, -4, 10], [14, 7, 10], [-5, 9, 20], [10, 1, -19], [-16, -15, -1], [16, 3, -11], [-15, -10, 4], [4, -15, -3], [-10, -16, 11], [-8, 12, -5], [14, -6, 12], [1, 6, 11], [-13, -5, -1], [-7, -2, 12], [1, -20, 19], [-2, -13, -8], [15, 18, 4], [-11, 14, 9], [-6, -15, -2], [5, -12, -15], [-6, 17, 5], [-13, 5, -19], [20, -1, 14], [9, -17, 15], [-5, 19, -18], [-12, 8, -10], [-18, 14, -4], [15, -9, 13], [9, -5, -1], [10, -19, -14], [20, 9, 4], [-9, -2, 19], [-5, 13, -17], [2, -10, -18], [-18, 3, 11], [7, -9, 17], [-15, -6, -3], [-2, 3, -13], [12, 3, -2], [-2, -3, 17], [20, -15, -16], [-5, -17, -19], [-20, -18, 11], [-9, 1, -5], [-19, 9, 17], [12, -2, 17], [4, -16, -5], [], []]\n",
      "[(-3.0, 'ZIIIIIIIIIIIIIIIIIII', (0,)), (-1.0, 'ZIIIZIIIIIIIIIIIIIII', (0, 4)), (-2.0, 'ZIIIZIIIZIIIIIIIIIII', (0, 4, 8)), (1.0, 'ZIIIZIIIIIIIZIIIIIII', (0, 4, 12)), (-2.0, 'ZIIIIZIIIIIIIIIIIIII', (0, 5)), (-1.0, 'ZIIIIZIIZIIIIIIIIIII', (0, 5, 8)), (-1.0, 'ZIIIIZIIIIZIIIIIIIII', (0, 5, 10)), (1.0, 'ZIIIIIZIIIIIIIIIIIII', (0, 6)), (-1.0, 'ZIIIIIZIIIIIIIIIIIIZ', (0, 6, 19)), (1.0, 'ZIIIIIIIZIIIIIIIIIII', (0, 8)), (-1.0, 'ZIIIIIIIIZIIIIIIIIII', (0, 9)), (1.0, 'ZIIIIIIIIZIIIIIIIIZI', (0, 9, 18)), (-1.0, 'ZIIIIIIIIIZIIIIIIIII', (0, 10)), (-1.0, 'ZIIIIIIIIIIIZIIIIIII', (0, 12)), (1.0, 'ZIIIIIIIIIIIIZIIIZII', (0, 13, 17)), (1.0, 'ZIIIIIIIIIIIIZIIIIIZ', (0, 13, 19)), (-1.0, 'ZIIIIIIIIIIIIIZIIIII', (0, 14)), (1.0, 'ZIIIIIIIIIIIIIZZIIII', (0, 14, 15)), (-2.0, 'ZIIIIIIIIIIIIIIZIIII', (0, 15)), (-1.0, 'ZIIIIIIIIIIIIIIZZIII', (0, 15, 16)), (-2.0, 'ZIIIIIIIIIIIIIIIZIII', (0, 16)), (1.0, 'ZIIIIIIIIIIIIIIIZIZI', (0, 16, 18)), (1.0, 'ZIIIIIIIIIIIIIIIIZII', (0, 17)), (-1.0, 'ZIIIIIIIIIIIIIIIIIZI', (0, 18)), (1.0, 'ZIIIIIIIIIIIIIIIIIZZ', (0, 18, 19)), (3.0, 'ZIIIIIIIIIIIIIIIIIIZ', (0, 19)), (7.0, 'IZIIIIIIIIIIIIIIIIII', (1,)), (1.0, 'IZZIIIIIIIIIIIIIIIII', (1, 2)), (1.0, 'IZZIIIIIIIIZIIIIIIII', (1, 2, 11)), (-1.0, 'IZZIIIIIIIIIZIIIIIII', (1, 2, 12)), (-1.0, 'IZZIIIIIIIIIIIIIZIII', (1, 2, 16)), (-1.0, 'IZIIIZIIIIIIIIIIIIII', (1, 5)), (1.0, 'IZIIIZIIIIIIIIZIIIII', (1, 5, 14)), (-1.0, 'IZIIIIZIIIIIIIIIIIII', (1, 6)), (-1.0, 'IZIIIIZIIIIZIIIIIIII', (1, 6, 11)), (-1.0, 'IZIIIIIZIIIIIIIIIIII', (1, 7)), (1.0, 'IZIIIIIZIIIIZIIIIIII', (1, 7, 12)), (-1.0, 'IZIIIIIIZIIIIIIIIIII', (1, 8)), (-1.0, 'IZIIIIIIZIIIIIIIIIZI', (1, 8, 18)), (1.0, 'IZIIIIIIIZIIIIIIIIII', (1, 9)), (-1.0, 'IZIIIIIIIZIIIIIIIZII', (1, 9, 17)), (1.0, 'IZIIIIIIIIZIIIIIIIII', (1, 10)), (-1.0, 'IZIIIIIIIIZIIIZIIIII', (1, 10, 14)), (3.0, 'IZIIIIIIIIIZIIIIIIII', (1, 11)), (1.0, 'IZIIIIIIIIIZIIIIZIII', (1, 11, 16)), (-2.0, 'IZIIIIIIIIIIZIIIIIII', (1, 12)), (2.0, 'IZIIIIIIIIIIIIIIZIII', (1, 16)), (-1.0, 'IZIIIIIIIIIIIIIIIZIZ', (1, 17, 19)), (1.0, 'IZIIIIIIIIIIIIIIIIZI', (1, 18)), (1.0, 'IZIIIIIIIIIIIIIIIIIZ', (1, 19)), (-1.0, 'IIZIIIIIIIIIIIIIIIII', (2,)), (1.0, 'IIZZIIIIIIIIIIIIIIII', (2, 3)), (-1.0, 'IIZZIIIIIIIIIIZIIIII', (2, 3, 14)), (1.0, 'IIZIZIIIIIIIIIIIIIII', (2, 4)), (1.0, 'IIZIZIIIIIIIIIIIIZII', (2, 4, 17)), (-1.0, 'IIZIIZIIIIIIIIIIIIII', (2, 5)), (1.0, 'IIZIIZIIIIIIIIZIIIII', (2, 5, 14)), (1.0, 'IIZIIIIIIIZIIIIIIIII', (2, 10)), (1.0, 'IIZIIIIIIIZZIIIIIIII', (2, 10, 11)), (1.0, 'IIZIIIIIIIZIIIIZIIII', (2, 10, 15)), (1.0, 'IIZIIIIIIIZIIIIIIZII', (2, 10, 17)), (1.0, 'IIZIIIIIIIIIZIIIIIII', (2, 12)), (-2.0, 'IIZIIIIIIIIIIIZIIIII', (2, 14)), (-1.0, 'IIZIIIIIIIIIIIIZIIII', (2, 15)), (1.0, 'IIZIIIIIIIIIIIIIZIII', (2, 16)), (-5.0, 'IIIZIIIIIIIIIIIIIIII', (3,)), (1.0, 'IIIZZIIIIIIIIIIIIIII', (3, 4)), (-1.0, 'IIIZZIIIIIIIIIIZIIII', (3, 4, 15)), (-1.0, 'IIIZIIZIIIIIIIIIIIII', (3, 6)), (1.0, 'IIIZIIZZIIIIIIIIIIII', (3, 6, 7)), (2.0, 'IIIZIIIZIIIIIIIIIIII', (3, 7)), (-1.0, 'IIIZIIIZZIIIIIIIIIII', (3, 7, 8)), (-1.0, 'IIIZIIIIZIIIIIIIIIII', (3, 8)), (1.0, 'IIIZIIIIZIIIZIIIIIII', (3, 8, 12)), (-1.0, 'IIIZIIIIZIIIIIIIIIIZ', (3, 8, 19)), (2.0, 'IIIZIIIIIZIIIIIIIIII', (3, 9)), (1.0, 'IIIZIIIIIZIIZIIIIIII', (3, 9, 12)), (-1.0, 'IIIZIIIIIZIIIIZIIIII', (3, 9, 14)), (-1.0, 'IIIZIIIIIIIZIIIIIIII', (3, 11)), (-1.0, 'IIIZIIIIIIIZIIIIIIIZ', (3, 11, 19)), (1.0, 'IIIZIIIIIIIIIZIIIIII', (3, 13)), (-1.0, 'IIIZIIIIIIIIIZIIIZII', (3, 13, 17)), (1.0, 'IIIZIIIIIIIIIIZIIIII', (3, 14)), (-1.0, 'IIIZIIIIIIIIIIZIIZII', (3, 14, 17)), (-1.0, 'IIIZIIIIIIIIIIIZIZII', (3, 15, 17)), (1.0, 'IIIZIIIIIIIIIIIIIZZI', (3, 17, 18)), (-1.0, 'IIIZIIIIIIIIIIIIIIZI', (3, 18)), (-2.0, 'IIIZIIIIIIIIIIIIIIIZ', (3, 19)), (10.0, 'IIIIZIIIIIIIIIIIIIII', (4,)), (1.0, 'IIIIZZIIIIIIIIIIIIII', (4, 5)), (1.0, 'IIIIZZIIIIIIIIIIZIII', (4, 5, 16)), (-3.0, 'IIIIZIIZIIIIIIIIIIII', (4, 7)), (-1.0, 'IIIIZIIZIIIZIIIIIIII', (4, 7, 11)), (1.0, 'IIIIZIIZIIIIIIZIIIII', (4, 7, 14)), (-1.0, 'IIIIZIIZIIIIIIIIIIZI', (4, 7, 18)), (1.0, 'IIIIZIIIZIIIIIIIIIII', (4, 8)), (1.0, 'IIIIZIIIZIIIIIIIIIIZ', (4, 8, 19)), (1.0, 'IIIIZIIIIIZIIIIIIIII', (4, 10)), (-1.0, 'IIIIZIIIIIZIIZIIIIII', (4, 10, 13)), (3.0, 'IIIIZIIIIIIZIIIIIIII', (4, 11)), (1.0, 'IIIIZIIIIIIIZIIIIIII', (4, 12)), (-1.0, 'IIIIZIIIIIIIZIIIZIII', (4, 12, 16)), (-1.0, 'IIIIZIIIIIIIZIIIIIZI', (4, 12, 18)), (-1.0, 'IIIIZIIIIIIIIZIIIIII', (4, 13)), (1.0, 'IIIIZIIIIIIIIIZIIIII', (4, 14)), (-1.0, 'IIIIZIIIIIIIIIIZIIII', (4, 15)), (-4.0, 'IIIIZIIIIIIIIIIIZIII', (4, 16)), (-1.0, 'IIIIZIIIIIIIIIIIIZZI', (4, 17, 18)), (1.0, 'IIIIZIIIIIIIIIIIIIZI', (4, 18)), (1.0, 'IIIIZIIIIIIIIIIIIIIZ', (4, 19)), (2.0, 'IIIIIZIIIIIIIIIIIIII', (5,)), (-1.0, 'IIIIIZZIIIIIIIIIIIII', (5, 6)), (-1.0, 'IIIIIZZIIZIIIIIIIIII', (5, 6, 9)), (-1.0, 'IIIIIZIZIIIIIIIIIIII', (5, 7)), (1.0, 'IIIIIZIZIIIIIIIIZIII', (5, 7, 16)), (-1.0, 'IIIIIZIIZIIIIIIIIIII', (5, 8)), (-1.0, 'IIIIIZIIIZIIIIIIIIII', (5, 9)), (-1.0, 'IIIIIZIIIIZIIIIIIIII', (5, 10)), (1.0, 'IIIIIZIIIIIZIIIIIIII', (5, 11)), (1.0, 'IIIIIZIIIIIZIZIIIIII', (5, 11, 13)), (1.0, 'IIIIIZIIIIIIIZIIIIII', (5, 13)), (-2.0, 'IIIIIZIIIIIIIIZIIIII', (5, 14)), (2.0, 'IIIIIIZIIIIIIIIIIIII', (6,)), (1.0, 'IIIIIIZZIIIIIIIIIIII', (6, 7)), (1.0, 'IIIIIIZIZIIIIIIIIIII', (6, 8)), (1.0, 'IIIIIIZIZIIIIIIIZIII', (6, 8, 16)), (-1.0, 'IIIIIIZIIZIIZIIIIIII', (6, 9, 12)), (-1.0, 'IIIIIIZIIZIIIZIIIIII', (6, 9, 13)), (1.0, 'IIIIIIZIIZIIIIIZIIII', (6, 9, 15)), (-1.0, 'IIIIIIZIIIZIIIIIIIII', (6, 10)), (-1.0, 'IIIIIIZIIIZZIIIIIIII', (6, 10, 11)), (5.0, 'IIIIIIZIIIIZIIIIIIII', (6, 11)), (-2.0, 'IIIIIIZIIIIZIZIIIIII', (6, 11, 13)), (-1.0, 'IIIIIIZIIIIZIIIIZIII', (6, 11, 16)), (-1.0, 'IIIIIIZIIIIIZIIIIIII', (6, 12)), (-3.0, 'IIIIIIZIIIIIIZIIIIII', (6, 13)), (1.0, 'IIIIIIZIIIIIIIZIIIII', (6, 14)), (1.0, 'IIIIIIZIIIIIIIZIZIII', (6, 14, 16)), (2.0, 'IIIIIIZIIIIIIIIZIIII', (6, 15)), (-1.0, 'IIIIIIZIIIIIIIIZIIIZ', (6, 15, 19)), (-3.0, 'IIIIIIZIIIIIIIIIZIII', (6, 16)), (5.0, 'IIIIIIIZIIIIIIIIIIII', (7,)), (-1.0, 'IIIIIIIZZIIIIIIIIIII', (7, 8)), (2.0, 'IIIIIIIZIZIIIIIIIIII', (7, 9)), (-1.0, 'IIIIIIIZIZZIIIIIIIII', (7, 9, 10)), (-1.0, 'IIIIIIIZIZIZIIIIIIII', (7, 9, 11)), (1.0, 'IIIIIIIZIIZIIIIIIIII', (7, 10)), (2.0, 'IIIIIIIZIIIZIIIIIIII', (7, 11)), (-1.0, 'IIIIIIIZIIIIZIIIIIII', (7, 12)), (-1.0, 'IIIIIIIZIIIIIIZIIIII', (7, 14)), (-1.0, 'IIIIIIIZIIIIIIIIZIII', (7, 16)), (1.0, 'IIIIIIIZIIIIIIIIIIZI', (7, 18)), (-2.0, 'IIIIIIIIZIIIIIIIIIII', (8,)), (1.0, 'IIIIIIIIZIZIIIIIIIII', (8, 10)), (1.0, 'IIIIIIIIZIZIIZIIIIII', (8, 10, 13)), (-1.0, 'IIIIIIIIZIIZIIIIIIII', (8, 11)), (-1.0, 'IIIIIIIIZIIZIIIIZIII', (8, 11, 16)), (-1.0, 'IIIIIIIIZIIIZIIIIIII', (8, 12)), (2.0, 'IIIIIIIIZIIIZIZIIIII', (8, 12, 14)), (-1.0, 'IIIIIIIIZIIIIZIIIIII', (8, 13)), (1.0, 'IIIIIIIIZIIIIIZZIIII', (8, 14, 15)), (1.0, 'IIIIIIIIZIIIIIZIZIII', (8, 14, 16)), (1.0, 'IIIIIIIIZIIIIIIZIIII', (8, 15)), (2.0, 'IIIIIIIIZIIIIIIIZIII', (8, 16)), (1.0, 'IIIIIIIIZIIIIIIIZIZI', (8, 16, 18)), (2.0, 'IIIIIIIIZIIIIIIIIIZI', (8, 18)), (-2.0, 'IIIIIIIIZIIIIIIIIIIZ', (8, 19)), (-3.0, 'IIIIIIIIIZIIIIIIIIII', (9,)), (-1.0, 'IIIIIIIIIZZIIIIZIIII', (9, 10, 15)), (-1.0, 'IIIIIIIIIZIZIIIIIIII', (9, 11)), (2.0, 'IIIIIIIIIZIIZIIIIIII', (9, 12)), (1.0, 'IIIIIIIIIZIIZIZIIIII', (9, 12, 14)), (1.0, 'IIIIIIIIIZIIZIIIIZII', (9, 12, 17)), (-1.0, 'IIIIIIIIIZIIIZIIIIZI', (9, 13, 18)), (-1.0, 'IIIIIIIIIZIIIIZIIIII', (9, 14)), (-1.0, 'IIIIIIIIIZIIIIZIIIZI', (9, 14, 18)), (-2.0, 'IIIIIIIIIZIIIIIZIIII', (9, 15)), (3.0, 'IIIIIIIIIZIIIIIIIIZI', (9, 18)), (-2.0, 'IIIIIIIIIIZIIIIIIIII', (10,)), (1.0, 'IIIIIIIIIIZIIZIIIIII', (10, 13)), (-1.0, 'IIIIIIIIIIZIIZIIIIZI', (10, 13, 18)), (-1.0, 'IIIIIIIIIIZIIIZIIIII', (10, 14)), (2.0, 'IIIIIIIIIIZIIIIZIIII', (10, 15)), (-2.0, 'IIIIIIIIIIZIIIIIZIII', (10, 16)), (1.0, 'IIIIIIIIIIZIIIIIZIZI', (10, 16, 18)), (-1.0, 'IIIIIIIIIIZIIIIIZIIZ', (10, 16, 19)), (2.0, 'IIIIIIIIIIZIIIIIIZII', (10, 17)), (-1.0, 'IIIIIIIIIIZIIIIIIZIZ', (10, 17, 19)), (2.0, 'IIIIIIIIIIZIIIIIIIIZ', (10, 19)), (-9.0, 'IIIIIIIIIIIZIIIIIIII', (11,)), (-1.0, 'IIIIIIIIIIIZZIIIIIII', (11, 12)), (1.0, 'IIIIIIIIIIIZZZIIIIII', (11, 12, 13)), (-2.0, 'IIIIIIIIIIIZIIZIIIII', (11, 14)), (1.0, 'IIIIIIIIIIIZIIIIZIII', (11, 16)), (-1.0, 'IIIIIIIIIIIZIIIIIZII', (11, 17)), (1.0, 'IIIIIIIIIIIZIIIIIZZI', (11, 17, 18)), (1.0, 'IIIIIIIIIIIZIIIIIIZI', (11, 18)), (-1.0, 'IIIIIIIIIIIZIIIIIIIZ', (11, 19)), (3.0, 'IIIIIIIIIIIIZIIIIIII', (12,)), (-1.0, 'IIIIIIIIIIIIZZIIIIII', (12, 13)), (1.0, 'IIIIIIIIIIIIZIZIIIII', (12, 14)), (1.0, 'IIIIIIIIIIIIZIIIZIII', (12, 16)), (-1.0, 'IIIIIIIIIIIIZIIIIZII', (12, 17)), (-1.0, 'IIIIIIIIIIIIZIIIIIZI', (12, 18)), (-2.0, 'IIIIIIIIIIIIIZIIIIII', (13,)), (-1.0, 'IIIIIIIIIIIIIZZIIIII', (13, 14)), (-1.0, 'IIIIIIIIIIIIIZZIIIIZ', (13, 14, 19)), (1.0, 'IIIIIIIIIIIIIZIZIIII', (13, 15)), (1.0, 'IIIIIIIIIIIIIZIZIIIZ', (13, 15, 19)), (2.0, 'IIIIIIIIIIIIIZIIIZII', (13, 17)), (-2.0, 'IIIIIIIIIIIIIZIIIIZI', (13, 18)), (-1.0, 'IIIIIIIIIIIIIZIIIIIZ', (13, 19)), (7.0, 'IIIIIIIIIIIIIIZIIIII', (14,)), (-1.0, 'IIIIIIIIIIIIIIZZIIII', (14, 15)), (-1.0, 'IIIIIIIIIIIIIIZZIIIZ', (14, 15, 19)), (2.0, 'IIIIIIIIIIIIIIZIZIII', (14, 16)), (-1.0, 'IIIIIIIIIIIIIIZIIZII', (14, 17)), (-1.0, 'IIIIIIIIIIIIIIZIIIZI', (14, 18)), (2.0, 'IIIIIIIIIIIIIIZIIIIZ', (14, 19)), (5.0, 'IIIIIIIIIIIIIIIZIIII', (15,)), (-1.0, 'IIIIIIIIIIIIIIIZZIII', (15, 16)), (1.0, 'IIIIIIIIIIIIIIIZIZII', (15, 17)), (1.0, 'IIIIIIIIIIIIIIIZIIIZ', (15, 19)), (-3.0, 'IIIIIIIIIIIIIIIIZIII', (16,)), (-1.0, 'IIIIIIIIIIIIIIIIZIZI', (16, 18)), (1.0, 'IIIIIIIIIIIIIIIIZIIZ', (16, 19)), (3.0, 'IIIIIIIIIIIIIIIIIZII', (17,)), (3.0, 'IIIIIIIIIIIIIIIIIZZI', (17, 18)), (2.0, 'IIIIIIIIIIIIIIIIIIZI', (18,)), (1.0, 'IIIIIIIIIIIIIIIIIIZZ', (18, 19)), (-5.0, 'IIIIIIIIIIIIIIIIIIIZ', (19,))] 231\n"
     ]
    }
   ],
   "source": [
    "%load_ext autoreload\n",
    "%autoreload 2\n",
    "\n",
    "from utils.hamiltonians import Max3satHamiltonian\n",
    "from utils.qaoa import QAOA\n",
    "from qiskit import transpile\n",
    "from qiskit.circuit import QuantumCircuit\n",
    "from utils.circuit_utils import calculate_expected_fidelity, calculate_expected_fidelity_ideal, calculate_swap_overhead\n",
    "from utils.experiments import SuperconductingExperiment\n",
    "from qiskit_ibm_runtime import QiskitRuntimeService, SamplerV2 as Sampler, EstimatorV2 as Estimator\n",
    "import numpy as np\n",
    "import pandas as pd\n",
    "\n",
    "hamiltonian = Max3satHamiltonian(\"./instances/uf20-01.cnf\")\n",
    "\n",
    "print(hamiltonian.formula.nv, hamiltonian.formula.clauses)\n",
    "print(hamiltonian.get_pauli_list(), len(hamiltonian.get_pauli_list()))"
   ]
  },
  {
   "cell_type": "code",
   "execution_count": 18,
   "id": "8241eb8a-fed7-49ca-b945-427654cfbbc5",
   "metadata": {
    "scrolled": true
   },
   "outputs": [],
   "source": [
    "basis_gates = [\"rx\", \"rz\", \"x\", \"y\", \"z\", \"h\", \"id\", \"cz\"]\n",
    "depth = 1\n",
    "qaoa = QAOA(hamiltonian)\n",
    "qaoa_circuit, cost_params, mixer_params = qaoa.naive_qaoa_circuit(depth)\n",
    "bound_circuit = qaoa_circuit.assign_parameters({cost_params: [np.pi / 2.123 for param in cost_params], mixer_params: [np.pi / 3.123 for param in mixer_params]})\n",
    "bound_circuit.measure_all()\n",
    "transpiled_circuit = transpile(bound_circuit, basis_gates=basis_gates, optimization_level=3)"
   ]
  },
  {
   "cell_type": "code",
   "execution_count": 19,
   "id": "fa2f0aa8-011f-4f38-aa40-90e971cd6a21",
   "metadata": {},
   "outputs": [],
   "source": [
    "service = QiskitRuntimeService()"
   ]
  },
  {
   "cell_type": "code",
   "execution_count": 20,
   "id": "b37b2bbb-9b70-43b3-8d02-10e412ae3474",
   "metadata": {},
   "outputs": [],
   "source": [
    "backend = service.backend(\"ibm_sherbrooke\")"
   ]
  },
  {
   "cell_type": "code",
   "execution_count": 21,
   "id": "276ecf43-68a6-4145-a818-8ff9f3c0f59d",
   "metadata": {},
   "outputs": [
    {
     "name": "stdout",
     "output_type": "stream",
     "text": [
      "['ecr', 'id', 'rz', 'sx', 'x']\n"
     ]
    }
   ],
   "source": [
    "print(backend.basis_gates)"
   ]
  },
  {
   "cell_type": "code",
   "execution_count": 5,
   "id": "c7cb42b8-7e9f-4b42-a6d2-b94916e50b6c",
   "metadata": {},
   "outputs": [
    {
     "name": "stdout",
     "output_type": "stream",
     "text": [
      "2585 191\n",
      "OrderedDict([('rz', 4466), ('sx', 2911), ('ecr', 1281), ('x', 364), ('measure', 20), ('barrier', 1)]) OrderedDict([('cx', 295), ('rz', 231), ('rx', 20), ('measure', 20), ('barrier', 1)])\n"
     ]
    }
   ],
   "source": [
    "eagle_circuit = transpile(bound_circuit, backend=backend, optimization_level=3)\n",
    "\n",
    "print(eagle_circuit.depth(), bound_circuit.depth())\n",
    "print(eagle_circuit.count_ops(), bound_circuit.count_ops())"
   ]
  },
  {
   "cell_type": "code",
   "execution_count": 23,
   "id": "856f2fd6-6507-4ce6-9ae2-ea361e07dcfc",
   "metadata": {},
   "outputs": [],
   "source": [
    "ost_operator = hamiltonian.get_sparse_pauli_operator()\n",
    "observable = cost_operator.apply_layout(eagle_circuit.layout)\n",
    "estimator = Estimator(backend=backend)"
   ]
  },
  {
   "cell_type": "code",
   "execution_count": 25,
   "id": "b4d7d307-0920-4b23-a1a3-c03196d46c2a",
   "metadata": {},
   "outputs": [],
   "source": [
    "job = estimator.run([(eagle_circuit, observable)])"
   ]
  },
  {
   "cell_type": "code",
   "execution_count": 29,
   "id": "ef5b433a-c6ee-46d1-915f-033d9eb5cd29",
   "metadata": {},
   "outputs": [
    {
     "name": "stdout",
     "output_type": "stream",
     "text": [
      "Job ID: crx7kt77wv80008fkzm0\n",
      "Job Status: QUEUED\n"
     ]
    }
   ],
   "source": [
    "print(f\"Job ID: {job.job_id()}\")\n",
    "print(f\"Job Status: {job.status()}\")"
   ]
  },
  {
   "cell_type": "code",
   "execution_count": 31,
   "id": "fb551b02-4ce2-417f-8a8f-132bfdcd8477",
   "metadata": {},
   "outputs": [
    {
     "name": "stdout",
     "output_type": "stream",
     "text": [
      "<IBMBackend('ibm_osaka')>\n"
     ]
    }
   ],
   "source": [
    "least_busy_backend = service.least_busy(operational=True, simulator=False)\n",
    "\n",
    "print(least_busy_backend)"
   ]
  },
  {
   "cell_type": "code",
   "execution_count": 46,
   "id": "4801ce40-03aa-486c-8b69-8f896b2a01d0",
   "metadata": {},
   "outputs": [
    {
     "name": "stdout",
     "output_type": "stream",
     "text": [
      "2539 191\n",
      "OrderedDict([('rz', 4546), ('sx', 2892), ('ecr', 1288), ('x', 405), ('measure', 20), ('barrier', 1)]) OrderedDict([('cx', 295), ('rz', 231), ('rx', 20), ('measure', 20), ('barrier', 1)])\n"
     ]
    }
   ],
   "source": [
    "sampler = Sampler(backend=backend)\n",
    "estimator = Estimator(backend=backend)\n",
    "eagle_circuit = transpile(bound_circuit, backend=backend, optimization_level=3)\n",
    "observable = cost_operator.apply_layout(eagle_circuit.layout)\n",
    "\n",
    "print(eagle_circuit.depth(), bound_circuit.depth())\n",
    "print(eagle_circuit.count_ops(), bound_circuit.count_ops())"
   ]
  },
  {
   "cell_type": "code",
   "execution_count": 49,
   "id": "51696b3d-2105-4b11-bfd2-039bf2039014",
   "metadata": {},
   "outputs": [],
   "source": [
    "sampler_job = sampler.run([eagle_circuit], shots=256)"
   ]
  },
  {
   "cell_type": "code",
   "execution_count": 43,
   "id": "ce708606-93f7-453c-9192-039ba2badd80",
   "metadata": {},
   "outputs": [
    {
     "name": "stderr",
     "output_type": "stream",
     "text": [
      "/home/lax/Desktop/FPQA-MAX3-SAT/.venv/lib/python3.10/site-packages/qiskit_ibm_runtime/qiskit_runtime_service.py:879: UserWarning: Your current pending jobs are estimated to consume 623.1034379365619 quantum seconds, but you only have 600 quantum seconds left in your monthly quota; therefore, it is likely this job will be canceled\n",
      "  warnings.warn(warning_message)\n"
     ]
    }
   ],
   "source": [
    "job = estimator.run([(eagle_circuit, observable)])"
   ]
  },
  {
   "cell_type": "code",
   "execution_count": 7,
   "id": "b965075e-a56d-4702-8f78-2bd2c01a9f29",
   "metadata": {},
   "outputs": [
    {
     "name": "stdout",
     "output_type": "stream",
     "text": [
      "(7.195686173181647e-12, 0.0001808796796848703, 152648674309, 6073)\n",
      "328\n"
     ]
    }
   ],
   "source": [
    "print(calculate_expected_fidelity(eagle_circuit, backend))\n",
    "print(calculate_swap_overhead(transpiled_circuit, eagle_circuit))"
   ]
  },
  {
   "cell_type": "code",
   "execution_count": 31,
   "id": "7f3cc752-757f-434f-92fe-398f4b6165a5",
   "metadata": {},
   "outputs": [
    {
     "name": "stdout",
     "output_type": "stream",
     "text": [
      ">>> Starting experiments with Problem: uf20-01.cnf ...\n",
      ">>> Parametrized circuit created, Depth: 1 ...\n",
      ">>> Transpiling parametrized circuit, Iteration: 0 ...\n",
      ">>> Transpiling parametrized circuit, Iteration: 1 ...\n",
      ">>> Starting experiments with Problem: uuf50-02.cnf ...\n",
      ">>> Parametrized circuit created, Depth: 1 ...\n",
      ">>> Transpiling parametrized circuit, Iteration: 0 ...\n"
     ]
    },
    {
     "name": "stderr",
     "output_type": "stream",
     "text": [
      "/home/ogz/Desktop/FPQA-MAX3-SAT/utils/circuit_utils.py:34: RuntimeWarning: divide by zero encountered in scalar divide\n",
      "  estimated_shots_without_decoherence = np.log(1 - DESIRED_SUCCESS_PROBABILITY) / np.log(1 - fidelity)\n",
      "/home/ogz/Desktop/FPQA-MAX3-SAT/utils/circuit_utils.py:35: RuntimeWarning: divide by zero encountered in scalar divide\n",
      "  estimated_shots = np.log(1 - DESIRED_SUCCESS_PROBABILITY) / np.log(1 - fidelity * decoherence_fidelity)\n",
      "/home/ogz/Desktop/FPQA-MAX3-SAT/utils/circuit_utils.py:48: RuntimeWarning: divide by zero encountered in scalar divide\n",
      "  estimated_shots = np.log(1 - DESIRED_SUCCESS_PROBABILITY) / np.log(1 - fidelity)\n"
     ]
    },
    {
     "name": "stdout",
     "output_type": "stream",
     "text": [
      ">>> Transpiling parametrized circuit, Iteration: 1 ...\n"
     ]
    },
    {
     "name": "stderr",
     "output_type": "stream",
     "text": [
      "/home/ogz/Desktop/FPQA-MAX3-SAT/utils/circuit_utils.py:34: RuntimeWarning: divide by zero encountered in scalar divide\n",
      "  estimated_shots_without_decoherence = np.log(1 - DESIRED_SUCCESS_PROBABILITY) / np.log(1 - fidelity)\n",
      "/home/ogz/Desktop/FPQA-MAX3-SAT/utils/circuit_utils.py:35: RuntimeWarning: divide by zero encountered in scalar divide\n",
      "  estimated_shots = np.log(1 - DESIRED_SUCCESS_PROBABILITY) / np.log(1 - fidelity * decoherence_fidelity)\n",
      "/home/ogz/Desktop/FPQA-MAX3-SAT/utils/circuit_utils.py:48: RuntimeWarning: divide by zero encountered in scalar divide\n",
      "  estimated_shots = np.log(1 - DESIRED_SUCCESS_PROBABILITY) / np.log(1 - fidelity)\n"
     ]
    },
    {
     "data": {
      "text/html": [
       "<div>\n",
       "<style scoped>\n",
       "    .dataframe tbody tr th:only-of-type {\n",
       "        vertical-align: middle;\n",
       "    }\n",
       "\n",
       "    .dataframe tbody tr th {\n",
       "        vertical-align: top;\n",
       "    }\n",
       "\n",
       "    .dataframe thead th {\n",
       "        text-align: right;\n",
       "    }\n",
       "</style>\n",
       "<table border=\"1\" class=\"dataframe\">\n",
       "  <thead>\n",
       "    <tr style=\"text-align: right;\">\n",
       "      <th></th>\n",
       "      <th>Name</th>\n",
       "      <th>Hardware</th>\n",
       "      <th>QAOA Depth</th>\n",
       "      <th>Average Circuit Depth</th>\n",
       "      <th>Ideal Fidelity</th>\n",
       "      <th>Ideal Estimated Shots</th>\n",
       "      <th>Fidelity with Decoherence</th>\n",
       "      <th>Estimated Shots with Decoherence for 2/3 Success Rate</th>\n",
       "      <th>Fidelity without Decoherence</th>\n",
       "      <th>Estimated Shots without Decoherence for 2/3 Success Rate</th>\n",
       "      <th>Average Swap Overhead</th>\n",
       "      <th>Average Number of Two Qubit Gates</th>\n",
       "      <th>Iterations</th>\n",
       "    </tr>\n",
       "  </thead>\n",
       "  <tbody>\n",
       "    <tr>\n",
       "      <th>0</th>\n",
       "      <td>uf20-01.cnf</td>\n",
       "      <td>ibm_sherbrooke</td>\n",
       "      <td>1</td>\n",
       "      <td>2437.5</td>\n",
       "      <td>6.437717e-07</td>\n",
       "      <td>1.843287e+06</td>\n",
       "      <td>1.072906e-11</td>\n",
       "      <td>4.070923e+11</td>\n",
       "      <td>0.000142</td>\n",
       "      <td>1.825479e+04</td>\n",
       "      <td>331</td>\n",
       "      <td>1287</td>\n",
       "      <td>2</td>\n",
       "    </tr>\n",
       "    <tr>\n",
       "      <th>1</th>\n",
       "      <td>uuf50-02.cnf</td>\n",
       "      <td>ibm_sherbrooke</td>\n",
       "      <td>1</td>\n",
       "      <td>9413.5</td>\n",
       "      <td>4.113517e-33</td>\n",
       "      <td>-inf</td>\n",
       "      <td>0.000000e+00</td>\n",
       "      <td>-inf</td>\n",
       "      <td>0.000000</td>\n",
       "      <td>-inf</td>\n",
       "      <td>1942</td>\n",
       "      <td>6708</td>\n",
       "      <td>2</td>\n",
       "    </tr>\n",
       "  </tbody>\n",
       "</table>\n",
       "</div>"
      ],
      "text/plain": [
       "           Name        Hardware  QAOA Depth  Average Circuit Depth  \\\n",
       "0   uf20-01.cnf  ibm_sherbrooke           1                 2437.5   \n",
       "1  uuf50-02.cnf  ibm_sherbrooke           1                 9413.5   \n",
       "\n",
       "   Ideal Fidelity  Ideal Estimated Shots  Fidelity with Decoherence  \\\n",
       "0    6.437717e-07           1.843287e+06               1.072906e-11   \n",
       "1    4.113517e-33                   -inf               0.000000e+00   \n",
       "\n",
       "   Estimated Shots with Decoherence for 2/3 Success Rate  \\\n",
       "0                                       4.070923e+11       \n",
       "1                                               -inf       \n",
       "\n",
       "   Fidelity without Decoherence  \\\n",
       "0                      0.000142   \n",
       "1                      0.000000   \n",
       "\n",
       "   Estimated Shots without Decoherence for 2/3 Success Rate  \\\n",
       "0                                       1.825479e+04          \n",
       "1                                               -inf          \n",
       "\n",
       "   Average Swap Overhead  Average Number of Two Qubit Gates  Iterations  \n",
       "0                    331                               1287           2  \n",
       "1                   1942                               6708           2  "
      ]
     },
     "execution_count": 31,
     "metadata": {},
     "output_type": "execute_result"
    }
   ],
   "source": [
    "experiment = SuperconductingExperiment(\"superconducting_1\", [\"uf20-01.cnf\", \"uuf50-02.cnf\"], backend)\n",
    "\n",
    "experiment.run(max_depth=1, max_iterations=2)"
   ]
  },
  {
   "cell_type": "code",
   "execution_count": 74,
   "id": "e3e946f1-65cd-40d8-b023-84f674aa2aa6",
   "metadata": {},
   "outputs": [
    {
     "name": "stdout",
     "output_type": "stream",
     "text": [
      "207\n",
      "[[0, 1], [0, 17], [17, 22], [1, 2], [2, 3], [3, 4], [4, 5], [4, 18], [18, 26], [5, 6], [6, 7], [7, 8], [8, 9], [8, 19], [19, 30], [9, 10], [10, 11], [11, 12], [12, 13], [12, 20], [20, 34], [13, 14], [14, 15], [15, 16], [16, 21], [21, 38], [22, 23], [23, 24], [24, 25], [24, 41], [41, 48], [25, 26], [26, 27], [27, 28], [28, 29], [28, 42], [42, 52], [29, 30], [30, 31], [31, 32], [32, 33], [32, 43], [43, 56], [33, 34], [34, 35], [35, 36], [36, 37], [36, 44], [44, 60], [37, 38], [38, 39], [39, 40], [40, 45], [45, 64], [46, 47], [46, 65], [65, 70], [47, 48], [48, 49], [49, 50], [50, 51], [50, 66], [66, 74], [51, 52], [52, 53], [53, 54], [54, 55], [54, 67], [67, 78], [55, 56], [56, 57], [57, 58], [58, 59], [58, 68], [68, 82], [59, 60], [60, 61], [61, 62], [62, 63], [62, 69], [69, 86], [63, 64], [70, 71], [71, 72], [72, 73], [72, 89], [89, 96], [73, 74], [74, 75], [75, 76], [76, 77], [76, 90], [90, 100], [77, 78], [78, 79], [79, 80], [80, 81], [80, 91], [91, 104], [81, 82], [82, 83], [83, 84], [84, 85], [84, 92], [92, 108], [85, 86], [86, 87], [87, 88], [88, 93], [93, 112], [94, 95], [94, 113], [113, 118], [95, 96], [96, 97], [97, 98], [98, 99], [98, 114], [114, 122], [99, 100], [100, 101], [101, 102], [102, 103], [102, 115], [115, 126], [103, 104], [104, 105], [105, 106], [106, 107], [106, 116], [116, 130], [107, 108], [108, 109], [109, 110], [110, 111], [110, 117], [117, 134], [111, 112], [118, 119], [119, 120], [120, 121], [120, 137], [137, 144], [121, 122], [122, 123], [123, 124], [124, 125], [124, 138], [138, 148], [125, 126], [126, 127], [127, 128], [128, 129], [128, 139], [139, 152], [129, 130], [130, 131], [131, 132], [132, 133], [132, 140], [140, 156], [133, 134], [134, 135], [135, 136], [136, 141], [141, 160], [142, 143], [142, 161], [161, 166], [143, 144], [144, 145], [145, 146], [146, 147], [146, 162], [162, 170], [147, 148], [148, 149], [149, 150], [150, 151], [150, 163], [163, 174], [151, 152], [152, 153], [153, 154], [154, 155], [154, 164], [164, 178], [155, 156], [156, 157], [157, 158], [158, 159], [158, 165], [165, 182], [159, 160], [166, 167], [167, 168], [168, 169], [168, 185], [185, 190], [169, 170], [170, 171], [171, 172], [172, 173], [172, 186], [186, 194], [173, 174], [174, 175], [175, 176], [176, 177], [176, 187], [187, 198], [177, 178], [178, 179], [179, 180], [180, 181], [180, 188], [188, 202], [181, 182], [182, 183], [183, 184], [184, 189], [189, 206], [190, 191], [191, 192], [192, 193], [193, 194], [194, 195], [195, 196], [196, 197], [197, 198], [198, 199], [199, 200], [200, 201], [201, 202], [202, 203], [203, 204], [204, 205], [205, 206]]\n",
      "InstructionProperties(duration=2e-10, error=0.005, calibration=None)\n",
      "['id', 'rz', 'sx', 'x', 'ecr', 'reset', 'delay', 'measure']\n"
     ]
    }
   ],
   "source": [
    "from utils.fake_backend import create_fake_heavy_hex_backend\n",
    "\n",
    "fake_backend = create_fake_heavy_hex_backend(8, 4)\n",
    "\n",
    "print(fake_backend.num_qubits)\n",
    "print(fake_backend.coupling_map)\n",
    "print(fake_backend.target[\"ecr\"][(0,1)])\n",
    "print(fake_backend.basis_gates)"
   ]
  },
  {
   "cell_type": "code",
   "execution_count": null,
   "id": "ced4e465-e74b-4520-ac3e-99077ecf4125",
   "metadata": {},
   "outputs": [],
   "source": []
  }
 ],
 "metadata": {
  "kernelspec": {
   "display_name": ".venv-fpqa",
   "language": "python",
   "name": ".venv-fpqa"
  },
  "language_info": {
   "codemirror_mode": {
    "name": "ipython",
    "version": 3
   },
   "file_extension": ".py",
   "mimetype": "text/x-python",
   "name": "python",
   "nbconvert_exporter": "python",
   "pygments_lexer": "ipython3",
   "version": "3.10.13"
  }
 },
 "nbformat": 4,
 "nbformat_minor": 5
}
