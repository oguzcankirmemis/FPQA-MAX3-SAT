{
 "cells": [
  {
   "cell_type": "code",
   "execution_count": 59,
   "id": "3d282b13-e6b4-4313-9797-cc3770261ad8",
   "metadata": {
    "scrolled": true
   },
   "outputs": [
    {
     "name": "stdout",
     "output_type": "stream",
     "text": [
      "The autoreload extension is already loaded. To reload it, use:\n",
      "  %reload_ext autoreload\n",
      "20 [[4, -18, 19], [3, 18, -5], [-5, -8, -15], [-20, 7, -16], [10, -13, -7], [-12, -9, 17], [17, 19, 5], [-16, 9, 15], [11, -5, -14], [18, -10, 13], [-3, 11, 12], [-6, -17, -8], [-18, 14, 1], [-19, -15, 10], [12, 18, -19], [-8, 4, 7], [-8, -9, 4], [7, 17, -15], [12, -7, -14], [-10, -11, 8], [2, -15, -11], [9, 6, 1], [-11, 20, -17], [9, -15, 13], [12, -7, -17], [-18, -2, 20], [20, 12, 4], [19, 11, 14], [-16, 18, -4], [-1, -17, -19], [-13, 15, 10], [-12, -14, -13], [12, -14, -7], [-7, 16, 10], [6, 10, 7], [20, 14, -16], [-19, 17, 11], [-7, 1, -20], [-5, 12, 15], [-4, -9, -13], [12, -11, -7], [-5, 19, -8], [1, 16, 17], [20, -14, -15], [13, -4, 10], [14, 7, 10], [-5, 9, 20], [10, 1, -19], [-16, -15, -1], [16, 3, -11], [-15, -10, 4], [4, -15, -3], [-10, -16, 11], [-8, 12, -5], [14, -6, 12], [1, 6, 11], [-13, -5, -1], [-7, -2, 12], [1, -20, 19], [-2, -13, -8], [15, 18, 4], [-11, 14, 9], [-6, -15, -2], [5, -12, -15], [-6, 17, 5], [-13, 5, -19], [20, -1, 14], [9, -17, 15], [-5, 19, -18], [-12, 8, -10], [-18, 14, -4], [15, -9, 13], [9, -5, -1], [10, -19, -14], [20, 9, 4], [-9, -2, 19], [-5, 13, -17], [2, -10, -18], [-18, 3, 11], [7, -9, 17], [-15, -6, -3], [-2, 3, -13], [12, 3, -2], [-2, -3, 17], [20, -15, -16], [-5, -17, -19], [-20, -18, 11], [-9, 1, -5], [-19, 9, 17], [12, -2, 17], [4, -16, -5], [], []]\n",
      "[(-3.0, 'ZIIIIIIIIIIIIIIIIIII', (0,)), (-1.0, 'ZIIIZIIIIIIIIIIIIIII', (0, 4)), (-2.0, 'ZIIIZIIIZIIIIIIIIIII', (0, 4, 8)), (1.0, 'ZIIIZIIIIIIIZIIIIIII', (0, 4, 12)), (-2.0, 'ZIIIIZIIIIIIIIIIIIII', (0, 5)), (-1.0, 'ZIIIIZIIZIIIIIIIIIII', (0, 5, 8)), (-1.0, 'ZIIIIZIIIIZIIIIIIIII', (0, 5, 10)), (1.0, 'ZIIIIIZIIIIIIIIIIIII', (0, 6)), (-1.0, 'ZIIIIIZIIIIIIIIIIIIZ', (0, 6, 19)), (1.0, 'ZIIIIIIIZIIIIIIIIIII', (0, 8)), (-1.0, 'ZIIIIIIIIZIIIIIIIIII', (0, 9)), (1.0, 'ZIIIIIIIIZIIIIIIIIZI', (0, 9, 18)), (-1.0, 'ZIIIIIIIIIZIIIIIIIII', (0, 10)), (-1.0, 'ZIIIIIIIIIIIZIIIIIII', (0, 12)), (1.0, 'ZIIIIIIIIIIIIZIIIZII', (0, 13, 17)), (1.0, 'ZIIIIIIIIIIIIZIIIIIZ', (0, 13, 19)), (-1.0, 'ZIIIIIIIIIIIIIZIIIII', (0, 14)), (1.0, 'ZIIIIIIIIIIIIIZZIIII', (0, 14, 15)), (-2.0, 'ZIIIIIIIIIIIIIIZIIII', (0, 15)), (-1.0, 'ZIIIIIIIIIIIIIIZZIII', (0, 15, 16)), (-2.0, 'ZIIIIIIIIIIIIIIIZIII', (0, 16)), (1.0, 'ZIIIIIIIIIIIIIIIZIZI', (0, 16, 18)), (1.0, 'ZIIIIIIIIIIIIIIIIZII', (0, 17)), (-1.0, 'ZIIIIIIIIIIIIIIIIIZI', (0, 18)), (1.0, 'ZIIIIIIIIIIIIIIIIIZZ', (0, 18, 19)), (3.0, 'ZIIIIIIIIIIIIIIIIIIZ', (0, 19)), (7.0, 'IZIIIIIIIIIIIIIIIIII', (1,)), (1.0, 'IZZIIIIIIIIIIIIIIIII', (1, 2)), (1.0, 'IZZIIIIIIIIZIIIIIIII', (1, 2, 11)), (-1.0, 'IZZIIIIIIIIIZIIIIIII', (1, 2, 12)), (-1.0, 'IZZIIIIIIIIIIIIIZIII', (1, 2, 16)), (-1.0, 'IZIIIZIIIIIIIIIIIIII', (1, 5)), (1.0, 'IZIIIZIIIIIIIIZIIIII', (1, 5, 14)), (-1.0, 'IZIIIIZIIIIIIIIIIIII', (1, 6)), (-1.0, 'IZIIIIZIIIIZIIIIIIII', (1, 6, 11)), (-1.0, 'IZIIIIIZIIIIIIIIIIII', (1, 7)), (1.0, 'IZIIIIIZIIIIZIIIIIII', (1, 7, 12)), (-1.0, 'IZIIIIIIZIIIIIIIIIII', (1, 8)), (-1.0, 'IZIIIIIIZIIIIIIIIIZI', (1, 8, 18)), (1.0, 'IZIIIIIIIZIIIIIIIIII', (1, 9)), (-1.0, 'IZIIIIIIIZIIIIIIIZII', (1, 9, 17)), (1.0, 'IZIIIIIIIIZIIIIIIIII', (1, 10)), (-1.0, 'IZIIIIIIIIZIIIZIIIII', (1, 10, 14)), (3.0, 'IZIIIIIIIIIZIIIIIIII', (1, 11)), (1.0, 'IZIIIIIIIIIZIIIIZIII', (1, 11, 16)), (-2.0, 'IZIIIIIIIIIIZIIIIIII', (1, 12)), (2.0, 'IZIIIIIIIIIIIIIIZIII', (1, 16)), (-1.0, 'IZIIIIIIIIIIIIIIIZIZ', (1, 17, 19)), (1.0, 'IZIIIIIIIIIIIIIIIIZI', (1, 18)), (1.0, 'IZIIIIIIIIIIIIIIIIIZ', (1, 19)), (-1.0, 'IIZIIIIIIIIIIIIIIIII', (2,)), (1.0, 'IIZZIIIIIIIIIIIIIIII', (2, 3)), (-1.0, 'IIZZIIIIIIIIIIZIIIII', (2, 3, 14)), (1.0, 'IIZIZIIIIIIIIIIIIIII', (2, 4)), (1.0, 'IIZIZIIIIIIIIIIIIZII', (2, 4, 17)), (-1.0, 'IIZIIZIIIIIIIIIIIIII', (2, 5)), (1.0, 'IIZIIZIIIIIIIIZIIIII', (2, 5, 14)), (1.0, 'IIZIIIIIIIZIIIIIIIII', (2, 10)), (1.0, 'IIZIIIIIIIZZIIIIIIII', (2, 10, 11)), (1.0, 'IIZIIIIIIIZIIIIZIIII', (2, 10, 15)), (1.0, 'IIZIIIIIIIZIIIIIIZII', (2, 10, 17)), (1.0, 'IIZIIIIIIIIIZIIIIIII', (2, 12)), (-2.0, 'IIZIIIIIIIIIIIZIIIII', (2, 14)), (-1.0, 'IIZIIIIIIIIIIIIZIIII', (2, 15)), (1.0, 'IIZIIIIIIIIIIIIIZIII', (2, 16)), (-5.0, 'IIIZIIIIIIIIIIIIIIII', (3,)), (1.0, 'IIIZZIIIIIIIIIIIIIII', (3, 4)), (-1.0, 'IIIZZIIIIIIIIIIZIIII', (3, 4, 15)), (-1.0, 'IIIZIIZIIIIIIIIIIIII', (3, 6)), (1.0, 'IIIZIIZZIIIIIIIIIIII', (3, 6, 7)), (2.0, 'IIIZIIIZIIIIIIIIIIII', (3, 7)), (-1.0, 'IIIZIIIZZIIIIIIIIIII', (3, 7, 8)), (-1.0, 'IIIZIIIIZIIIIIIIIIII', (3, 8)), (1.0, 'IIIZIIIIZIIIZIIIIIII', (3, 8, 12)), (-1.0, 'IIIZIIIIZIIIIIIIIIIZ', (3, 8, 19)), (2.0, 'IIIZIIIIIZIIIIIIIIII', (3, 9)), (1.0, 'IIIZIIIIIZIIZIIIIIII', (3, 9, 12)), (-1.0, 'IIIZIIIIIZIIIIZIIIII', (3, 9, 14)), (-1.0, 'IIIZIIIIIIIZIIIIIIII', (3, 11)), (-1.0, 'IIIZIIIIIIIZIIIIIIIZ', (3, 11, 19)), (1.0, 'IIIZIIIIIIIIIZIIIIII', (3, 13)), (-1.0, 'IIIZIIIIIIIIIZIIIZII', (3, 13, 17)), (1.0, 'IIIZIIIIIIIIIIZIIIII', (3, 14)), (-1.0, 'IIIZIIIIIIIIIIZIIZII', (3, 14, 17)), (-1.0, 'IIIZIIIIIIIIIIIZIZII', (3, 15, 17)), (1.0, 'IIIZIIIIIIIIIIIIIZZI', (3, 17, 18)), (-1.0, 'IIIZIIIIIIIIIIIIIIZI', (3, 18)), (-2.0, 'IIIZIIIIIIIIIIIIIIIZ', (3, 19)), (10.0, 'IIIIZIIIIIIIIIIIIIII', (4,)), (1.0, 'IIIIZZIIIIIIIIIIIIII', (4, 5)), (1.0, 'IIIIZZIIIIIIIIIIZIII', (4, 5, 16)), (-3.0, 'IIIIZIIZIIIIIIIIIIII', (4, 7)), (-1.0, 'IIIIZIIZIIIZIIIIIIII', (4, 7, 11)), (1.0, 'IIIIZIIZIIIIIIZIIIII', (4, 7, 14)), (-1.0, 'IIIIZIIZIIIIIIIIIIZI', (4, 7, 18)), (1.0, 'IIIIZIIIZIIIIIIIIIII', (4, 8)), (1.0, 'IIIIZIIIZIIIIIIIIIIZ', (4, 8, 19)), (1.0, 'IIIIZIIIIIZIIIIIIIII', (4, 10)), (-1.0, 'IIIIZIIIIIZIIZIIIIII', (4, 10, 13)), (3.0, 'IIIIZIIIIIIZIIIIIIII', (4, 11)), (1.0, 'IIIIZIIIIIIIZIIIIIII', (4, 12)), (-1.0, 'IIIIZIIIIIIIZIIIZIII', (4, 12, 16)), (-1.0, 'IIIIZIIIIIIIZIIIIIZI', (4, 12, 18)), (-1.0, 'IIIIZIIIIIIIIZIIIIII', (4, 13)), (1.0, 'IIIIZIIIIIIIIIZIIIII', (4, 14)), (-1.0, 'IIIIZIIIIIIIIIIZIIII', (4, 15)), (-4.0, 'IIIIZIIIIIIIIIIIZIII', (4, 16)), (-1.0, 'IIIIZIIIIIIIIIIIIZZI', (4, 17, 18)), (1.0, 'IIIIZIIIIIIIIIIIIIZI', (4, 18)), (1.0, 'IIIIZIIIIIIIIIIIIIIZ', (4, 19)), (2.0, 'IIIIIZIIIIIIIIIIIIII', (5,)), (-1.0, 'IIIIIZZIIIIIIIIIIIII', (5, 6)), (-1.0, 'IIIIIZZIIZIIIIIIIIII', (5, 6, 9)), (-1.0, 'IIIIIZIZIIIIIIIIIIII', (5, 7)), (1.0, 'IIIIIZIZIIIIIIIIZIII', (5, 7, 16)), (-1.0, 'IIIIIZIIZIIIIIIIIIII', (5, 8)), (-1.0, 'IIIIIZIIIZIIIIIIIIII', (5, 9)), (-1.0, 'IIIIIZIIIIZIIIIIIIII', (5, 10)), (1.0, 'IIIIIZIIIIIZIIIIIIII', (5, 11)), (1.0, 'IIIIIZIIIIIZIZIIIIII', (5, 11, 13)), (1.0, 'IIIIIZIIIIIIIZIIIIII', (5, 13)), (-2.0, 'IIIIIZIIIIIIIIZIIIII', (5, 14)), (2.0, 'IIIIIIZIIIIIIIIIIIII', (6,)), (1.0, 'IIIIIIZZIIIIIIIIIIII', (6, 7)), (1.0, 'IIIIIIZIZIIIIIIIIIII', (6, 8)), (1.0, 'IIIIIIZIZIIIIIIIZIII', (6, 8, 16)), (-1.0, 'IIIIIIZIIZIIZIIIIIII', (6, 9, 12)), (-1.0, 'IIIIIIZIIZIIIZIIIIII', (6, 9, 13)), (1.0, 'IIIIIIZIIZIIIIIZIIII', (6, 9, 15)), (-1.0, 'IIIIIIZIIIZIIIIIIIII', (6, 10)), (-1.0, 'IIIIIIZIIIZZIIIIIIII', (6, 10, 11)), (5.0, 'IIIIIIZIIIIZIIIIIIII', (6, 11)), (-2.0, 'IIIIIIZIIIIZIZIIIIII', (6, 11, 13)), (-1.0, 'IIIIIIZIIIIZIIIIZIII', (6, 11, 16)), (-1.0, 'IIIIIIZIIIIIZIIIIIII', (6, 12)), (-3.0, 'IIIIIIZIIIIIIZIIIIII', (6, 13)), (1.0, 'IIIIIIZIIIIIIIZIIIII', (6, 14)), (1.0, 'IIIIIIZIIIIIIIZIZIII', (6, 14, 16)), (2.0, 'IIIIIIZIIIIIIIIZIIII', (6, 15)), (-1.0, 'IIIIIIZIIIIIIIIZIIIZ', (6, 15, 19)), (-3.0, 'IIIIIIZIIIIIIIIIZIII', (6, 16)), (5.0, 'IIIIIIIZIIIIIIIIIIII', (7,)), (-1.0, 'IIIIIIIZZIIIIIIIIIII', (7, 8)), (2.0, 'IIIIIIIZIZIIIIIIIIII', (7, 9)), (-1.0, 'IIIIIIIZIZZIIIIIIIII', (7, 9, 10)), (-1.0, 'IIIIIIIZIZIZIIIIIIII', (7, 9, 11)), (1.0, 'IIIIIIIZIIZIIIIIIIII', (7, 10)), (2.0, 'IIIIIIIZIIIZIIIIIIII', (7, 11)), (-1.0, 'IIIIIIIZIIIIZIIIIIII', (7, 12)), (-1.0, 'IIIIIIIZIIIIIIZIIIII', (7, 14)), (-1.0, 'IIIIIIIZIIIIIIIIZIII', (7, 16)), (1.0, 'IIIIIIIZIIIIIIIIIIZI', (7, 18)), (-2.0, 'IIIIIIIIZIIIIIIIIIII', (8,)), (1.0, 'IIIIIIIIZIZIIIIIIIII', (8, 10)), (1.0, 'IIIIIIIIZIZIIZIIIIII', (8, 10, 13)), (-1.0, 'IIIIIIIIZIIZIIIIIIII', (8, 11)), (-1.0, 'IIIIIIIIZIIZIIIIZIII', (8, 11, 16)), (-1.0, 'IIIIIIIIZIIIZIIIIIII', (8, 12)), (2.0, 'IIIIIIIIZIIIZIZIIIII', (8, 12, 14)), (-1.0, 'IIIIIIIIZIIIIZIIIIII', (8, 13)), (1.0, 'IIIIIIIIZIIIIIZZIIII', (8, 14, 15)), (1.0, 'IIIIIIIIZIIIIIZIZIII', (8, 14, 16)), (1.0, 'IIIIIIIIZIIIIIIZIIII', (8, 15)), (2.0, 'IIIIIIIIZIIIIIIIZIII', (8, 16)), (1.0, 'IIIIIIIIZIIIIIIIZIZI', (8, 16, 18)), (2.0, 'IIIIIIIIZIIIIIIIIIZI', (8, 18)), (-2.0, 'IIIIIIIIZIIIIIIIIIIZ', (8, 19)), (-3.0, 'IIIIIIIIIZIIIIIIIIII', (9,)), (-1.0, 'IIIIIIIIIZZIIIIZIIII', (9, 10, 15)), (-1.0, 'IIIIIIIIIZIZIIIIIIII', (9, 11)), (2.0, 'IIIIIIIIIZIIZIIIIIII', (9, 12)), (1.0, 'IIIIIIIIIZIIZIZIIIII', (9, 12, 14)), (1.0, 'IIIIIIIIIZIIZIIIIZII', (9, 12, 17)), (-1.0, 'IIIIIIIIIZIIIZIIIIZI', (9, 13, 18)), (-1.0, 'IIIIIIIIIZIIIIZIIIII', (9, 14)), (-1.0, 'IIIIIIIIIZIIIIZIIIZI', (9, 14, 18)), (-2.0, 'IIIIIIIIIZIIIIIZIIII', (9, 15)), (3.0, 'IIIIIIIIIZIIIIIIIIZI', (9, 18)), (-2.0, 'IIIIIIIIIIZIIIIIIIII', (10,)), (1.0, 'IIIIIIIIIIZIIZIIIIII', (10, 13)), (-1.0, 'IIIIIIIIIIZIIZIIIIZI', (10, 13, 18)), (-1.0, 'IIIIIIIIIIZIIIZIIIII', (10, 14)), (2.0, 'IIIIIIIIIIZIIIIZIIII', (10, 15)), (-2.0, 'IIIIIIIIIIZIIIIIZIII', (10, 16)), (1.0, 'IIIIIIIIIIZIIIIIZIZI', (10, 16, 18)), (-1.0, 'IIIIIIIIIIZIIIIIZIIZ', (10, 16, 19)), (2.0, 'IIIIIIIIIIZIIIIIIZII', (10, 17)), (-1.0, 'IIIIIIIIIIZIIIIIIZIZ', (10, 17, 19)), (2.0, 'IIIIIIIIIIZIIIIIIIIZ', (10, 19)), (-9.0, 'IIIIIIIIIIIZIIIIIIII', (11,)), (-1.0, 'IIIIIIIIIIIZZIIIIIII', (11, 12)), (1.0, 'IIIIIIIIIIIZZZIIIIII', (11, 12, 13)), (-2.0, 'IIIIIIIIIIIZIIZIIIII', (11, 14)), (1.0, 'IIIIIIIIIIIZIIIIZIII', (11, 16)), (-1.0, 'IIIIIIIIIIIZIIIIIZII', (11, 17)), (1.0, 'IIIIIIIIIIIZIIIIIZZI', (11, 17, 18)), (1.0, 'IIIIIIIIIIIZIIIIIIZI', (11, 18)), (-1.0, 'IIIIIIIIIIIZIIIIIIIZ', (11, 19)), (3.0, 'IIIIIIIIIIIIZIIIIIII', (12,)), (-1.0, 'IIIIIIIIIIIIZZIIIIII', (12, 13)), (1.0, 'IIIIIIIIIIIIZIZIIIII', (12, 14)), (1.0, 'IIIIIIIIIIIIZIIIZIII', (12, 16)), (-1.0, 'IIIIIIIIIIIIZIIIIZII', (12, 17)), (-1.0, 'IIIIIIIIIIIIZIIIIIZI', (12, 18)), (-2.0, 'IIIIIIIIIIIIIZIIIIII', (13,)), (-1.0, 'IIIIIIIIIIIIIZZIIIII', (13, 14)), (-1.0, 'IIIIIIIIIIIIIZZIIIIZ', (13, 14, 19)), (1.0, 'IIIIIIIIIIIIIZIZIIII', (13, 15)), (1.0, 'IIIIIIIIIIIIIZIZIIIZ', (13, 15, 19)), (2.0, 'IIIIIIIIIIIIIZIIIZII', (13, 17)), (-2.0, 'IIIIIIIIIIIIIZIIIIZI', (13, 18)), (-1.0, 'IIIIIIIIIIIIIZIIIIIZ', (13, 19)), (7.0, 'IIIIIIIIIIIIIIZIIIII', (14,)), (-1.0, 'IIIIIIIIIIIIIIZZIIII', (14, 15)), (-1.0, 'IIIIIIIIIIIIIIZZIIIZ', (14, 15, 19)), (2.0, 'IIIIIIIIIIIIIIZIZIII', (14, 16)), (-1.0, 'IIIIIIIIIIIIIIZIIZII', (14, 17)), (-1.0, 'IIIIIIIIIIIIIIZIIIZI', (14, 18)), (2.0, 'IIIIIIIIIIIIIIZIIIIZ', (14, 19)), (5.0, 'IIIIIIIIIIIIIIIZIIII', (15,)), (-1.0, 'IIIIIIIIIIIIIIIZZIII', (15, 16)), (1.0, 'IIIIIIIIIIIIIIIZIZII', (15, 17)), (1.0, 'IIIIIIIIIIIIIIIZIIIZ', (15, 19)), (-3.0, 'IIIIIIIIIIIIIIIIZIII', (16,)), (-1.0, 'IIIIIIIIIIIIIIIIZIZI', (16, 18)), (1.0, 'IIIIIIIIIIIIIIIIZIIZ', (16, 19)), (3.0, 'IIIIIIIIIIIIIIIIIZII', (17,)), (3.0, 'IIIIIIIIIIIIIIIIIZZI', (17, 18)), (2.0, 'IIIIIIIIIIIIIIIIIIZI', (18,)), (1.0, 'IIIIIIIIIIIIIIIIIIZZ', (18, 19)), (-5.0, 'IIIIIIIIIIIIIIIIIIIZ', (19,))] 231\n"
     ]
    }
   ],
   "source": [
    "%load_ext autoreload\n",
    "%autoreload 2\n",
    "\n",
    "from utils.hamiltonians import Max3satHamiltonian\n",
    "from utils.qaoa import QAOA\n",
    "from qiskit import transpile\n",
    "from qiskit.circuit import QuantumCircuit, Parameter\n",
    "\n",
    "hamiltonian = Max3satHamiltonian(\"./instances/uf20-01.cnf\")\n",
    "\n",
    "print(hamiltonian.formula.nv, hamiltonian.formula.clauses)\n",
    "print(hamiltonian.get_pauli_list(), len(hamiltonian.get_pauli_list()))"
   ]
  },
  {
   "cell_type": "code",
   "execution_count": 63,
   "id": "8241eb8a-fed7-49ca-b945-427654cfbbc5",
   "metadata": {
    "scrolled": true
   },
   "outputs": [
    {
     "name": "stdout",
     "output_type": "stream",
     "text": [
      "233\n"
     ]
    }
   ],
   "source": [
    "basis_gates = [\"rx\", \"rz\", \"x\", \"y\", \"z\", \"h\", \"id\", \"cz\"]\n",
    "depth = 1\n",
    "qaoa = QAOA(hamiltonian)\n",
    "parameter = Parameter(\"phi\")\n",
    "qaoa_circuit, cost_params, mixer_params = qaoa.naive_qaoa_circuit(depth)\n",
    "bound_circuit = qaoa_circuit.assign_parameters({cost_params: [1 for param in cost_params], mixer_params: [1 for param in mixer_params]})\n",
    "transpiled_circuit = transpile(bound_circuit, basis_gates=basis_gates, optimization_level=3)\n",
    "\n",
    "print(transpiled_circuit.depth())"
   ]
  },
  {
   "cell_type": "code",
   "execution_count": 18,
   "id": "fa2f0aa8-011f-4f38-aa40-90e971cd6a21",
   "metadata": {},
   "outputs": [
    {
     "name": "stdout",
     "output_type": "stream",
     "text": [
      "SparsePauliOp(['IZI'],\n",
      "              coeffs=[-1.+0.j])\n",
      "                                           \n",
      "q_0: ──■────────────────────────────────■──\n",
      "       │           ┌───┐┌───────┐┌───┐  │  \n",
      "q_1: ──■───────────┤ X ├┤ Rz(π) ├┤ X ├──■──\n",
      "     ┌─┴─┐┌───────┐└─┬─┘└───────┘└─┬─┘┌─┴─┐\n",
      "q_2: ┤ X ├┤ Rz(π) ├──■─────────────■──┤ X ├\n",
      "     └───┘└───────┘                   └───┘\n"
     ]
    }
   ],
   "source": [
    "from qiskit.circuit import QuantumCircuit\n",
    "from qiskit.quantum_info import Operator, SparsePauliOp\n",
    "import numpy as np\n",
    "\n",
    "circuit = QuantumCircuit(3)\n",
    "circuit.ccx(0, 1, 2)\n",
    "circuit.rz(np.pi, 2)\n",
    "circuit.cx(2, 1)\n",
    "circuit.rz(np.pi, 1)\n",
    "circuit.cx(2, 1)\n",
    "circuit.ccx(0, 1, 2)\n",
    "operator = SparsePauliOp.from_operator(Operator(circuit).data)\n",
    "\n",
    "print(operator)\n",
    "print(circuit.draw())"
   ]
  },
  {
   "cell_type": "code",
   "execution_count": null,
   "id": "b37b2bbb-9b70-43b3-8d02-10e412ae3474",
   "metadata": {},
   "outputs": [],
   "source": []
  }
 ],
 "metadata": {
  "kernelspec": {
   "display_name": ".venv-fpqa",
   "language": "python",
   "name": ".venv-fpqa"
  },
  "language_info": {
   "codemirror_mode": {
    "name": "ipython",
    "version": 3
   },
   "file_extension": ".py",
   "mimetype": "text/x-python",
   "name": "python",
   "nbconvert_exporter": "python",
   "pygments_lexer": "ipython3",
   "version": "3.11.8"
  }
 },
 "nbformat": 4,
 "nbformat_minor": 5
}
