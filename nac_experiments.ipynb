{
 "cells": [
  {
   "cell_type": "code",
   "execution_count": 28,
   "id": "e4806844-601b-4858-8121-a46ada70575d",
   "metadata": {},
   "outputs": [
    {
     "name": "stdout",
     "output_type": "stream",
     "text": [
      "The autoreload extension is already loaded. To reload it, use:\n",
      "  %reload_ext autoreload\n",
      "SparsePauliOp(['ZII', 'ZIZ', 'ZZI', 'ZZZ'],\n",
      "              coeffs=[0.-0.5j, 0.+0.5j, 0.-0.5j, 0.-0.5j])\n"
     ]
    }
   ],
   "source": [
    "%load_ext autoreload\n",
    "%autoreload 2\n",
    "    \n",
    "from qiskit import QuantumCircuit, transpiler\n",
    "from qiskit.quantum_info import SparsePauliOp\n",
    "from qiskit.quantum_info.operators import Operator\n",
    "import numpy as np\n",
    "\n",
    "circuit = QuantumCircuit(3)\n",
    "circuit.x(0)\n",
    "circuit.ccx(0, 1, 2)\n",
    "circuit.rz(np.pi, 2)\n",
    "circuit.ccx(0, 1, 2)\n",
    "circuit.x(0)\n",
    "\n",
    "circuit.draw()\n",
    "pauli_op = SparsePauliOp.from_operator(Operator(circuit))\n",
    "\n",
    "print(pauli_op)"
   ]
  },
  {
   "cell_type": "code",
   "execution_count": 115,
   "id": "176417d9-d712-4fc9-b7c6-d2c28e64e894",
   "metadata": {},
   "outputs": [
    {
     "name": "stdout",
     "output_type": "stream",
     "text": [
      "[<nac.atom.Atom object at 0x7ff9b467ffd0>, <nac.atom.Atom object at 0x7ff9b467c580>, <nac.atom.Atom object at 0x7ff9b467f3a0>]\n",
      "1\n",
      "2\n",
      "3\n"
     ]
    },
    {
     "data": {
      "text/plain": [
       "(46.57087232169566, 7.660363636363637, 11.781090909090912, 1477832.512315271)"
      ]
     },
     "execution_count": 115,
     "metadata": {},
     "output_type": "execute_result"
    }
   ],
   "source": [
    "from nac.slm.triangular_layout import TriangularLayout\n",
    "from nac.aod import AOD\n",
    "from nac.fpqa import FPQA\n",
    "from nac.atom import Atom\n",
    "from nac.color_executor import ColorExecutor\n",
    "\n",
    "curr_aod_row, curr_aod_col = 0, 0\n",
    "curr_slm_row, curr_slm_col = 1, 0\n",
    "atoms = []\n",
    "for atom in range(3):\n",
    "    if atom % 3 == 0:\n",
    "        atoms.append(Atom(atom, True, curr_slm_row, curr_slm_col))\n",
    "        curr_slm_col += 1\n",
    "    else:\n",
    "        atoms.append(Atom(atom, False, curr_aod_row, curr_aod_col))\n",
    "        curr_aod_col += 1\n",
    "    \n",
    "color_map = [[(1, 2, 3)]]\n",
    "slm_layout = TriangularLayout(FPQA.INTERACTION_RADIUS, 2, 2)\n",
    "aod_layout = AOD(FPQA.INTERACTION_RADIUS, 1, 2)\n",
    "fpqa = FPQA(slm_layout, aod_layout, atoms)\n",
    "color_executor = ColorExecutor(color_map, fpqa)\n",
    "print(fpqa.atoms)\n",
    "\n",
    "color_executor.execute_row_aligned_color(0, np.pi)"
   ]
  },
  {
   "cell_type": "code",
   "execution_count": null,
   "id": "53633522-3021-44af-93be-867be983fb57",
   "metadata": {},
   "outputs": [],
   "source": []
  }
 ],
 "metadata": {
  "kernelspec": {
   "display_name": ".venv-fpqa",
   "language": "python",
   "name": ".venv-fpqa"
  },
  "language_info": {
   "codemirror_mode": {
    "name": "ipython",
    "version": 3
   },
   "file_extension": ".py",
   "mimetype": "text/x-python",
   "name": "python",
   "nbconvert_exporter": "python",
   "pygments_lexer": "ipython3",
   "version": "3.10.13"
  }
 },
 "nbformat": 4,
 "nbformat_minor": 5
}
